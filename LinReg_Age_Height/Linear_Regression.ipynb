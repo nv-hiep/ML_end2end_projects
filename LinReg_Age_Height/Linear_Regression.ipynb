{
  "nbformat": 4,
  "nbformat_minor": 0,
  "metadata": {
    "colab": {
      "name": "Linear_Regression.ipynb",
      "provenance": [],
      "collapsed_sections": []
    },
    "kernelspec": {
      "name": "python3",
      "display_name": "Python 3"
    }
  },
  "cells": [
    {
      "cell_type": "markdown",
      "metadata": {
        "id": "q56jdzPlPtU8"
      },
      "source": [
        "# **Linear Regression Using Python and Scikit-learn**\n",
        "\n",
        "\n",
        "Table of Contents:\n",
        "\n",
        "1. Simple linear regression vs multiple linear regression\n",
        "2. Dataset\n",
        "3. Reading dataset\n",
        "4. Handling categorical variables\n",
        "5. Splitting data\n",
        "7. Applying model\n",
        "\n"
      ]
    },
    {
      "cell_type": "markdown",
      "metadata": {
        "id": "1w1C2R3IRAdQ"
      },
      "source": [
        "# Simple linear regression vs multiple linear regression\n",
        "\n",
        "A. What is difference between simple linear and multiple linear regressions?\n",
        "\n",
        "1.   Simple linear regression has only one X and one Y variable. For instance, predicting house price (Y) based on the size of the house (X) is a simple linear regression.\n",
        "\n",
        "2.   Multiple linear regression has one Y and two or more X variables. For instance, predicting house price (Y) based on the size of the house ($X_1$), distance to the CBD ($X_2$), number of bed rooms ($X_3$), number of bathrooms ($X_4$) etc. is a multiple linear regression.\n",
        "\n",
        "\n",
        "\n",
        "\n"
      ]
    },
    {
      "cell_type": "markdown",
      "metadata": {
        "id": "kEzqNTGW4m8d"
      },
      "source": [
        "B. **Independent and dependent variables**:\n",
        "\n",
        "1. \"Xs\" are called **Independent Variables**. An Independent Variable is a variable that stands alone and is unchanged by the other variables you are trying to measure.\n",
        "\n",
        "2. \"Y\" is called **Dependent Variables**. A dependent variable is a variable that depends on other factors.\n",
        "\n",
        "\n",
        "**Independent Variables** causes a change in **Dependent Variables** and it isn't possible that causes a change in **Dependent Variables** could cause a change in **Independent Variables**.\n",
        "\n",
        "- For example:\n",
        "\n",
        "> - (Time Spent Studying) causes a change in (Test Score) and it isn't possible that (Test Score) could cause a change in (Time Spent Studying).\n",
        "\n",
        "> - We see that \"Time Spent Studying\" must be the **independent variable** and \"Test Score\" must be the **dependent variable** because the sentence doesn't make sense the other way around."
      ]
    },
    {
      "cell_type": "markdown",
      "metadata": {
        "id": "idVCq8Zm5j8b"
      },
      "source": [
        "C. **Simple Linear Regression**\n",
        "\n",
        "- If **X** is the independent variable (or independent feature) - size of the house and **Y** is the dependent variable (or dependent feature) - house price. The size of house increases then price also increases.\n",
        "\n",
        "Equation:\n",
        "\n",
        "$Y = aX + b$\n",
        "\n",
        "or in this example: $price = a \\times Size + b$\n",
        "\n",
        "where, \"a\" is slop on that intercept and \"b\" is an intercept.\n",
        "\n",
        "Slop: indicates that with the unit increases \"X\", then what will be the unit increases in \"Y\".\n",
        "\n",
        "Intercept: indicates the value of \"Y\" when X = 0.\n",
        "\n",
        "\n",
        "\n",
        "![Linear-Regression.png](data:image/png;base64,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)\n",
        "Credit: Automate Intellect – AI Blog"
      ]
    },
    {
      "cell_type": "markdown",
      "metadata": {
        "id": "l1KZkkXg9ZCu"
      },
      "source": [
        "D. **Multiple Linear Regression**\n",
        "\n",
        "The dependent variable \"Y\" depends on multiple independent variable \"Xs\".\n",
        "\n",
        "E.g: The price of the house depends on many independent features, such as the size of the house, number of bed rooms, distance to the CBD, condition of the house etc.\n",
        "\n",
        "Equation:\n",
        "\n",
        "$Y = A_1X_1 + A_2X_2 + A_3X_3 + A_4X_4 + B$\n",
        "\n",
        "in our example:\n",
        "\n",
        "$Price = A_1 \\times Size + A_2 \\times Distance + A_3 \\times Number~of~bed~rooms + A_4 \\times Condition + B$"
      ]
    },
    {
      "cell_type": "markdown",
      "metadata": {
        "id": "z7slQ9Y9f7Sr"
      },
      "source": [
        "# Import Libraries"
      ]
    },
    {
      "cell_type": "code",
      "metadata": {
        "id": "pLXcM68QdTTR",
        "colab": {
          "base_uri": "https://localhost:8080/"
        },
        "outputId": "e56ef3ef-1ea1-4742-f0ed-6eaf8e0d272d"
      },
      "source": [
        "# Python ≥3.5 is required\n",
        "import sys\n",
        "assert sys.version_info >= (3, 5)\n",
        "\n",
        "# Scikit-Learn ≥0.20 is required\n",
        "import sklearn\n",
        "assert sklearn.__version__ >= '0.20'\n",
        "\n",
        "try:\n",
        "    # %tensorflow_version only exists in Colab.\n",
        "    %tensorflow_version 2.x\n",
        "    IS_COLAB = True\n",
        "except Exception:\n",
        "    IS_COLAB = False\n",
        "\n",
        "# TensorFlow ≥2.0 is required\n",
        "import tensorflow as tf\n",
        "from tensorflow import keras\n",
        "assert tf.__version__ >= '2.0'\n",
        "\n",
        "if not tf.config.list_physical_devices('GPU'):\n",
        "    print('No GPU was detected. LSTMs and CNNs can be very slow without a GPU.')\n",
        "    if IS_COLAB:\n",
        "        print('Go to Runtime > Change runtime and select a GPU hardware accelerator.')\n",
        "\n",
        "# Common imports\n",
        "import os\n",
        "import shutil\n",
        "import itertools\n",
        "import glob\n",
        "import string\n",
        "import pickle\n",
        "\n",
        "import numpy as np\n",
        "import matplotlib.image as mpimg\n",
        "import pandas as pd\n",
        "\n",
        "from tqdm import tqdm\n",
        "from time import time\n",
        "from PIL import Image\n",
        "from datetime import date\n",
        "\n",
        "\n",
        "# to make this notebook's output stable across runs\n",
        "np.random.seed(42)\n",
        "tf.random.set_seed(42)\n",
        "\n",
        "# To plot pretty figures\n",
        "%matplotlib inline\n",
        "import matplotlib as mpl\n",
        "import matplotlib.pyplot as plt\n",
        "import seaborn as sns\n",
        "\n",
        "# mpl.rc('axes', labelsize=14)\n",
        "# mpl.rc('xtick', labelsize=12)\n",
        "# mpl.rc('ytick', labelsize=12)"
      ],
      "execution_count": 1,
      "outputs": [
        {
          "output_type": "stream",
          "name": "stdout",
          "text": [
            "No GPU was detected. LSTMs and CNNs can be very slow without a GPU.\n",
            "Go to Runtime > Change runtime and select a GPU hardware accelerator.\n"
          ]
        }
      ]
    },
    {
      "cell_type": "markdown",
      "metadata": {
        "id": "BVhoD8seDk4x"
      },
      "source": [
        "# 2. Connect to Google Drive"
      ]
    },
    {
      "cell_type": "code",
      "metadata": {
        "id": "srBiJiFEaKl1",
        "colab": {
          "base_uri": "https://localhost:8080/"
        },
        "outputId": "5e59e858-5c9d-4bf5-aa67-65490caa8ffe"
      },
      "source": [
        "# Check if NVIDIA GPU is enabled\n",
        "!nvidia-smi"
      ],
      "execution_count": 2,
      "outputs": [
        {
          "output_type": "stream",
          "name": "stdout",
          "text": [
            "NVIDIA-SMI has failed because it couldn't communicate with the NVIDIA driver. Make sure that the latest NVIDIA driver is installed and running.\n",
            "\n"
          ]
        }
      ]
    },
    {
      "cell_type": "code",
      "metadata": {
        "id": "PjjcQSpya_FR",
        "colab": {
          "base_uri": "https://localhost:8080/"
        },
        "outputId": "32e00ce2-0efd-46cc-8c78-ac951303dfdb"
      },
      "source": [
        "from google.colab import drive\n",
        "drive.mount('/content/gdrive')\n",
        "!ls"
      ],
      "execution_count": 3,
      "outputs": [
        {
          "output_type": "stream",
          "name": "stdout",
          "text": [
            "Mounted at /content/gdrive\n",
            "gdrive\tsample_data\n"
          ]
        }
      ]
    },
    {
      "cell_type": "code",
      "metadata": {
        "id": "iYM4wmy-cFlK"
      },
      "source": [
        "# %cd /content/gdrive/My Drive/\n",
        "%cd /content/gdrive/My Drive/Colab Notebooks/MachineLearning/\n",
        "!ls"
      ],
      "execution_count": null,
      "outputs": []
    },
    {
      "cell_type": "code",
      "metadata": {
        "colab": {
          "base_uri": "https://localhost:8080/"
        },
        "id": "oljDNo3zFO-z",
        "outputId": "0c85c91e-d9a3-4c22-a958-c2323a31e208"
      },
      "source": [
        "! pwd"
      ],
      "execution_count": 5,
      "outputs": [
        {
          "output_type": "stream",
          "name": "stdout",
          "text": [
            "/content/gdrive/My Drive/Colab Notebooks/MachineLearning\n"
          ]
        }
      ]
    },
    {
      "cell_type": "markdown",
      "metadata": {
        "id": "o86-F-QZFqjU"
      },
      "source": [
        "# Paths to Data Directories"
      ]
    },
    {
      "cell_type": "code",
      "metadata": {
        "id": "ynr1SMD4FOSs"
      },
      "source": [
        "PROJECT_PATH = '/content/gdrive/My Drive/Colab Notebooks/MachineLearning'\n",
        "DATA_PATH    = os.path.join( PROJECT_PATH, 'data' )"
      ],
      "execution_count": 6,
      "outputs": []
    },
    {
      "cell_type": "markdown",
      "metadata": {
        "id": "4jSrL_zxn9tF"
      },
      "source": [
        "# Load data"
      ]
    },
    {
      "cell_type": "markdown",
      "metadata": {
        "id": "YqpdrcGqxcZ_"
      },
      "source": [
        "## Training data"
      ]
    },
    {
      "cell_type": "code",
      "metadata": {
        "id": "arj9VLeXzxKM"
      },
      "source": [
        "pd.set_option('display.max_columns', None)"
      ],
      "execution_count": 7,
      "outputs": []
    },
    {
      "cell_type": "code",
      "metadata": {
        "id": "MIoewlRCD0MI"
      },
      "source": [
        "data_file = os.path.join(DATA_PATH, 'AgesAndHeights.pkl')\n",
        "df = pd.read_pickle(data_file)\n",
        "# ages = data['Age']\n",
        "# data = data[ages > 0]\n",
        "# ages = data['Age'].tolist()\n",
        "# heights = data['Height'].tolist()"
      ],
      "execution_count": 22,
      "outputs": []
    },
    {
      "cell_type": "code",
      "metadata": {
        "colab": {
          "base_uri": "https://localhost:8080/",
          "height": 172
        },
        "id": "kF5tskvGoW4N",
        "outputId": "c3f307ac-4147-4ece-8fb1-35f1e3964515"
      },
      "source": [
        "df.head(4)"
      ],
      "execution_count": 23,
      "outputs": [
        {
          "output_type": "execute_result",
          "data": {
            "text/html": [
              "<div>\n",
              "<style scoped>\n",
              "    .dataframe tbody tr th:only-of-type {\n",
              "        vertical-align: middle;\n",
              "    }\n",
              "\n",
              "    .dataframe tbody tr th {\n",
              "        vertical-align: top;\n",
              "    }\n",
              "\n",
              "    .dataframe thead th {\n",
              "        text-align: right;\n",
              "    }\n",
              "</style>\n",
              "<table border=\"1\" class=\"dataframe\">\n",
              "  <thead>\n",
              "    <tr style=\"text-align: right;\">\n",
              "      <th></th>\n",
              "      <th>Age</th>\n",
              "      <th>Height</th>\n",
              "    </tr>\n",
              "  </thead>\n",
              "  <tbody>\n",
              "    <tr>\n",
              "      <th>0</th>\n",
              "      <td>14.767874</td>\n",
              "      <td>59.627484</td>\n",
              "    </tr>\n",
              "    <tr>\n",
              "      <th>1</th>\n",
              "      <td>3.107671</td>\n",
              "      <td>36.146453</td>\n",
              "    </tr>\n",
              "    <tr>\n",
              "      <th>2</th>\n",
              "      <td>7.266917</td>\n",
              "      <td>46.912878</td>\n",
              "    </tr>\n",
              "    <tr>\n",
              "      <th>3</th>\n",
              "      <td>1.815180</td>\n",
              "      <td>29.125660</td>\n",
              "    </tr>\n",
              "  </tbody>\n",
              "</table>\n",
              "</div>"
            ],
            "text/plain": [
              "         Age     Height\n",
              "0  14.767874  59.627484\n",
              "1   3.107671  36.146453\n",
              "2   7.266917  46.912878\n",
              "3   1.815180  29.125660"
            ]
          },
          "metadata": {},
          "execution_count": 23
        }
      ]
    },
    {
      "cell_type": "code",
      "metadata": {
        "colab": {
          "base_uri": "https://localhost:8080/",
          "height": 268
        },
        "id": "1fIsnNfLBs07",
        "outputId": "d7d047d4-09ad-4d66-e5da-679bbc8af6e0"
      },
      "source": [
        "plt.plot(df['Age'], df['Height'], 'bo')\n",
        "plt.show()"
      ],
      "execution_count": 24,
      "outputs": [
        {
          "output_type": "display_data",
          "data": {
            "image/png": "[encoded data removed]",
            "text/plain": [
              "<Figure size 432x288 with 1 Axes>"
            ]
          },
          "metadata": {
            "needs_background": "light"
          }
        }
      ]
    },
    {
      "cell_type": "code",
      "metadata": {
        "colab": {
          "base_uri": "https://localhost:8080/"
        },
        "id": "gbhicovIPFgt",
        "outputId": "fca6f4b2-2c04-492d-ca4c-7610f3f0e858"
      },
      "source": [
        "# Number of rows and columns (rows, cols)\n",
        "df.shape"
      ],
      "execution_count": 25,
      "outputs": [
        {
          "output_type": "execute_result",
          "data": {
            "text/plain": [
              "(100, 2)"
            ]
          },
          "metadata": {},
          "execution_count": 25
        }
      ]
    },
    {
      "cell_type": "code",
      "metadata": {
        "colab": {
          "base_uri": "https://localhost:8080/"
        },
        "id": "AiLiyM4-QIKe",
        "outputId": "b56674c7-2f4c-4950-8199-02af2212f922"
      },
      "source": [
        "# Print feature names\n",
        "df.columns"
      ],
      "execution_count": 26,
      "outputs": [
        {
          "output_type": "execute_result",
          "data": {
            "text/plain": [
              "Index(['Age', 'Height'], dtype='object')"
            ]
          },
          "metadata": {},
          "execution_count": 26
        }
      ]
    },
    {
      "cell_type": "code",
      "metadata": {
        "colab": {
          "base_uri": "https://localhost:8080/"
        },
        "id": "sRkQ0mOLzSNJ",
        "outputId": "320ee007-29e9-46c0-ef40-26de3427568e"
      },
      "source": [
        "# Type of each column\n",
        "df.dtypes"
      ],
      "execution_count": 27,
      "outputs": [
        {
          "output_type": "execute_result",
          "data": {
            "text/plain": [
              "Age       float64\n",
              "Height    float64\n",
              "dtype: object"
            ]
          },
          "metadata": {},
          "execution_count": 27
        }
      ]
    },
    {
      "cell_type": "markdown",
      "metadata": {
        "id": "hnZspvaRb1u1"
      },
      "source": [
        "# 5. Data Wrangling"
      ]
    },
    {
      "cell_type": "markdown",
      "metadata": {
        "id": "760_SzRRxzcq"
      },
      "source": [
        "1. Since data is in form of excel file we have to use pandas read_excel to load the data.\n",
        "\n",
        "2. After loading it is important to check the complete information of data as it can indication many of the hidden infomation such as null values in a column or a row\n",
        "\n",
        "3. Check whether any null values are there or not. if it is present then following can be done:\n",
        "\n",
        "\n",
        "\n",
        "> a. Imputing data using Imputation method in sklearn\n",
        "\n",
        "\n",
        "> b. Filling NaN values with mean, median and mode using fillna() method\n",
        "\n",
        "4. Describe data --> which can give statistical analysis"
      ]
    },
    {
      "cell_type": "code",
      "metadata": {
        "colab": {
          "base_uri": "https://localhost:8080/"
        },
        "id": "B0cofrCQ0YPh",
        "outputId": "6c0b3e81-e064-4d02-fe4f-735c38f96764"
      },
      "source": [
        "df.info()"
      ],
      "execution_count": 28,
      "outputs": [
        {
          "output_type": "stream",
          "name": "stdout",
          "text": [
            "<class 'pandas.core.frame.DataFrame'>\n",
            "RangeIndex: 100 entries, 0 to 99\n",
            "Data columns (total 2 columns):\n",
            " #   Column  Non-Null Count  Dtype  \n",
            "---  ------  --------------  -----  \n",
            " 0   Age     100 non-null    float64\n",
            " 1   Height  100 non-null    float64\n",
            "dtypes: float64(2)\n",
            "memory usage: 1.7 KB\n"
          ]
        }
      ]
    },
    {
      "cell_type": "markdown",
      "metadata": {
        "id": "bwrxKQmwP6ey"
      },
      "source": [
        "Unique values of categorical features"
      ]
    },
    {
      "cell_type": "code",
      "metadata": {
        "colab": {
          "base_uri": "https://localhost:8080/"
        },
        "id": "n_chRBv2Pjbz",
        "outputId": "13e332a7-8ffa-4bac-fd35-4caac3e9bdad"
      },
      "source": [
        "print(\"Age: \", df.Age.unique())\n",
        "print(\"No. of Airlines: \", len(df.Age.unique()) )\n",
        "print()\n",
        "df.Age.value_counts()"
      ],
      "execution_count": 30,
      "outputs": [
        {
          "output_type": "stream",
          "name": "stdout",
          "text": [
            "Age:  [14.76787382  3.10767135  7.26691701  1.81517968 16.75375763  5.35126307\n",
            "  8.65571488  4.20599293  7.35669106  1.66817819  8.2969588  14.74948482\n",
            " 15.28545214 -0.16353169 16.65534197  0.85918789  8.43332999 11.92386163\n",
            "  0.76828323 11.36202254 -0.68301696  1.29597926 10.31206094 17.39335272\n",
            " 10.31003056 -0.14639168  6.23764582 15.55153122  2.77346425 15.59798962\n",
            " -0.78085287  7.57789784  2.04165705  9.90665221  2.87252515  1.54231936\n",
            " -0.08795844  5.46202264 15.04362695  5.99372597  4.805291    8.94992003\n",
            "  5.02020985  9.89555258  5.20281507  0.19568558  0.89217393  7.30979593\n",
            " 10.8545723  15.69876495  0.81216582 15.40144747  9.21599924  8.98515379\n",
            "  3.74369906  0.75192511  6.5963469   9.75112683  7.40094567 -0.5484884\n",
            " 17.32712575 10.53406938 15.16816596  9.46971876 13.54691548  7.80132294\n",
            "  2.51910344  4.71666526 10.0386595  11.77125476  8.53738026  2.58355771\n",
            "  1.438003   10.40642157 16.85933332 12.22465149  9.51476997 10.08186587\n",
            "  8.19621527 10.49687113  7.27368593 11.12960811  1.79959378  7.78987166\n",
            "  7.02932985  5.8591807  17.34312098  6.57163034 15.33887426 17.88785196\n",
            " 14.27429987 -0.32878015 14.12895726 11.09012111 13.74786759  7.32371166\n",
            "  5.59150936  2.62560582  5.51929292 13.11741343]\n",
            "No. of Airlines:  100\n",
            "\n"
          ]
        },
        {
          "output_type": "execute_result",
          "data": {
            "text/plain": [
              "15.698765    1\n",
              "15.401447    1\n",
              "9.906652     1\n",
              "10.854572    1\n",
              "8.949920     1\n",
              "            ..\n",
              "0.812166     1\n",
              "0.751925     1\n",
              "5.519293     1\n",
              "1.815180     1\n",
              "17.343121    1\n",
              "Name: Age, Length: 100, dtype: int64"
            ]
          },
          "metadata": {},
          "execution_count": 30
        }
      ]
    },
    {
      "cell_type": "code",
      "metadata": {
        "colab": {
          "base_uri": "https://localhost:8080/"
        },
        "id": "DXmLYFfdRWku",
        "outputId": "f14cd250-eb7c-4355-c092-1757bc0cb058"
      },
      "source": [
        "print(\"Height: \", df.Height.unique())\n",
        "print(\"No. of Height: \", len(df.Height.unique()) )\n",
        "print()\n",
        "df.Height.value_counts()"
      ],
      "execution_count": 31,
      "outputs": [
        {
          "output_type": "stream",
          "name": "stdout",
          "text": [
            "Height:  [59.62748426 36.14645274 46.91287846 29.12565975 68.1704139  44.34636503\n",
            " 47.71361295 37.82994409 44.79306512 34.05901466 46.14234545 56.45678228\n",
            " 59.87003819 28.6478337  64.23638736 34.24599643 45.29759191 54.75189183\n",
            " 32.93518571 51.99837    29.88392844 31.52350033 55.70481247 63.86109721\n",
            " 52.9199051  32.83092177 37.36102444 60.23327195 35.01026126 59.12701931\n",
            " 31.96080741 48.21846885 32.56232215 47.75274969 36.24179872 33.78175852\n",
            " 27.33251348 38.2877098  59.10262494 43.28700254 39.66542429 44.95296111\n",
            " 37.43903005 52.31971537 38.09928941 29.50846768 32.17702291 42.91083707\n",
            " 52.33957205 62.64153739 36.34620991 62.68458017 50.12874248 48.01159919\n",
            " 41.30798526 31.82734682 43.07902442 43.03917945 44.13595398 30.80134635\n",
            " 65.38850138 52.55874397 57.54336087 50.73552242 56.35839211 41.5764792\n",
            " 32.30251117 42.33202065 49.22075916 53.45369077 47.80362461 34.93143275\n",
            " 29.00769567 52.33693502 63.38905063 52.92067293 51.44539695 48.99409356\n",
            " 47.33274976 54.52644907 46.21415637 50.94870845 34.24840688 47.99492935\n",
            " 41.41827569 43.41211009 64.30784502 43.87201084 60.98925274 64.3862124\n",
            " 56.36445828 27.81905232 57.97662043 53.81673813 58.9359501  46.85750545\n",
            " 39.33998993 32.91892484 40.70415428 55.17740742]\n",
            "No. of Height:  100\n",
            "\n"
          ]
        },
        {
          "output_type": "execute_result",
          "data": {
            "text/plain": [
              "34.931433    1\n",
              "37.829944    1\n",
              "29.508468    1\n",
              "31.523500    1\n",
              "29.883928    1\n",
              "            ..\n",
              "47.332750    1\n",
              "36.146453    1\n",
              "54.526449    1\n",
              "52.920673    1\n",
              "36.346210    1\n",
              "Name: Height, Length: 100, dtype: int64"
            ]
          },
          "metadata": {},
          "execution_count": 31
        }
      ]
    },
    {
      "cell_type": "markdown",
      "metadata": {
        "id": "fSl9uSw1QwK6"
      },
      "source": [
        "Check NULL values"
      ]
    },
    {
      "cell_type": "code",
      "metadata": {
        "colab": {
          "base_uri": "https://localhost:8080/"
        },
        "id": "ZyDLnzc2Qx9L",
        "outputId": "81ca3cd8-3e04-4c21-cde7-ab448c1f3c71"
      },
      "source": [
        "df.isnull().sum() # No NULL values"
      ],
      "execution_count": 32,
      "outputs": [
        {
          "output_type": "execute_result",
          "data": {
            "text/plain": [
              "Age       0\n",
              "Height    0\n",
              "dtype: int64"
            ]
          },
          "metadata": {},
          "execution_count": 32
        }
      ]
    },
    {
      "cell_type": "code",
      "metadata": {
        "id": "su1UPbr73I3C"
      },
      "source": [
        "# Drop NAN/NULL values\n",
        "df.dropna(inplace=True)"
      ],
      "execution_count": 33,
      "outputs": []
    },
    {
      "cell_type": "code",
      "metadata": {
        "colab": {
          "base_uri": "https://localhost:8080/"
        },
        "id": "pH_hDIDQ4ftm",
        "outputId": "7d24c456-cb50-4214-f671-4582f9c633c2"
      },
      "source": [
        "df.shape"
      ],
      "execution_count": 35,
      "outputs": [
        {
          "output_type": "execute_result",
          "data": {
            "text/plain": [
              "(100, 2)"
            ]
          },
          "metadata": {},
          "execution_count": 35
        }
      ]
    },
    {
      "cell_type": "code",
      "metadata": {
        "colab": {
          "base_uri": "https://localhost:8080/",
          "height": 295
        },
        "id": "lASYGIIQRtEG",
        "outputId": "49d78d0f-420a-486b-ee62-cd5a2e172073"
      },
      "source": [
        "# Some statistics of Age\n",
        "df[['Age']].describe()"
      ],
      "execution_count": 36,
      "outputs": [
        {
          "output_type": "execute_result",
          "data": {
            "text/html": [
              "<div>\n",
              "<style scoped>\n",
              "    .dataframe tbody tr th:only-of-type {\n",
              "        vertical-align: middle;\n",
              "    }\n",
              "\n",
              "    .dataframe tbody tr th {\n",
              "        vertical-align: top;\n",
              "    }\n",
              "\n",
              "    .dataframe thead th {\n",
              "        text-align: right;\n",
              "    }\n",
              "</style>\n",
              "<table border=\"1\" class=\"dataframe\">\n",
              "  <thead>\n",
              "    <tr style=\"text-align: right;\">\n",
              "      <th></th>\n",
              "      <th>Age</th>\n",
              "    </tr>\n",
              "  </thead>\n",
              "  <tbody>\n",
              "    <tr>\n",
              "      <th>count</th>\n",
              "      <td>100.000000</td>\n",
              "    </tr>\n",
              "    <tr>\n",
              "      <th>mean</th>\n",
              "      <td>7.966138</td>\n",
              "    </tr>\n",
              "    <tr>\n",
              "      <th>std</th>\n",
              "      <td>5.321621</td>\n",
              "    </tr>\n",
              "    <tr>\n",
              "      <th>min</th>\n",
              "      <td>-0.780853</td>\n",
              "    </tr>\n",
              "    <tr>\n",
              "      <th>25%</th>\n",
              "      <td>3.048885</td>\n",
              "    </tr>\n",
              "    <tr>\n",
              "      <th>50%</th>\n",
              "      <td>7.795597</td>\n",
              "    </tr>\n",
              "    <tr>\n",
              "      <th>75%</th>\n",
              "      <td>11.464331</td>\n",
              "    </tr>\n",
              "    <tr>\n",
              "      <th>max</th>\n",
              "      <td>17.887852</td>\n",
              "    </tr>\n",
              "  </tbody>\n",
              "</table>\n",
              "</div>"
            ],
            "text/plain": [
              "              Age\n",
              "count  100.000000\n",
              "mean     7.966138\n",
              "std      5.321621\n",
              "min     -0.780853\n",
              "25%      3.048885\n",
              "50%      7.795597\n",
              "75%     11.464331\n",
              "max     17.887852"
            ]
          },
          "metadata": {},
          "execution_count": 36
        }
      ]
    },
    {
      "cell_type": "code",
      "metadata": {
        "colab": {
          "base_uri": "https://localhost:8080/",
          "height": 295
        },
        "id": "vPrLyb9_F6_P",
        "outputId": "7b2fccdc-6b17-4a06-e1ad-404ae36a9fa6"
      },
      "source": [
        "# Some statistics of Height\n",
        "df[['Height']].describe()"
      ],
      "execution_count": 37,
      "outputs": [
        {
          "output_type": "execute_result",
          "data": {
            "text/html": [
              "<div>\n",
              "<style scoped>\n",
              "    .dataframe tbody tr th:only-of-type {\n",
              "        vertical-align: middle;\n",
              "    }\n",
              "\n",
              "    .dataframe tbody tr th {\n",
              "        vertical-align: top;\n",
              "    }\n",
              "\n",
              "    .dataframe thead th {\n",
              "        text-align: right;\n",
              "    }\n",
              "</style>\n",
              "<table border=\"1\" class=\"dataframe\">\n",
              "  <thead>\n",
              "    <tr style=\"text-align: right;\">\n",
              "      <th></th>\n",
              "      <th>Height</th>\n",
              "    </tr>\n",
              "  </thead>\n",
              "  <tbody>\n",
              "    <tr>\n",
              "      <th>count</th>\n",
              "      <td>100.000000</td>\n",
              "    </tr>\n",
              "    <tr>\n",
              "      <th>mean</th>\n",
              "      <td>45.955674</td>\n",
              "    </tr>\n",
              "    <tr>\n",
              "      <th>std</th>\n",
              "      <td>10.787318</td>\n",
              "    </tr>\n",
              "    <tr>\n",
              "      <th>min</th>\n",
              "      <td>27.332513</td>\n",
              "    </tr>\n",
              "    <tr>\n",
              "      <th>25%</th>\n",
              "      <td>36.320107</td>\n",
              "    </tr>\n",
              "    <tr>\n",
              "      <th>50%</th>\n",
              "      <td>46.178251</td>\n",
              "    </tr>\n",
              "    <tr>\n",
              "      <th>75%</th>\n",
              "      <td>53.994166</td>\n",
              "    </tr>\n",
              "    <tr>\n",
              "      <th>max</th>\n",
              "      <td>68.170414</td>\n",
              "    </tr>\n",
              "  </tbody>\n",
              "</table>\n",
              "</div>"
            ],
            "text/plain": [
              "           Height\n",
              "count  100.000000\n",
              "mean    45.955674\n",
              "std     10.787318\n",
              "min     27.332513\n",
              "25%     36.320107\n",
              "50%     46.178251\n",
              "75%     53.994166\n",
              "max     68.170414"
            ]
          },
          "metadata": {},
          "execution_count": 37
        }
      ]
    },
    {
      "cell_type": "markdown",
      "metadata": {
        "id": "_5N54CJp1xby"
      },
      "source": [
        "# Height vs Age"
      ]
    },
    {
      "cell_type": "code",
      "metadata": {
        "colab": {
          "base_uri": "https://localhost:8080/",
          "height": 499
        },
        "id": "g2KomqKLGSFE",
        "outputId": "330b9f59-7ca8-4de3-b71c-c35c1ea63701"
      },
      "source": [
        "plt.figure(figsize=(8,8))\n",
        "plt.scatter(df['Age'], df['Height'])\n",
        "plt.xlabel('Age')\n",
        "plt.ylabel('Height')\n",
        "plt.show()"
      ],
      "execution_count": 42,
      "outputs": [
        {
          "output_type": "display_data",
          "data": {
            "image/png": "[encoded data removed]",
            "text/plain": [
              "<Figure size 576x576 with 1 Axes>"
            ]
          },
          "metadata": {
            "needs_background": "light"
          }
        }
      ]
    },
    {
      "cell_type": "markdown",
      "metadata": {
        "id": "7M4NQYPoxyLr"
      },
      "source": [
        "# Train the model using Linear Regression"
      ]
    },
    {
      "cell_type": "markdown",
      "metadata": {
        "id": "wPVycJl5yHjI"
      },
      "source": [
        "Split dataset into training and test sets (Xtrain, Xtest).\n",
        "1. Need to scale the data? Scaling is not necessary in this Simple Linear Reagression.\n",
        "2. Import model\n",
        "3. Fit the data\n",
        "4. Predict using Xtest\n",
        "5. In regression check RSME Score\n",
        "6. Plot graph"
      ]
    },
    {
      "cell_type": "code",
      "metadata": {
        "colab": {
          "base_uri": "https://localhost:8080/"
        },
        "id": "LwQabjlYHbhd",
        "outputId": "fb7feb7f-7b88-4784-d6af-091a8b77ce12"
      },
      "source": [
        "X = df['Age'].to_numpy()\n",
        "y = df['Height'].to_numpy()\n",
        "\n",
        "X = X.reshape(-1, 1)\n",
        "\n",
        "print(X.shape)\n",
        "print(y.shape)"
      ],
      "execution_count": 51,
      "outputs": [
        {
          "output_type": "stream",
          "name": "stdout",
          "text": [
            "(100, 1)\n",
            "(100,)\n"
          ]
        }
      ]
    },
    {
      "cell_type": "code",
      "metadata": {
        "id": "i7dpGrcuyufD"
      },
      "source": [
        "from sklearn.model_selection import train_test_split\n",
        "Xtrain, Xtest, ytrain, ytest = train_test_split(X, y, test_size = 0.2, random_state = 42)"
      ],
      "execution_count": 52,
      "outputs": []
    },
    {
      "cell_type": "code",
      "metadata": {
        "colab": {
          "base_uri": "https://localhost:8080/"
        },
        "id": "WQJggeWey2_n",
        "outputId": "101a0f53-17cb-452f-f56f-1a5d95354bba"
      },
      "source": [
        "# importing module\n",
        "from sklearn.linear_model import LinearRegression\n",
        "\n",
        "# creating an object of LinearRegression class\n",
        "LR = LinearRegression()\n",
        "\n",
        "# fitting the training data\n",
        "LR.fit(Xtrain,ytrain)"
      ],
      "execution_count": 53,
      "outputs": [
        {
          "output_type": "execute_result",
          "data": {
            "text/plain": [
              "LinearRegression(copy_X=True, fit_intercept=True, n_jobs=None, normalize=False)"
            ]
          },
          "metadata": {},
          "execution_count": 53
        }
      ]
    },
    {
      "cell_type": "code",
      "metadata": {
        "id": "BIM9_Y9Qy8_Z"
      },
      "source": [
        "# Prediction\n",
        "pred = LR.predict(Xtest)"
      ],
      "execution_count": 55,
      "outputs": []
    },
    {
      "cell_type": "code",
      "metadata": {
        "colab": {
          "base_uri": "https://localhost:8080/"
        },
        "id": "I9xwo3MGzCAz",
        "outputId": "813be6c9-fdef-4ff9-c6dd-47911d1197de"
      },
      "source": [
        "# The coefficient of determination (𝑅^2) with .score()...\n",
        "# R-squared) is a statistical measure that \n",
        "# represents the proportion of the variance for \n",
        "# a dependent variable that's explained by \n",
        "# an independent variable or variables in a regression model. \n",
        "print('Score:')\n",
        "LR.score(Xtest, ytest)"
      ],
      "execution_count": 58,
      "outputs": [
        {
          "output_type": "stream",
          "name": "stdout",
          "text": [
            "Score:\n"
          ]
        },
        {
          "output_type": "execute_result",
          "data": {
            "text/plain": [
              "0.9354873390547741"
            ]
          },
          "metadata": {},
          "execution_count": 58
        }
      ]
    },
    {
      "cell_type": "code",
      "metadata": {
        "colab": {
          "base_uri": "https://localhost:8080/",
          "height": 551
        },
        "id": "d-xYQtiiImaw",
        "outputId": "47e55fe3-fd89-480d-b216-7145522f22b5"
      },
      "source": [
        "plt.figure(figsize=(9,9))\n",
        "plt.scatter(ytest, pred, marker='o', color='b')\n",
        "plt.plot([30., 70.], [30., 70.], 'k-')\n",
        "plt.xlabel('True Height [cm]')\n",
        "plt.ylabel('Predicted Height [cm]')\n",
        "plt.grid()\n",
        "plt.show()"
      ],
      "execution_count": 63,
      "outputs": [
        {
          "output_type": "display_data",
          "data": {
            "image/png": "[encoded data removed]",
            "text/plain": [
              "<Figure size 648x648 with 1 Axes>"
            ]
          },
          "metadata": {
            "needs_background": "light"
          }
        }
      ]
    },
    {
      "cell_type": "code",
      "metadata": {
        "colab": {
          "base_uri": "https://localhost:8080/",
          "height": 537
        },
        "id": "BtwaSZDXzQo7",
        "outputId": "f4366885-6f82-413b-da91-6885302ef75a"
      },
      "source": [
        "plt.figure(figsize=(9,9))\n",
        "sns.histplot(ytest - pred, kde=True, stat=\"density\", linewidth=0)\n",
        "plt.show()"
      ],
      "execution_count": 64,
      "outputs": [
        {
          "output_type": "display_data",
          "data": {
            "image/png": "[encoded data removed]",
            "text/plain": [
              "<Figure size 648x648 with 1 Axes>"
            ]
          },
          "metadata": {
            "needs_background": "light"
          }
        }
      ]
    },
    {
      "cell_type": "markdown",
      "metadata": {
        "id": "xIqHrMlJzgk9"
      },
      "source": [
        "The difference is close to 0. The model has done a pretty good job."
      ]
    },
    {
      "cell_type": "code",
      "metadata": {
        "colab": {
          "base_uri": "https://localhost:8080/"
        },
        "id": "D6NMPIBMzgk-",
        "outputId": "faa61b36-e0f6-48b7-acdc-a577fdcf231b"
      },
      "source": [
        "from sklearn import metrics\n",
        "print('MAE:', metrics.mean_absolute_error(ytest, pred))\n",
        "print('MSE:', metrics.mean_squared_error(ytest, pred))\n",
        "print('RMSE:', np.sqrt(metrics.mean_squared_error(ytest, pred)))"
      ],
      "execution_count": 66,
      "outputs": [
        {
          "output_type": "stream",
          "name": "stdout",
          "text": [
            "MAE: 1.940465368274285\n",
            "MSE: 5.796764225115498\n",
            "RMSE: 2.4076470308405877\n"
          ]
        }
      ]
    },
    {
      "cell_type": "code",
      "metadata": {
        "colab": {
          "base_uri": "https://localhost:8080/"
        },
        "id": "w8-5TRk40DFN",
        "outputId": "518578d1-5102-491a-aad4-f8553a954ca9"
      },
      "source": [
        "# RMSE/(max(DV)-min(DV))\n",
        "np.sqrt(metrics.mean_squared_error(ytest, pred))/(max(y)-min(y))"
      ],
      "execution_count": 68,
      "outputs": [
        {
          "output_type": "execute_result",
          "data": {
            "text/plain": [
              "0.0589561903508531"
            ]
          },
          "metadata": {},
          "execution_count": 68
        }
      ]
    },
    {
      "cell_type": "markdown",
      "metadata": {
        "id": "kMDrIk3JJh3l"
      },
      "source": [
        "The MSE is ~6% of the whole height range (Min -> Max)."
      ]
    },
    {
      "cell_type": "code",
      "metadata": {
        "colab": {
          "base_uri": "https://localhost:8080/"
        },
        "id": "4mu7z2vZ0g-2",
        "outputId": "9a973a82-8f35-435d-dfb8-4407bc75fa5f"
      },
      "source": [
        "# R^2\n",
        "# The most common interpretation of r-squared is how well the regression model fits the observed data.\n",
        "# For example, an r-squared of 60% reveals that 60% of the data fit the regression model.\n",
        "# Generally, a higher r-squared indicates a better fit for the model.\n",
        "metrics.r2_score(ytest, pred)"
      ],
      "execution_count": 69,
      "outputs": [
        {
          "output_type": "execute_result",
          "data": {
            "text/plain": [
              "0.9354873390547741"
            ]
          },
          "metadata": {},
          "execution_count": 69
        }
      ]
    },
    {
      "cell_type": "markdown",
      "metadata": {
        "id": "x9grCaVLqztX"
      },
      "source": [
        "# Save the model"
      ]
    },
    {
      "cell_type": "code",
      "metadata": {
        "id": "wAXGYNa_q1mK"
      },
      "source": [
        "# open a file\n",
        "xfile = open( os.path.join(DATA_PATH, 'LinReg_Age_Height.pkl'), 'wb')\n",
        "\n",
        "# dump to file\n",
        "pickle.dump(LR, xfile)"
      ],
      "execution_count": 70,
      "outputs": []
    },
    {
      "cell_type": "code",
      "metadata": {
        "id": "gS0udk__5cyg"
      },
      "source": [
        "# open a file\n",
        "xfile = open( os.path.join(DATA_PATH, 'LinReg_Age_Height.pkl'), 'rb')\n",
        "linreg = pickle.load(xfile)"
      ],
      "execution_count": 71,
      "outputs": []
    },
    {
      "cell_type": "code",
      "metadata": {
        "id": "WNhSfe0S6ZGp"
      },
      "source": [
        "y_prediction = linreg.predict(Xtest)"
      ],
      "execution_count": 72,
      "outputs": []
    },
    {
      "cell_type": "code",
      "metadata": {
        "colab": {
          "base_uri": "https://localhost:8080/",
          "height": 537
        },
        "id": "oXbTl9e26oZ-",
        "outputId": "8efd5ec0-21c0-4e11-fd2d-49cc6127afcb"
      },
      "source": [
        "plt.figure(figsize=(9,9))\n",
        "sns.histplot(ytest - y_prediction, kde=True, stat=\"density\", linewidth=0)\n",
        "plt.show()"
      ],
      "execution_count": 73,
      "outputs": [
        {
          "output_type": "display_data",
          "data": {
            "image/png": "[encoded data removed]",
            "text/plain": [
              "<Figure size 648x648 with 1 Axes>"
            ]
          },
          "metadata": {
            "needs_background": "light"
          }
        }
      ]
    },
    {
      "cell_type": "code",
      "metadata": {
        "id": "Hklvb7rrpafU"
      },
      "source": [
        "# Display all dependencies and their versions\n",
        "!pip freeze"
      ],
      "execution_count": null,
      "outputs": []
    }
  ]
}