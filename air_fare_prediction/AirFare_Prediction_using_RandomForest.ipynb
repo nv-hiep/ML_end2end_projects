{
  "nbformat": 4,
  "nbformat_minor": 0,
  "metadata": {
    "colab": {
      "name": "AirFare_Prediction_using_RandomForest.ipynb",
      "provenance": [],
      "collapsed_sections": []
    },
    "kernelspec": {
      "name": "python3",
      "display_name": "Python 3"
    }
  },
  "cells": [
    {
      "cell_type": "markdown",
      "metadata": {
        "id": "z7slQ9Y9f7Sr"
      },
      "source": [
        "# 1. Libraries"
      ]
    },
    {
      "cell_type": "code",
      "metadata": {
        "id": "pLXcM68QdTTR",
        "colab": {
          "base_uri": "https://localhost:8080/"
        },
        "outputId": "a20465d8-71b6-4fd5-ad86-71722c050cf4"
      },
      "source": [
        "# Python ≥3.5 is required\n",
        "import sys\n",
        "assert sys.version_info >= (3, 5)\n",
        "\n",
        "# Scikit-Learn ≥0.20 is required\n",
        "import sklearn\n",
        "assert sklearn.__version__ >= '0.20'\n",
        "\n",
        "try:\n",
        "    # %tensorflow_version only exists in Colab.\n",
        "    %tensorflow_version 2.x\n",
        "    IS_COLAB = True\n",
        "except Exception:\n",
        "    IS_COLAB = False\n",
        "\n",
        "# TensorFlow ≥2.0 is required\n",
        "import tensorflow as tf\n",
        "from tensorflow import keras\n",
        "assert tf.__version__ >= '2.0'\n",
        "\n",
        "if not tf.config.list_physical_devices('GPU'):\n",
        "    print('No GPU was detected. LSTMs and CNNs can be very slow without a GPU.')\n",
        "    if IS_COLAB:\n",
        "        print('Go to Runtime > Change runtime and select a GPU hardware accelerator.')\n",
        "\n",
        "# Common imports\n",
        "import os\n",
        "import shutil\n",
        "import itertools\n",
        "import glob\n",
        "import string\n",
        "import pickle\n",
        "\n",
        "import numpy as np\n",
        "import matplotlib.image as mpimg\n",
        "import pandas as pd\n",
        "\n",
        "from tqdm import tqdm\n",
        "from time import time\n",
        "from PIL import Image\n",
        "from datetime import date\n",
        "\n",
        "\n",
        "# to make this notebook's output stable across runs\n",
        "np.random.seed(42)\n",
        "tf.random.set_seed(42)\n",
        "\n",
        "# To plot pretty figures\n",
        "%matplotlib inline\n",
        "import matplotlib as mpl\n",
        "import matplotlib.pyplot as plt\n",
        "import seaborn as sns\n",
        "\n",
        "# mpl.rc('axes', labelsize=14)\n",
        "# mpl.rc('xtick', labelsize=12)\n",
        "# mpl.rc('ytick', labelsize=12)"
      ],
      "execution_count": 1,
      "outputs": [
        {
          "output_type": "stream",
          "name": "stdout",
          "text": [
            "No GPU was detected. LSTMs and CNNs can be very slow without a GPU.\n",
            "Go to Runtime > Change runtime and select a GPU hardware accelerator.\n"
          ]
        }
      ]
    },
    {
      "cell_type": "markdown",
      "metadata": {
        "id": "BVhoD8seDk4x"
      },
      "source": [
        "# 2. Connect to Google Drive"
      ]
    },
    {
      "cell_type": "code",
      "metadata": {
        "id": "srBiJiFEaKl1",
        "colab": {
          "base_uri": "https://localhost:8080/"
        },
        "outputId": "9fb95f26-a49e-4e95-860c-6b8ccc25e520"
      },
      "source": [
        "# Check if NVIDIA GPU is enabled\n",
        "!nvidia-smi"
      ],
      "execution_count": 2,
      "outputs": [
        {
          "output_type": "stream",
          "name": "stdout",
          "text": [
            "NVIDIA-SMI has failed because it couldn't communicate with the NVIDIA driver. Make sure that the latest NVIDIA driver is installed and running.\n",
            "\n"
          ]
        }
      ]
    },
    {
      "cell_type": "code",
      "metadata": {
        "id": "PjjcQSpya_FR",
        "colab": {
          "base_uri": "https://localhost:8080/"
        },
        "outputId": "b30df443-a88f-4806-d428-9bf46ef710fc"
      },
      "source": [
        "from google.colab import drive\n",
        "drive.mount('/content/gdrive')\n",
        "!ls"
      ],
      "execution_count": 3,
      "outputs": [
        {
          "output_type": "stream",
          "name": "stdout",
          "text": [
            "Mounted at /content/gdrive\n",
            "gdrive\tsample_data\n"
          ]
        }
      ]
    },
    {
      "cell_type": "code",
      "metadata": {
        "id": "iYM4wmy-cFlK",
        "colab": {
          "base_uri": "https://localhost:8080/"
        },
        "outputId": "504f8a68-957c-405a-f3a4-ac04e85aaf08"
      },
      "source": [
        "# %cd /content/gdrive/My Drive/\n",
        "%cd /content/gdrive/My Drive/Colab Notebooks/MachineLearning/\n",
        "!ls"
      ],
      "execution_count": 4,
      "outputs": [
        {
          "output_type": "stream",
          "name": "stdout",
          "text": [
            "/content/gdrive/My Drive/Colab Notebooks/MachineLearning\n",
            "17_autoencoders_and_gans.ipynb\n",
            "AirFare_Prediction_using_RandomForest.ipynb\n",
            "Car_Price_Prediction_using_RandomForestRegressor.ipynb\n",
            "data\n",
            "DBSCAN.ipynb\n",
            "h10_ANNs_with_Keras.ipynb\n",
            "Linear_Regression.ipynb\n",
            "multiple_linear_regression.py\n",
            "s1_GradienrDescent1_single_variable_fcn.ipynb\n",
            "Student_Failures_DataAnalysis_R.ipynb.ipynb\n"
          ]
        }
      ]
    },
    {
      "cell_type": "code",
      "metadata": {
        "colab": {
          "base_uri": "https://localhost:8080/"
        },
        "id": "oljDNo3zFO-z",
        "outputId": "06d68c9f-524c-4f47-b631-104b8c92d966"
      },
      "source": [
        "! pwd"
      ],
      "execution_count": 5,
      "outputs": [
        {
          "output_type": "stream",
          "name": "stdout",
          "text": [
            "/content/gdrive/My Drive/Colab Notebooks/MachineLearning\n"
          ]
        }
      ]
    },
    {
      "cell_type": "markdown",
      "metadata": {
        "id": "o86-F-QZFqjU"
      },
      "source": [
        "# 3. Paths to Data Directories"
      ]
    },
    {
      "cell_type": "code",
      "metadata": {
        "id": "ynr1SMD4FOSs"
      },
      "source": [
        "PROJECT_PATH = '/content/gdrive/My Drive/Colab Notebooks/MachineLearning'\n",
        "DATA_PATH    = os.path.join( PROJECT_PATH, 'data' )"
      ],
      "execution_count": 6,
      "outputs": []
    },
    {
      "cell_type": "markdown",
      "metadata": {
        "id": "4jSrL_zxn9tF"
      },
      "source": [
        "# 4. Load data"
      ]
    },
    {
      "cell_type": "markdown",
      "metadata": {
        "id": "YqpdrcGqxcZ_"
      },
      "source": [
        "## Training data"
      ]
    },
    {
      "cell_type": "code",
      "metadata": {
        "id": "arj9VLeXzxKM"
      },
      "source": [
        "pd.set_option('display.max_columns', None)"
      ],
      "execution_count": 7,
      "outputs": []
    },
    {
      "cell_type": "code",
      "metadata": {
        "id": "0ppvlqqhn_pL"
      },
      "source": [
        "# Load Dataset into a dataframe\n",
        "data_file = os.path.join(DATA_PATH, 'Data_Train.xlsx')\n",
        "df        = pd.read_excel(data_file)"
      ],
      "execution_count": 8,
      "outputs": []
    },
    {
      "cell_type": "code",
      "metadata": {
        "colab": {
          "base_uri": "https://localhost:8080/",
          "height": 323
        },
        "id": "kF5tskvGoW4N",
        "outputId": "a3227f46-3290-40b3-c262-a03654d1cf8e"
      },
      "source": [
        "df.head(4)"
      ],
      "execution_count": 9,
      "outputs": [
        {
          "output_type": "execute_result",
          "data": {
            "text/html": [
              "<div>\n",
              "<style scoped>\n",
              "    .dataframe tbody tr th:only-of-type {\n",
              "        vertical-align: middle;\n",
              "    }\n",
              "\n",
              "    .dataframe tbody tr th {\n",
              "        vertical-align: top;\n",
              "    }\n",
              "\n",
              "    .dataframe thead th {\n",
              "        text-align: right;\n",
              "    }\n",
              "</style>\n",
              "<table border=\"1\" class=\"dataframe\">\n",
              "  <thead>\n",
              "    <tr style=\"text-align: right;\">\n",
              "      <th></th>\n",
              "      <th>Airline</th>\n",
              "      <th>Date_of_Journey</th>\n",
              "      <th>Source</th>\n",
              "      <th>Destination</th>\n",
              "      <th>Route</th>\n",
              "      <th>Dep_Time</th>\n",
              "      <th>Arrival_Time</th>\n",
              "      <th>Duration</th>\n",
              "      <th>Total_Stops</th>\n",
              "      <th>Additional_Info</th>\n",
              "      <th>Price</th>\n",
              "    </tr>\n",
              "  </thead>\n",
              "  <tbody>\n",
              "    <tr>\n",
              "      <th>0</th>\n",
              "      <td>IndiGo</td>\n",
              "      <td>24/03/2019</td>\n",
              "      <td>Banglore</td>\n",
              "      <td>New Delhi</td>\n",
              "      <td>BLR → DEL</td>\n",
              "      <td>22:20</td>\n",
              "      <td>01:10 22 Mar</td>\n",
              "      <td>2h 50m</td>\n",
              "      <td>non-stop</td>\n",
              "      <td>No info</td>\n",
              "      <td>3897</td>\n",
              "    </tr>\n",
              "    <tr>\n",
              "      <th>1</th>\n",
              "      <td>Air India</td>\n",
              "      <td>1/05/2019</td>\n",
              "      <td>Kolkata</td>\n",
              "      <td>Banglore</td>\n",
              "      <td>CCU → IXR → BBI → BLR</td>\n",
              "      <td>05:50</td>\n",
              "      <td>13:15</td>\n",
              "      <td>7h 25m</td>\n",
              "      <td>2 stops</td>\n",
              "      <td>No info</td>\n",
              "      <td>7662</td>\n",
              "    </tr>\n",
              "    <tr>\n",
              "      <th>2</th>\n",
              "      <td>Jet Airways</td>\n",
              "      <td>9/06/2019</td>\n",
              "      <td>Delhi</td>\n",
              "      <td>Cochin</td>\n",
              "      <td>DEL → LKO → BOM → COK</td>\n",
              "      <td>09:25</td>\n",
              "      <td>04:25 10 Jun</td>\n",
              "      <td>19h</td>\n",
              "      <td>2 stops</td>\n",
              "      <td>No info</td>\n",
              "      <td>13882</td>\n",
              "    </tr>\n",
              "    <tr>\n",
              "      <th>3</th>\n",
              "      <td>IndiGo</td>\n",
              "      <td>12/05/2019</td>\n",
              "      <td>Kolkata</td>\n",
              "      <td>Banglore</td>\n",
              "      <td>CCU → NAG → BLR</td>\n",
              "      <td>18:05</td>\n",
              "      <td>23:30</td>\n",
              "      <td>5h 25m</td>\n",
              "      <td>1 stop</td>\n",
              "      <td>No info</td>\n",
              "      <td>6218</td>\n",
              "    </tr>\n",
              "  </tbody>\n",
              "</table>\n",
              "</div>"
            ],
            "text/plain": [
              "       Airline Date_of_Journey    Source Destination                  Route  \\\n",
              "0       IndiGo      24/03/2019  Banglore   New Delhi              BLR → DEL   \n",
              "1    Air India       1/05/2019   Kolkata    Banglore  CCU → IXR → BBI → BLR   \n",
              "2  Jet Airways       9/06/2019     Delhi      Cochin  DEL → LKO → BOM → COK   \n",
              "3       IndiGo      12/05/2019   Kolkata    Banglore        CCU → NAG → BLR   \n",
              "\n",
              "  Dep_Time  Arrival_Time Duration Total_Stops Additional_Info  Price  \n",
              "0    22:20  01:10 22 Mar   2h 50m    non-stop         No info   3897  \n",
              "1    05:50         13:15   7h 25m     2 stops         No info   7662  \n",
              "2    09:25  04:25 10 Jun      19h     2 stops         No info  13882  \n",
              "3    18:05         23:30   5h 25m      1 stop         No info   6218  "
            ]
          },
          "metadata": {},
          "execution_count": 9
        }
      ]
    },
    {
      "cell_type": "code",
      "metadata": {
        "colab": {
          "base_uri": "https://localhost:8080/"
        },
        "id": "gbhicovIPFgt",
        "outputId": "467cf4bc-c36d-4891-8b10-15b7bd61ac54"
      },
      "source": [
        "# Number of rows and columns (rows, cols)\n",
        "df.shape"
      ],
      "execution_count": 10,
      "outputs": [
        {
          "output_type": "execute_result",
          "data": {
            "text/plain": [
              "(10683, 11)"
            ]
          },
          "metadata": {},
          "execution_count": 10
        }
      ]
    },
    {
      "cell_type": "code",
      "metadata": {
        "id": "4KrNBiK4yNrN"
      },
      "source": [
        "n_train = df.shape[0]"
      ],
      "execution_count": 11,
      "outputs": []
    },
    {
      "cell_type": "code",
      "metadata": {
        "colab": {
          "base_uri": "https://localhost:8080/"
        },
        "id": "AiLiyM4-QIKe",
        "outputId": "efadced8-5811-45ef-d38b-9c0c38751437"
      },
      "source": [
        "# Print feature names\n",
        "df.columns"
      ],
      "execution_count": 12,
      "outputs": [
        {
          "output_type": "execute_result",
          "data": {
            "text/plain": [
              "Index(['Airline', 'Date_of_Journey', 'Source', 'Destination', 'Route',\n",
              "       'Dep_Time', 'Arrival_Time', 'Duration', 'Total_Stops',\n",
              "       'Additional_Info', 'Price'],\n",
              "      dtype='object')"
            ]
          },
          "metadata": {},
          "execution_count": 12
        }
      ]
    },
    {
      "cell_type": "code",
      "metadata": {
        "colab": {
          "base_uri": "https://localhost:8080/"
        },
        "id": "sRkQ0mOLzSNJ",
        "outputId": "5970b2c8-fdd6-437b-a2f3-3883bb055d62"
      },
      "source": [
        "# Type of each column\n",
        "df.dtypes"
      ],
      "execution_count": 13,
      "outputs": [
        {
          "output_type": "execute_result",
          "data": {
            "text/plain": [
              "Airline            object\n",
              "Date_of_Journey    object\n",
              "Source             object\n",
              "Destination        object\n",
              "Route              object\n",
              "Dep_Time           object\n",
              "Arrival_Time       object\n",
              "Duration           object\n",
              "Total_Stops        object\n",
              "Additional_Info    object\n",
              "Price               int64\n",
              "dtype: object"
            ]
          },
          "metadata": {},
          "execution_count": 13
        }
      ]
    },
    {
      "cell_type": "markdown",
      "metadata": {
        "id": "dZWPMH9Vzi1S"
      },
      "source": [
        "## Test data"
      ]
    },
    {
      "cell_type": "code",
      "metadata": {
        "colab": {
          "base_uri": "https://localhost:8080/",
          "height": 270
        },
        "id": "WEbLPYY1xaMr",
        "outputId": "5c5134a4-cc48-4258-8b00-f673d2525ea9"
      },
      "source": [
        "data_file = os.path.join(DATA_PATH, 'Test_set.xlsx')\n",
        "test_df   = pd.read_excel(data_file)\n",
        "test_df.head()"
      ],
      "execution_count": 14,
      "outputs": [
        {
          "output_type": "execute_result",
          "data": {
            "text/html": [
              "<div>\n",
              "<style scoped>\n",
              "    .dataframe tbody tr th:only-of-type {\n",
              "        vertical-align: middle;\n",
              "    }\n",
              "\n",
              "    .dataframe tbody tr th {\n",
              "        vertical-align: top;\n",
              "    }\n",
              "\n",
              "    .dataframe thead th {\n",
              "        text-align: right;\n",
              "    }\n",
              "</style>\n",
              "<table border=\"1\" class=\"dataframe\">\n",
              "  <thead>\n",
              "    <tr style=\"text-align: right;\">\n",
              "      <th></th>\n",
              "      <th>Airline</th>\n",
              "      <th>Date_of_Journey</th>\n",
              "      <th>Source</th>\n",
              "      <th>Destination</th>\n",
              "      <th>Route</th>\n",
              "      <th>Dep_Time</th>\n",
              "      <th>Arrival_Time</th>\n",
              "      <th>Duration</th>\n",
              "      <th>Total_Stops</th>\n",
              "      <th>Additional_Info</th>\n",
              "    </tr>\n",
              "  </thead>\n",
              "  <tbody>\n",
              "    <tr>\n",
              "      <th>0</th>\n",
              "      <td>Jet Airways</td>\n",
              "      <td>6/06/2019</td>\n",
              "      <td>Delhi</td>\n",
              "      <td>Cochin</td>\n",
              "      <td>DEL → BOM → COK</td>\n",
              "      <td>17:30</td>\n",
              "      <td>04:25 07 Jun</td>\n",
              "      <td>10h 55m</td>\n",
              "      <td>1 stop</td>\n",
              "      <td>No info</td>\n",
              "    </tr>\n",
              "    <tr>\n",
              "      <th>1</th>\n",
              "      <td>IndiGo</td>\n",
              "      <td>12/05/2019</td>\n",
              "      <td>Kolkata</td>\n",
              "      <td>Banglore</td>\n",
              "      <td>CCU → MAA → BLR</td>\n",
              "      <td>06:20</td>\n",
              "      <td>10:20</td>\n",
              "      <td>4h</td>\n",
              "      <td>1 stop</td>\n",
              "      <td>No info</td>\n",
              "    </tr>\n",
              "    <tr>\n",
              "      <th>2</th>\n",
              "      <td>Jet Airways</td>\n",
              "      <td>21/05/2019</td>\n",
              "      <td>Delhi</td>\n",
              "      <td>Cochin</td>\n",
              "      <td>DEL → BOM → COK</td>\n",
              "      <td>19:15</td>\n",
              "      <td>19:00 22 May</td>\n",
              "      <td>23h 45m</td>\n",
              "      <td>1 stop</td>\n",
              "      <td>In-flight meal not included</td>\n",
              "    </tr>\n",
              "    <tr>\n",
              "      <th>3</th>\n",
              "      <td>Multiple carriers</td>\n",
              "      <td>21/05/2019</td>\n",
              "      <td>Delhi</td>\n",
              "      <td>Cochin</td>\n",
              "      <td>DEL → BOM → COK</td>\n",
              "      <td>08:00</td>\n",
              "      <td>21:00</td>\n",
              "      <td>13h</td>\n",
              "      <td>1 stop</td>\n",
              "      <td>No info</td>\n",
              "    </tr>\n",
              "    <tr>\n",
              "      <th>4</th>\n",
              "      <td>Air Asia</td>\n",
              "      <td>24/06/2019</td>\n",
              "      <td>Banglore</td>\n",
              "      <td>Delhi</td>\n",
              "      <td>BLR → DEL</td>\n",
              "      <td>23:55</td>\n",
              "      <td>02:45 25 Jun</td>\n",
              "      <td>2h 50m</td>\n",
              "      <td>non-stop</td>\n",
              "      <td>No info</td>\n",
              "    </tr>\n",
              "  </tbody>\n",
              "</table>\n",
              "</div>"
            ],
            "text/plain": [
              "             Airline Date_of_Journey    Source Destination            Route  \\\n",
              "0        Jet Airways       6/06/2019     Delhi      Cochin  DEL → BOM → COK   \n",
              "1             IndiGo      12/05/2019   Kolkata    Banglore  CCU → MAA → BLR   \n",
              "2        Jet Airways      21/05/2019     Delhi      Cochin  DEL → BOM → COK   \n",
              "3  Multiple carriers      21/05/2019     Delhi      Cochin  DEL → BOM → COK   \n",
              "4           Air Asia      24/06/2019  Banglore       Delhi        BLR → DEL   \n",
              "\n",
              "  Dep_Time  Arrival_Time Duration Total_Stops              Additional_Info  \n",
              "0    17:30  04:25 07 Jun  10h 55m      1 stop                      No info  \n",
              "1    06:20         10:20       4h      1 stop                      No info  \n",
              "2    19:15  19:00 22 May  23h 45m      1 stop  In-flight meal not included  \n",
              "3    08:00         21:00      13h      1 stop                      No info  \n",
              "4    23:55  02:45 25 Jun   2h 50m    non-stop                      No info  "
            ]
          },
          "metadata": {},
          "execution_count": 14
        }
      ]
    },
    {
      "cell_type": "code",
      "metadata": {
        "colab": {
          "base_uri": "https://localhost:8080/"
        },
        "id": "25LC8E40x_-h",
        "outputId": "2d14d869-5e55-4cfa-8c55-e14ac4067118"
      },
      "source": [
        "test_df.shape"
      ],
      "execution_count": 15,
      "outputs": [
        {
          "output_type": "execute_result",
          "data": {
            "text/plain": [
              "(2671, 10)"
            ]
          },
          "metadata": {},
          "execution_count": 15
        }
      ]
    },
    {
      "cell_type": "code",
      "metadata": {
        "id": "xPwzi9YEyVJO"
      },
      "source": [
        "n_test = test_df.shape[0]"
      ],
      "execution_count": 16,
      "outputs": []
    },
    {
      "cell_type": "code",
      "metadata": {
        "colab": {
          "base_uri": "https://localhost:8080/"
        },
        "id": "hYrsqzD8x7Kf",
        "outputId": "6c7914de-8a73-4ca4-a75b-75c2fd96991a"
      },
      "source": [
        "test_df.columns"
      ],
      "execution_count": 17,
      "outputs": [
        {
          "output_type": "execute_result",
          "data": {
            "text/plain": [
              "Index(['Airline', 'Date_of_Journey', 'Source', 'Destination', 'Route',\n",
              "       'Dep_Time', 'Arrival_Time', 'Duration', 'Total_Stops',\n",
              "       'Additional_Info'],\n",
              "      dtype='object')"
            ]
          },
          "metadata": {},
          "execution_count": 17
        }
      ]
    },
    {
      "cell_type": "code",
      "metadata": {
        "id": "4Pq6lur9zEuo"
      },
      "source": [
        "# Add \"fake\" price column to test data\n",
        "test_df[\"Price\"] = n_test*(-1.)"
      ],
      "execution_count": 18,
      "outputs": []
    },
    {
      "cell_type": "code",
      "metadata": {
        "colab": {
          "base_uri": "https://localhost:8080/",
          "height": 354
        },
        "id": "nz5_kPnFzI2G",
        "outputId": "a009e980-692f-4c0b-ca5c-d6e6a0139272"
      },
      "source": [
        "test_df.head()"
      ],
      "execution_count": 19,
      "outputs": [
        {
          "output_type": "execute_result",
          "data": {
            "text/html": [
              "<div>\n",
              "<style scoped>\n",
              "    .dataframe tbody tr th:only-of-type {\n",
              "        vertical-align: middle;\n",
              "    }\n",
              "\n",
              "    .dataframe tbody tr th {\n",
              "        vertical-align: top;\n",
              "    }\n",
              "\n",
              "    .dataframe thead th {\n",
              "        text-align: right;\n",
              "    }\n",
              "</style>\n",
              "<table border=\"1\" class=\"dataframe\">\n",
              "  <thead>\n",
              "    <tr style=\"text-align: right;\">\n",
              "      <th></th>\n",
              "      <th>Airline</th>\n",
              "      <th>Date_of_Journey</th>\n",
              "      <th>Source</th>\n",
              "      <th>Destination</th>\n",
              "      <th>Route</th>\n",
              "      <th>Dep_Time</th>\n",
              "      <th>Arrival_Time</th>\n",
              "      <th>Duration</th>\n",
              "      <th>Total_Stops</th>\n",
              "      <th>Additional_Info</th>\n",
              "      <th>Price</th>\n",
              "    </tr>\n",
              "  </thead>\n",
              "  <tbody>\n",
              "    <tr>\n",
              "      <th>0</th>\n",
              "      <td>Jet Airways</td>\n",
              "      <td>6/06/2019</td>\n",
              "      <td>Delhi</td>\n",
              "      <td>Cochin</td>\n",
              "      <td>DEL → BOM → COK</td>\n",
              "      <td>17:30</td>\n",
              "      <td>04:25 07 Jun</td>\n",
              "      <td>10h 55m</td>\n",
              "      <td>1 stop</td>\n",
              "      <td>No info</td>\n",
              "      <td>-2671.0</td>\n",
              "    </tr>\n",
              "    <tr>\n",
              "      <th>1</th>\n",
              "      <td>IndiGo</td>\n",
              "      <td>12/05/2019</td>\n",
              "      <td>Kolkata</td>\n",
              "      <td>Banglore</td>\n",
              "      <td>CCU → MAA → BLR</td>\n",
              "      <td>06:20</td>\n",
              "      <td>10:20</td>\n",
              "      <td>4h</td>\n",
              "      <td>1 stop</td>\n",
              "      <td>No info</td>\n",
              "      <td>-2671.0</td>\n",
              "    </tr>\n",
              "    <tr>\n",
              "      <th>2</th>\n",
              "      <td>Jet Airways</td>\n",
              "      <td>21/05/2019</td>\n",
              "      <td>Delhi</td>\n",
              "      <td>Cochin</td>\n",
              "      <td>DEL → BOM → COK</td>\n",
              "      <td>19:15</td>\n",
              "      <td>19:00 22 May</td>\n",
              "      <td>23h 45m</td>\n",
              "      <td>1 stop</td>\n",
              "      <td>In-flight meal not included</td>\n",
              "      <td>-2671.0</td>\n",
              "    </tr>\n",
              "    <tr>\n",
              "      <th>3</th>\n",
              "      <td>Multiple carriers</td>\n",
              "      <td>21/05/2019</td>\n",
              "      <td>Delhi</td>\n",
              "      <td>Cochin</td>\n",
              "      <td>DEL → BOM → COK</td>\n",
              "      <td>08:00</td>\n",
              "      <td>21:00</td>\n",
              "      <td>13h</td>\n",
              "      <td>1 stop</td>\n",
              "      <td>No info</td>\n",
              "      <td>-2671.0</td>\n",
              "    </tr>\n",
              "    <tr>\n",
              "      <th>4</th>\n",
              "      <td>Air Asia</td>\n",
              "      <td>24/06/2019</td>\n",
              "      <td>Banglore</td>\n",
              "      <td>Delhi</td>\n",
              "      <td>BLR → DEL</td>\n",
              "      <td>23:55</td>\n",
              "      <td>02:45 25 Jun</td>\n",
              "      <td>2h 50m</td>\n",
              "      <td>non-stop</td>\n",
              "      <td>No info</td>\n",
              "      <td>-2671.0</td>\n",
              "    </tr>\n",
              "  </tbody>\n",
              "</table>\n",
              "</div>"
            ],
            "text/plain": [
              "             Airline Date_of_Journey    Source Destination            Route  \\\n",
              "0        Jet Airways       6/06/2019     Delhi      Cochin  DEL → BOM → COK   \n",
              "1             IndiGo      12/05/2019   Kolkata    Banglore  CCU → MAA → BLR   \n",
              "2        Jet Airways      21/05/2019     Delhi      Cochin  DEL → BOM → COK   \n",
              "3  Multiple carriers      21/05/2019     Delhi      Cochin  DEL → BOM → COK   \n",
              "4           Air Asia      24/06/2019  Banglore       Delhi        BLR → DEL   \n",
              "\n",
              "  Dep_Time  Arrival_Time Duration Total_Stops              Additional_Info  \\\n",
              "0    17:30  04:25 07 Jun  10h 55m      1 stop                      No info   \n",
              "1    06:20         10:20       4h      1 stop                      No info   \n",
              "2    19:15  19:00 22 May  23h 45m      1 stop  In-flight meal not included   \n",
              "3    08:00         21:00      13h      1 stop                      No info   \n",
              "4    23:55  02:45 25 Jun   2h 50m    non-stop                      No info   \n",
              "\n",
              "    Price  \n",
              "0 -2671.0  \n",
              "1 -2671.0  \n",
              "2 -2671.0  \n",
              "3 -2671.0  \n",
              "4 -2671.0  "
            ]
          },
          "metadata": {},
          "execution_count": 19
        }
      ]
    },
    {
      "cell_type": "markdown",
      "metadata": {
        "id": "14cVDXpFzNwI"
      },
      "source": [
        "## Concatenate the dataframes to do the data wrangligng"
      ]
    },
    {
      "cell_type": "code",
      "metadata": {
        "id": "GWGAxuEuxfvS"
      },
      "source": [
        "combined_df = pd.concat([df, test_df], ignore_index=True)"
      ],
      "execution_count": 20,
      "outputs": []
    },
    {
      "cell_type": "code",
      "metadata": {
        "colab": {
          "base_uri": "https://localhost:8080/",
          "height": 388
        },
        "id": "qVr5pG2mz1Op",
        "outputId": "994da541-c238-4f58-b5c9-f741ac27df19"
      },
      "source": [
        "combined_df.head()"
      ],
      "execution_count": 21,
      "outputs": [
        {
          "output_type": "execute_result",
          "data": {
            "text/html": [
              "<div>\n",
              "<style scoped>\n",
              "    .dataframe tbody tr th:only-of-type {\n",
              "        vertical-align: middle;\n",
              "    }\n",
              "\n",
              "    .dataframe tbody tr th {\n",
              "        vertical-align: top;\n",
              "    }\n",
              "\n",
              "    .dataframe thead th {\n",
              "        text-align: right;\n",
              "    }\n",
              "</style>\n",
              "<table border=\"1\" class=\"dataframe\">\n",
              "  <thead>\n",
              "    <tr style=\"text-align: right;\">\n",
              "      <th></th>\n",
              "      <th>Airline</th>\n",
              "      <th>Date_of_Journey</th>\n",
              "      <th>Source</th>\n",
              "      <th>Destination</th>\n",
              "      <th>Route</th>\n",
              "      <th>Dep_Time</th>\n",
              "      <th>Arrival_Time</th>\n",
              "      <th>Duration</th>\n",
              "      <th>Total_Stops</th>\n",
              "      <th>Additional_Info</th>\n",
              "      <th>Price</th>\n",
              "    </tr>\n",
              "  </thead>\n",
              "  <tbody>\n",
              "    <tr>\n",
              "      <th>0</th>\n",
              "      <td>IndiGo</td>\n",
              "      <td>24/03/2019</td>\n",
              "      <td>Banglore</td>\n",
              "      <td>New Delhi</td>\n",
              "      <td>BLR → DEL</td>\n",
              "      <td>22:20</td>\n",
              "      <td>01:10 22 Mar</td>\n",
              "      <td>2h 50m</td>\n",
              "      <td>non-stop</td>\n",
              "      <td>No info</td>\n",
              "      <td>3897.0</td>\n",
              "    </tr>\n",
              "    <tr>\n",
              "      <th>1</th>\n",
              "      <td>Air India</td>\n",
              "      <td>1/05/2019</td>\n",
              "      <td>Kolkata</td>\n",
              "      <td>Banglore</td>\n",
              "      <td>CCU → IXR → BBI → BLR</td>\n",
              "      <td>05:50</td>\n",
              "      <td>13:15</td>\n",
              "      <td>7h 25m</td>\n",
              "      <td>2 stops</td>\n",
              "      <td>No info</td>\n",
              "      <td>7662.0</td>\n",
              "    </tr>\n",
              "    <tr>\n",
              "      <th>2</th>\n",
              "      <td>Jet Airways</td>\n",
              "      <td>9/06/2019</td>\n",
              "      <td>Delhi</td>\n",
              "      <td>Cochin</td>\n",
              "      <td>DEL → LKO → BOM → COK</td>\n",
              "      <td>09:25</td>\n",
              "      <td>04:25 10 Jun</td>\n",
              "      <td>19h</td>\n",
              "      <td>2 stops</td>\n",
              "      <td>No info</td>\n",
              "      <td>13882.0</td>\n",
              "    </tr>\n",
              "    <tr>\n",
              "      <th>3</th>\n",
              "      <td>IndiGo</td>\n",
              "      <td>12/05/2019</td>\n",
              "      <td>Kolkata</td>\n",
              "      <td>Banglore</td>\n",
              "      <td>CCU → NAG → BLR</td>\n",
              "      <td>18:05</td>\n",
              "      <td>23:30</td>\n",
              "      <td>5h 25m</td>\n",
              "      <td>1 stop</td>\n",
              "      <td>No info</td>\n",
              "      <td>6218.0</td>\n",
              "    </tr>\n",
              "    <tr>\n",
              "      <th>4</th>\n",
              "      <td>IndiGo</td>\n",
              "      <td>01/03/2019</td>\n",
              "      <td>Banglore</td>\n",
              "      <td>New Delhi</td>\n",
              "      <td>BLR → NAG → DEL</td>\n",
              "      <td>16:50</td>\n",
              "      <td>21:35</td>\n",
              "      <td>4h 45m</td>\n",
              "      <td>1 stop</td>\n",
              "      <td>No info</td>\n",
              "      <td>13302.0</td>\n",
              "    </tr>\n",
              "  </tbody>\n",
              "</table>\n",
              "</div>"
            ],
            "text/plain": [
              "       Airline Date_of_Journey    Source Destination                  Route  \\\n",
              "0       IndiGo      24/03/2019  Banglore   New Delhi              BLR → DEL   \n",
              "1    Air India       1/05/2019   Kolkata    Banglore  CCU → IXR → BBI → BLR   \n",
              "2  Jet Airways       9/06/2019     Delhi      Cochin  DEL → LKO → BOM → COK   \n",
              "3       IndiGo      12/05/2019   Kolkata    Banglore        CCU → NAG → BLR   \n",
              "4       IndiGo      01/03/2019  Banglore   New Delhi        BLR → NAG → DEL   \n",
              "\n",
              "  Dep_Time  Arrival_Time Duration Total_Stops Additional_Info    Price  \n",
              "0    22:20  01:10 22 Mar   2h 50m    non-stop         No info   3897.0  \n",
              "1    05:50         13:15   7h 25m     2 stops         No info   7662.0  \n",
              "2    09:25  04:25 10 Jun      19h     2 stops         No info  13882.0  \n",
              "3    18:05         23:30   5h 25m      1 stop         No info   6218.0  \n",
              "4    16:50         21:35   4h 45m      1 stop         No info  13302.0  "
            ]
          },
          "metadata": {},
          "execution_count": 21
        }
      ]
    },
    {
      "cell_type": "code",
      "metadata": {
        "colab": {
          "base_uri": "https://localhost:8080/",
          "height": 461
        },
        "id": "oNnOGQsozwsD",
        "outputId": "17711175-9468-40ad-ea90-e0f0ab041272"
      },
      "source": [
        "combined_df.iloc[n_train-2:n_train+2, :]"
      ],
      "execution_count": 22,
      "outputs": [
        {
          "output_type": "execute_result",
          "data": {
            "text/html": [
              "<div>\n",
              "<style scoped>\n",
              "    .dataframe tbody tr th:only-of-type {\n",
              "        vertical-align: middle;\n",
              "    }\n",
              "\n",
              "    .dataframe tbody tr th {\n",
              "        vertical-align: top;\n",
              "    }\n",
              "\n",
              "    .dataframe thead th {\n",
              "        text-align: right;\n",
              "    }\n",
              "</style>\n",
              "<table border=\"1\" class=\"dataframe\">\n",
              "  <thead>\n",
              "    <tr style=\"text-align: right;\">\n",
              "      <th></th>\n",
              "      <th>Airline</th>\n",
              "      <th>Date_of_Journey</th>\n",
              "      <th>Source</th>\n",
              "      <th>Destination</th>\n",
              "      <th>Route</th>\n",
              "      <th>Dep_Time</th>\n",
              "      <th>Arrival_Time</th>\n",
              "      <th>Duration</th>\n",
              "      <th>Total_Stops</th>\n",
              "      <th>Additional_Info</th>\n",
              "      <th>Price</th>\n",
              "    </tr>\n",
              "  </thead>\n",
              "  <tbody>\n",
              "    <tr>\n",
              "      <th>10681</th>\n",
              "      <td>Vistara</td>\n",
              "      <td>01/03/2019</td>\n",
              "      <td>Banglore</td>\n",
              "      <td>New Delhi</td>\n",
              "      <td>BLR → DEL</td>\n",
              "      <td>11:30</td>\n",
              "      <td>14:10</td>\n",
              "      <td>2h 40m</td>\n",
              "      <td>non-stop</td>\n",
              "      <td>No info</td>\n",
              "      <td>12648.0</td>\n",
              "    </tr>\n",
              "    <tr>\n",
              "      <th>10682</th>\n",
              "      <td>Air India</td>\n",
              "      <td>9/05/2019</td>\n",
              "      <td>Delhi</td>\n",
              "      <td>Cochin</td>\n",
              "      <td>DEL → GOI → BOM → COK</td>\n",
              "      <td>10:55</td>\n",
              "      <td>19:15</td>\n",
              "      <td>8h 20m</td>\n",
              "      <td>2 stops</td>\n",
              "      <td>No info</td>\n",
              "      <td>11753.0</td>\n",
              "    </tr>\n",
              "    <tr>\n",
              "      <th>10683</th>\n",
              "      <td>Jet Airways</td>\n",
              "      <td>6/06/2019</td>\n",
              "      <td>Delhi</td>\n",
              "      <td>Cochin</td>\n",
              "      <td>DEL → BOM → COK</td>\n",
              "      <td>17:30</td>\n",
              "      <td>04:25 07 Jun</td>\n",
              "      <td>10h 55m</td>\n",
              "      <td>1 stop</td>\n",
              "      <td>No info</td>\n",
              "      <td>-2671.0</td>\n",
              "    </tr>\n",
              "    <tr>\n",
              "      <th>10684</th>\n",
              "      <td>IndiGo</td>\n",
              "      <td>12/05/2019</td>\n",
              "      <td>Kolkata</td>\n",
              "      <td>Banglore</td>\n",
              "      <td>CCU → MAA → BLR</td>\n",
              "      <td>06:20</td>\n",
              "      <td>10:20</td>\n",
              "      <td>4h</td>\n",
              "      <td>1 stop</td>\n",
              "      <td>No info</td>\n",
              "      <td>-2671.0</td>\n",
              "    </tr>\n",
              "  </tbody>\n",
              "</table>\n",
              "</div>"
            ],
            "text/plain": [
              "           Airline Date_of_Journey    Source Destination  \\\n",
              "10681      Vistara      01/03/2019  Banglore   New Delhi   \n",
              "10682    Air India       9/05/2019     Delhi      Cochin   \n",
              "10683  Jet Airways       6/06/2019     Delhi      Cochin   \n",
              "10684       IndiGo      12/05/2019   Kolkata    Banglore   \n",
              "\n",
              "                       Route Dep_Time  Arrival_Time Duration Total_Stops  \\\n",
              "10681              BLR → DEL    11:30         14:10   2h 40m    non-stop   \n",
              "10682  DEL → GOI → BOM → COK    10:55         19:15   8h 20m     2 stops   \n",
              "10683        DEL → BOM → COK    17:30  04:25 07 Jun  10h 55m      1 stop   \n",
              "10684        CCU → MAA → BLR    06:20         10:20       4h      1 stop   \n",
              "\n",
              "      Additional_Info    Price  \n",
              "10681         No info  12648.0  \n",
              "10682         No info  11753.0  \n",
              "10683         No info  -2671.0  \n",
              "10684         No info  -2671.0  "
            ]
          },
          "metadata": {},
          "execution_count": 22
        }
      ]
    },
    {
      "cell_type": "markdown",
      "metadata": {
        "id": "hnZspvaRb1u1"
      },
      "source": [
        "# 5. Data Wrangling"
      ]
    },
    {
      "cell_type": "markdown",
      "metadata": {
        "id": "760_SzRRxzcq"
      },
      "source": [
        "1. Since data is in form of excel file we have to use pandas read_excel to load the data.\n",
        "\n",
        "2. After loading it is important to check the complete information of data as it can indication many of the hidden infomation such as null values in a column or a row\n",
        "\n",
        "3. Check whether any null values are there or not. if it is present then following can be done:\n",
        "\n",
        "\n",
        "\n",
        "> a. Imputing data using Imputation method in sklearn\n",
        "\n",
        "\n",
        "> b. Filling NaN values with mean, median and mode using fillna() method\n",
        "\n",
        "4. Describe data --> which can give statistical analysis"
      ]
    },
    {
      "cell_type": "code",
      "metadata": {
        "colab": {
          "base_uri": "https://localhost:8080/"
        },
        "id": "B0cofrCQ0YPh",
        "outputId": "e72a35be-f191-441e-b726-7c8b9d078f74"
      },
      "source": [
        "combined_df.info()"
      ],
      "execution_count": 23,
      "outputs": [
        {
          "output_type": "stream",
          "name": "stdout",
          "text": [
            "<class 'pandas.core.frame.DataFrame'>\n",
            "RangeIndex: 13354 entries, 0 to 13353\n",
            "Data columns (total 11 columns):\n",
            " #   Column           Non-Null Count  Dtype  \n",
            "---  ------           --------------  -----  \n",
            " 0   Airline          13354 non-null  object \n",
            " 1   Date_of_Journey  13354 non-null  object \n",
            " 2   Source           13354 non-null  object \n",
            " 3   Destination      13354 non-null  object \n",
            " 4   Route            13353 non-null  object \n",
            " 5   Dep_Time         13354 non-null  object \n",
            " 6   Arrival_Time     13354 non-null  object \n",
            " 7   Duration         13354 non-null  object \n",
            " 8   Total_Stops      13353 non-null  object \n",
            " 9   Additional_Info  13354 non-null  object \n",
            " 10  Price            13354 non-null  float64\n",
            "dtypes: float64(1), object(10)\n",
            "memory usage: 1.1+ MB\n"
          ]
        }
      ]
    },
    {
      "cell_type": "markdown",
      "metadata": {
        "id": "bwrxKQmwP6ey"
      },
      "source": [
        "Unique values of categorical features"
      ]
    },
    {
      "cell_type": "code",
      "metadata": {
        "colab": {
          "base_uri": "https://localhost:8080/"
        },
        "id": "n_chRBv2Pjbz",
        "outputId": "49062130-ec28-46a6-fc1c-13e36e1e92a3"
      },
      "source": [
        "print(\"Airlines: \", combined_df.Airline.unique())\n",
        "print(\"No. of Airlines: \", len(combined_df.Airline.unique()) )\n",
        "print()\n",
        "combined_df.Airline.value_counts()"
      ],
      "execution_count": 24,
      "outputs": [
        {
          "output_type": "stream",
          "name": "stdout",
          "text": [
            "Airlines:  ['IndiGo' 'Air India' 'Jet Airways' 'SpiceJet' 'Multiple carriers' 'GoAir'\n",
            " 'Vistara' 'Air Asia' 'Vistara Premium economy' 'Jet Airways Business'\n",
            " 'Multiple carriers Premium economy' 'Trujet']\n",
            "No. of Airlines:  12\n",
            "\n"
          ]
        },
        {
          "output_type": "execute_result",
          "data": {
            "text/plain": [
              "Jet Airways                          4746\n",
              "IndiGo                               2564\n",
              "Air India                            2192\n",
              "Multiple carriers                    1543\n",
              "SpiceJet                             1026\n",
              "Vistara                               608\n",
              "Air Asia                              405\n",
              "GoAir                                 240\n",
              "Multiple carriers Premium economy      16\n",
              "Jet Airways Business                    8\n",
              "Vistara Premium economy                 5\n",
              "Trujet                                  1\n",
              "Name: Airline, dtype: int64"
            ]
          },
          "metadata": {},
          "execution_count": 24
        }
      ]
    },
    {
      "cell_type": "code",
      "metadata": {
        "colab": {
          "base_uri": "https://localhost:8080/"
        },
        "id": "DXmLYFfdRWku",
        "outputId": "e5b187e5-fd9c-46fb-bff1-4e8a31ecbb62"
      },
      "source": [
        "print(\"Source: \", combined_df.Source.unique())\n",
        "print(\"No. of Sources: \", len(combined_df.Source.unique()) )\n",
        "print()\n",
        "combined_df.Source.value_counts()"
      ],
      "execution_count": 25,
      "outputs": [
        {
          "output_type": "stream",
          "name": "stdout",
          "text": [
            "Source:  ['Banglore' 'Kolkata' 'Delhi' 'Chennai' 'Mumbai']\n",
            "No. of Sources:  5\n",
            "\n"
          ]
        },
        {
          "output_type": "execute_result",
          "data": {
            "text/plain": [
              "Delhi       5682\n",
              "Kolkata     3581\n",
              "Banglore    2752\n",
              "Mumbai       883\n",
              "Chennai      456\n",
              "Name: Source, dtype: int64"
            ]
          },
          "metadata": {},
          "execution_count": 25
        }
      ]
    },
    {
      "cell_type": "code",
      "metadata": {
        "colab": {
          "base_uri": "https://localhost:8080/"
        },
        "id": "FxzR03cfRf0Z",
        "outputId": "970d5a54-f363-47c4-95d7-7faa96d191b0"
      },
      "source": [
        "print(\"Destination: \", combined_df.Destination.unique())\n",
        "print(\"No. of Destinations: \", len(combined_df.Destination.unique()) )\n",
        "print()\n",
        "combined_df.Destination.value_counts()"
      ],
      "execution_count": 26,
      "outputs": [
        {
          "output_type": "stream",
          "name": "stdout",
          "text": [
            "Destination:  ['New Delhi' 'Banglore' 'Cochin' 'Kolkata' 'Delhi' 'Hyderabad']\n",
            "No. of Destinations:  6\n",
            "\n"
          ]
        },
        {
          "output_type": "execute_result",
          "data": {
            "text/plain": [
              "Cochin       5682\n",
              "Banglore     3581\n",
              "Delhi        1582\n",
              "New Delhi    1170\n",
              "Hyderabad     883\n",
              "Kolkata       456\n",
              "Name: Destination, dtype: int64"
            ]
          },
          "metadata": {},
          "execution_count": 26
        }
      ]
    },
    {
      "cell_type": "code",
      "metadata": {
        "colab": {
          "base_uri": "https://localhost:8080/"
        },
        "id": "bm3UepFJRhKG",
        "outputId": "2a47e684-897b-4b12-deb2-b4612a3a5144"
      },
      "source": [
        "# print(\"Routes: \", combined_df.Route.unique())\n",
        "# print(\"No. of Routes: \", len(combined_df.Route.unique()) )\n",
        "print()\n",
        "combined_df.Route.value_counts()"
      ],
      "execution_count": 27,
      "outputs": [
        {
          "output_type": "stream",
          "name": "stdout",
          "text": [
            "\n"
          ]
        },
        {
          "output_type": "execute_result",
          "data": {
            "text/plain": [
              "DEL → BOM → COK                3000\n",
              "BLR → DEL                      1941\n",
              "CCU → BOM → BLR                1232\n",
              "CCU → BLR                       896\n",
              "BOM → HYD                       785\n",
              "                               ... \n",
              "CCU → RPR → HYD → BLR             1\n",
              "BOM → UDR → DEL → HYD             1\n",
              "BOM → JDH → JAI → DEL → HYD       1\n",
              "CCU → IXB → DEL → BLR             1\n",
              "CCU → IXA → BLR                   1\n",
              "Name: Route, Length: 132, dtype: int64"
            ]
          },
          "metadata": {},
          "execution_count": 27
        }
      ]
    },
    {
      "cell_type": "code",
      "metadata": {
        "colab": {
          "base_uri": "https://localhost:8080/"
        },
        "id": "_SMHC8-i16NQ",
        "outputId": "34f79f15-751c-4144-9c0c-f3029e609537"
      },
      "source": [
        "print(\"Dep_Time: \", combined_df.Dep_Time.unique())\n",
        "print(\"No. of Dep_Times: \", len(combined_df.Dep_Time.unique()) )\n",
        "print()\n",
        "combined_df.Dep_Time.value_counts()"
      ],
      "execution_count": 28,
      "outputs": [
        {
          "output_type": "stream",
          "name": "stdout",
          "text": [
            "Dep_Time:  ['22:20' '05:50' '09:25' '18:05' '16:50' '09:00' '18:55' '08:00' '08:55'\n",
            " '11:25' '09:45' '20:20' '11:40' '21:10' '17:15' '16:40' '08:45' '14:00'\n",
            " '20:15' '16:00' '14:10' '22:00' '04:00' '21:25' '21:50' '07:00' '07:05'\n",
            " '09:50' '14:35' '10:35' '15:05' '14:15' '06:45' '20:55' '11:10' '05:45'\n",
            " '19:00' '23:05' '11:00' '09:35' '21:15' '23:55' '19:45' '08:50' '15:40'\n",
            " '06:05' '15:00' '13:55' '05:55' '13:20' '05:05' '06:25' '17:30' '08:20'\n",
            " '19:55' '06:30' '14:05' '02:00' '09:40' '08:25' '20:25' '13:15' '02:15'\n",
            " '16:55' '20:45' '05:15' '19:50' '20:00' '06:10' '19:30' '04:45' '12:55'\n",
            " '18:15' '17:20' '15:25' '23:00' '12:00' '14:45' '11:50' '11:30' '14:40'\n",
            " '19:10' '06:00' '23:30' '07:35' '13:05' '12:30' '15:10' '12:50' '18:25'\n",
            " '16:30' '00:40' '06:50' '13:00' '19:15' '01:30' '17:00' '10:00' '19:35'\n",
            " '15:30' '12:10' '16:10' '20:35' '22:25' '21:05' '05:35' '05:10' '06:40'\n",
            " '15:15' '00:30' '08:30' '07:10' '05:30' '14:25' '05:25' '10:20' '17:45'\n",
            " '13:10' '22:10' '04:55' '17:50' '21:20' '06:20' '15:55' '20:30' '17:25'\n",
            " '09:30' '07:30' '02:35' '10:55' '17:10' '09:10' '18:45' '15:20' '22:50'\n",
            " '14:55' '14:20' '13:25' '22:15' '11:05' '16:15' '20:10' '06:55' '19:05'\n",
            " '07:55' '07:45' '10:10' '08:15' '11:35' '21:00' '17:55' '16:45' '18:20'\n",
            " '03:50' '08:35' '19:20' '20:05' '17:40' '04:40' '17:35' '09:55' '05:00'\n",
            " '18:00' '02:55' '20:40' '22:55' '22:40' '21:30' '08:10' '17:05' '07:25'\n",
            " '15:45' '09:15' '15:50' '11:45' '22:05' '18:35' '00:25' '19:40' '20:50'\n",
            " '22:45' '10:30' '23:25' '11:55' '10:45' '11:15' '12:20' '14:30' '07:15'\n",
            " '01:35' '18:40' '09:20' '21:55' '13:50' '01:40' '00:20' '04:15' '13:45'\n",
            " '18:30' '06:15' '02:05' '12:15' '13:30' '06:35' '10:05' '08:40' '03:05'\n",
            " '21:35' '16:35' '02:30' '16:25' '05:40' '15:35' '13:40' '07:20' '04:50'\n",
            " '12:45' '10:25' '12:05' '11:20' '21:40' '03:00' '22:30']\n",
            "No. of Dep_Times:  223\n",
            "\n"
          ]
        },
        {
          "output_type": "execute_result",
          "data": {
            "text/plain": [
              "18:55    288\n",
              "17:00    275\n",
              "10:00    265\n",
              "07:05    240\n",
              "07:10    239\n",
              "        ... \n",
              "04:15      1\n",
              "21:35      1\n",
              "21:40      1\n",
              "12:05      1\n",
              "12:45      1\n",
              "Name: Dep_Time, Length: 223, dtype: int64"
            ]
          },
          "metadata": {},
          "execution_count": 28
        }
      ]
    },
    {
      "cell_type": "code",
      "metadata": {
        "colab": {
          "base_uri": "https://localhost:8080/"
        },
        "id": "UP2RCFbL2B6r",
        "outputId": "69081b3f-1519-4de9-a666-ff039161d2a0"
      },
      "source": [
        "print(\"Arrival_Time: \", combined_df.Arrival_Time.unique())\n",
        "print(\"No. of Arrival_Time: \", len(combined_df.Arrival_Time.unique()) )\n",
        "print()\n",
        "combined_df.Arrival_Time.value_counts()"
      ],
      "execution_count": 29,
      "outputs": [
        {
          "output_type": "stream",
          "name": "stdout",
          "text": [
            "Arrival_Time:  ['01:10 22 Mar' '13:15' '04:25 10 Jun' ... '00:20 07 Mar' '00:20 02 Apr'\n",
            " '07:45 13 May']\n",
            "No. of Arrival_Time:  1451\n",
            "\n"
          ]
        },
        {
          "output_type": "execute_result",
          "data": {
            "text/plain": [
              "19:00           536\n",
              "21:00           466\n",
              "19:15           434\n",
              "16:10           185\n",
              "12:35           159\n",
              "               ... \n",
              "02:15 19 May      1\n",
              "23:00 28 Mar      1\n",
              "01:00 22 May      1\n",
              "22:55 10 Jun      1\n",
              "03:35 16 Jun      1\n",
              "Name: Arrival_Time, Length: 1451, dtype: int64"
            ]
          },
          "metadata": {},
          "execution_count": 29
        }
      ]
    },
    {
      "cell_type": "code",
      "metadata": {
        "colab": {
          "base_uri": "https://localhost:8080/"
        },
        "id": "gcz1jl3l2SsZ",
        "outputId": "6d3c5529-5fa3-4635-cf4c-9710c93132a3"
      },
      "source": [
        "print(\"Duration: \", combined_df.Duration.unique())\n",
        "print(\"No. of Duration: \", len(combined_df.Duration.unique()) )\n",
        "print()\n",
        "combined_df.Duration.value_counts()"
      ],
      "execution_count": 30,
      "outputs": [
        {
          "output_type": "stream",
          "name": "stdout",
          "text": [
            "Duration:  ['2h 50m' '7h 25m' '19h' '5h 25m' '4h 45m' '2h 25m' '15h 30m' '21h 5m'\n",
            " '25h 30m' '7h 50m' '13h 15m' '2h 35m' '2h 15m' '12h 10m' '26h 35m'\n",
            " '4h 30m' '22h 35m' '23h' '20h 35m' '5h 10m' '15h 20m' '2h 55m' '13h 20m'\n",
            " '15h 10m' '5h 45m' '5h 55m' '13h 25m' '22h' '5h 30m' '10h 25m' '5h 15m'\n",
            " '2h 30m' '6h 15m' '11h 55m' '11h 5m' '8h 30m' '22h 5m' '2h 45m' '12h'\n",
            " '16h 5m' '19h 55m' '3h 15m' '25h 20m' '3h' '16h 15m' '15h 5m' '6h 30m'\n",
            " '25h 5m' '12h 25m' '27h 20m' '10h 15m' '10h 30m' '1h 30m' '1h 25m'\n",
            " '26h 30m' '7h 20m' '13h 30m' '5h' '19h 5m' '14h 50m' '2h 40m' '22h 10m'\n",
            " '9h 35m' '10h' '21h 20m' '18h 45m' '12h 20m' '18h' '9h 15m' '17h 30m'\n",
            " '16h 35m' '12h 15m' '7h 30m' '24h' '8h 55m' '7h 10m' '14h 30m' '30h 20m'\n",
            " '15h' '12h 45m' '10h 10m' '15h 25m' '14h 5m' '20h 15m' '23h 10m'\n",
            " '18h 10m' '16h' '2h 20m' '8h' '16h 55m' '3h 10m' '14h' '23h 50m'\n",
            " '21h 40m' '21h 15m' '10h 50m' '8h 15m' '8h 35m' '11h 50m' '27h 35m'\n",
            " '8h 25m' '20h 55m' '4h 50m' '8h 10m' '24h 25m' '23h 35m' '25h 45m'\n",
            " '26h 10m' '28h 50m' '25h 15m' '9h 20m' '9h 10m' '3h 5m' '11h 30m'\n",
            " '9h 30m' '17h 35m' '5h 5m' '25h 50m' '20h' '13h' '18h 25m' '24h 10m'\n",
            " '4h 55m' '25h 35m' '6h 20m' '18h 40m' '19h 25m' '29h 20m' '9h 5m'\n",
            " '10h 45m' '11h 40m' '22h 55m' '37h 25m' '25h 40m' '13h 55m' '8h 40m'\n",
            " '23h 30m' '12h 35m' '24h 15m' '1h 20m' '11h' '11h 15m' '14h 35m'\n",
            " '12h 55m' '9h' '7h 40m' '11h 45m' '24h 55m' '17h 5m' '29h 55m' '22h 15m'\n",
            " '14h 40m' '7h 15m' '20h 10m' '20h 45m' '27h' '24h 30m' '20h 25m' '5h 35m'\n",
            " '14h 45m' '5h 40m' '4h 5m' '15h 55m' '7h 45m' '28h 20m' '4h 20m' '3h 40m'\n",
            " '8h 50m' '23h 45m' '24h 45m' '21h 35m' '8h 5m' '6h 25m' '15h 50m'\n",
            " '26h 25m' '24h 50m' '26h' '23h 5m' '7h 55m' '26h 20m' '23h 15m' '5h 20m'\n",
            " '4h' '9h 45m' '8h 20m' '17h 25m' '7h 5m' '34h 5m' '6h 5m' '5h 50m' '7h'\n",
            " '4h 25m' '13h 45m' '19h 15m' '22h 30m' '16h 25m' '13h 50m' '27h 5m'\n",
            " '28h 10m' '4h 40m' '15h 40m' '4h 35m' '18h 30m' '38h 15m' '6h 35m'\n",
            " '12h 30m' '11h 20m' '7h 35m' '29h 35m' '26h 55m' '23h 40m' '12h 50m'\n",
            " '9h 50m' '21h 55m' '10h 55m' '21h 10m' '20h 40m' '30h' '13h 10m' '8h 45m'\n",
            " '6h 10m' '17h 45m' '21h 45m' '3h 55m' '17h 20m' '30h 30m' '21h 25m'\n",
            " '12h 40m' '24h 35m' '19h 10m' '22h 40m' '14h 55m' '21h' '6h 45m'\n",
            " '28h 40m' '9h 40m' '16h 40m' '16h 20m' '16h 45m' '1h 15m' '6h 55m'\n",
            " '11h 25m' '14h 20m' '12h 5m' '24h 5m' '28h 15m' '17h 50m' '20h 20m'\n",
            " '28h 5m' '10h 20m' '14h 15m' '35h 15m' '35h 35m' '26h 40m' '28h'\n",
            " '14h 25m' '13h 5m' '37h 20m' '36h 10m' '25h 55m' '35h 5m' '19h 45m'\n",
            " '27h 55m' '47h' '10h 35m' '1h 35m' '16h 10m' '38h 20m' '6h' '16h 50m'\n",
            " '14h 10m' '23h 20m' '17h 40m' '11h 35m' '18h 20m' '6h 40m' '30h 55m'\n",
            " '24h 40m' '29h 50m' '28h 25m' '17h 15m' '22h 45m' '25h 25m' '21h 50m'\n",
            " '33h 15m' '30h 15m' '3h 35m' '27h 40m' '30h 25m' '18h 50m' '27h 45m'\n",
            " '15h 15m' '10h 40m' '26h 15m' '36h 25m' '26h 50m' '15h 45m' '19h 40m'\n",
            " '22h 25m' '19h 35m' '25h' '26h 45m' '38h' '4h 15m' '25h 10m' '18h 15m'\n",
            " '6h 50m' '23h 55m' '17h 55m' '23h 25m' '17h 10m' '24h 20m' '28h 30m'\n",
            " '27h 10m' '19h 20m' '15h 35m' '9h 25m' '21h 30m' '34h 25m' '18h 35m'\n",
            " '29h 40m' '26h 5m' '29h 5m' '27h 25m' '16h 30m' '11h 10m' '28h 55m'\n",
            " '29h 10m' '34h' '30h 40m' '30h 45m' '32h 55m' '10h 5m' '35h 20m' '32h 5m'\n",
            " '31h 40m' '19h 50m' '33h 45m' '30h 10m' '13h 40m' '19h 30m' '31h 30m'\n",
            " '34h 30m' '27h 50m' '38h 35m' '42h 5m' '4h 10m' '39h 5m' '3h 50m' '5m'\n",
            " '32h 30m' '31h 55m' '33h 20m' '27h 30m' '18h 55m' '9h 55m' '41h 20m'\n",
            " '20h 5m' '31h 50m' '42h 45m' '3h 25m' '37h 10m' '29h 30m' '32h 20m'\n",
            " '20h 50m' '40h 20m' '13h 35m' '47h 40m' '20h 30m' '3h 45m' '31h 10m'\n",
            " '40h 40m' '22h 50m' '32h 25m']\n",
            "No. of Duration:  374\n",
            "\n"
          ]
        },
        {
          "output_type": "execute_result",
          "data": {
            "text/plain": [
              "2h 50m     672\n",
              "1h 30m     493\n",
              "2h 45m     432\n",
              "2h 55m     418\n",
              "2h 35m     399\n",
              "          ... \n",
              "30h 10m      1\n",
              "29h 30m      1\n",
              "35h 20m      1\n",
              "47h 40m      1\n",
              "37h 10m      1\n",
              "Name: Duration, Length: 374, dtype: int64"
            ]
          },
          "metadata": {},
          "execution_count": 30
        }
      ]
    },
    {
      "cell_type": "code",
      "metadata": {
        "colab": {
          "base_uri": "https://localhost:8080/"
        },
        "id": "9QHmWhF92ay5",
        "outputId": "255ec2b2-571b-4daa-e440-21bd36364078"
      },
      "source": [
        "print(\"Total_Stops: \", combined_df.Total_Stops.unique())\n",
        "print(\"No. of Total_Stops: \", len(combined_df.Total_Stops.unique()) )\n",
        "print()\n",
        "combined_df.Total_Stops.value_counts()"
      ],
      "execution_count": 31,
      "outputs": [
        {
          "output_type": "stream",
          "name": "stdout",
          "text": [
            "Total_Stops:  ['non-stop' '2 stops' '1 stop' '3 stops' nan '4 stops']\n",
            "No. of Total_Stops:  6\n",
            "\n"
          ]
        },
        {
          "output_type": "execute_result",
          "data": {
            "text/plain": [
              "1 stop      7056\n",
              "non-stop    4340\n",
              "2 stops     1899\n",
              "3 stops       56\n",
              "4 stops        2\n",
              "Name: Total_Stops, dtype: int64"
            ]
          },
          "metadata": {},
          "execution_count": 31
        }
      ]
    },
    {
      "cell_type": "code",
      "metadata": {
        "colab": {
          "base_uri": "https://localhost:8080/"
        },
        "id": "VLnL9tC42i0E",
        "outputId": "336c9205-5c8c-4d1a-f064-3e8969bbf9f4"
      },
      "source": [
        "print(\"Additional_Info: \", combined_df.Additional_Info.unique())\n",
        "print(\"No. of Additional_Info: \", len(combined_df.Additional_Info.unique()) )\n",
        "print()\n",
        "combined_df.Additional_Info.value_counts()"
      ],
      "execution_count": 32,
      "outputs": [
        {
          "output_type": "stream",
          "name": "stdout",
          "text": [
            "Additional_Info:  ['No info' 'In-flight meal not included' 'No check-in baggage included'\n",
            " '1 Short layover' 'No Info' '1 Long layover' 'Change airports'\n",
            " 'Business class' 'Red-eye flight' '2 Long layover']\n",
            "No. of Additional_Info:  10\n",
            "\n"
          ]
        },
        {
          "output_type": "execute_result",
          "data": {
            "text/plain": [
              "No info                         10493\n",
              "In-flight meal not included      2426\n",
              "No check-in baggage included      396\n",
              "1 Long layover                     20\n",
              "Change airports                     8\n",
              "Business class                      5\n",
              "No Info                             3\n",
              "1 Short layover                     1\n",
              "2 Long layover                      1\n",
              "Red-eye flight                      1\n",
              "Name: Additional_Info, dtype: int64"
            ]
          },
          "metadata": {},
          "execution_count": 32
        }
      ]
    },
    {
      "cell_type": "code",
      "metadata": {
        "colab": {
          "base_uri": "https://localhost:8080/"
        },
        "id": "ppktN_WH2rkO",
        "outputId": "24ad953d-09db-44d7-9172-3bdc17ddf8ca"
      },
      "source": [
        "print(\"Price: \", combined_df.Price.unique())\n",
        "print(\"No. of Price: \", len(combined_df.Price.unique()) )\n",
        "print()\n",
        "combined_df.Price.value_counts()"
      ],
      "execution_count": 33,
      "outputs": [
        {
          "output_type": "stream",
          "name": "stdout",
          "text": [
            "Price:  [ 3897.  7662. 13882. ... 12352. 12648. -2671.]\n",
            "No. of Price:  1871\n",
            "\n"
          ]
        },
        {
          "output_type": "execute_result",
          "data": {
            "text/plain": [
              "-2671.0     2671\n",
              " 10262.0     258\n",
              " 10844.0     212\n",
              " 7229.0      162\n",
              " 4804.0      160\n",
              "            ... \n",
              " 6349.0        1\n",
              " 3758.0        1\n",
              " 6834.0        1\n",
              " 17282.0       1\n",
              " 14189.0       1\n",
              "Name: Price, Length: 1871, dtype: int64"
            ]
          },
          "metadata": {},
          "execution_count": 33
        }
      ]
    },
    {
      "cell_type": "code",
      "metadata": {
        "colab": {
          "base_uri": "https://localhost:8080/"
        },
        "id": "PjAS9ieg35aD",
        "outputId": "45296f49-0264-431d-a685-a6b503378e88"
      },
      "source": [
        "# Date_of_Journey\n",
        "print(\"No. of Date_of_Journey: \", len(combined_df.Date_of_Journey.unique()) )\n",
        "print()\n",
        "combined_df.Date_of_Journey.value_counts()"
      ],
      "execution_count": 34,
      "outputs": [
        {
          "output_type": "stream",
          "name": "stdout",
          "text": [
            "No. of Date_of_Journey:  44\n",
            "\n"
          ]
        },
        {
          "output_type": "execute_result",
          "data": {
            "text/plain": [
              "18/05/2019    633\n",
              "6/06/2019     630\n",
              "12/06/2019    628\n",
              "9/05/2019     628\n",
              "21/05/2019    615\n",
              "9/06/2019     614\n",
              "21/03/2019    516\n",
              "15/05/2019    511\n",
              "27/05/2019    447\n",
              "24/06/2019    436\n",
              "15/06/2019    433\n",
              "27/06/2019    430\n",
              "1/06/2019     430\n",
              "3/06/2019     425\n",
              "6/03/2019     405\n",
              "24/03/2019    401\n",
              "27/03/2019    364\n",
              "24/05/2019    357\n",
              "6/05/2019     355\n",
              "1/05/2019     339\n",
              "1/04/2019     335\n",
              "12/05/2019    327\n",
              "3/03/2019     280\n",
              "9/03/2019     255\n",
              "18/03/2019    197\n",
              "15/03/2019    195\n",
              "01/03/2019    186\n",
              "12/03/2019    185\n",
              "9/04/2019     149\n",
              "3/04/2019     138\n",
              "21/06/2019    133\n",
              "18/06/2019    127\n",
              "03/03/2019    123\n",
              "09/03/2019    123\n",
              "06/03/2019    123\n",
              "3/05/2019     117\n",
              "6/04/2019     114\n",
              "24/04/2019    113\n",
              "15/04/2019    112\n",
              "27/04/2019    109\n",
              "21/04/2019    104\n",
              "18/04/2019     79\n",
              "12/04/2019     74\n",
              "1/03/2019      59\n",
              "Name: Date_of_Journey, dtype: int64"
            ]
          },
          "metadata": {},
          "execution_count": 34
        }
      ]
    },
    {
      "cell_type": "markdown",
      "metadata": {
        "id": "fSl9uSw1QwK6"
      },
      "source": [
        "Check NULL values"
      ]
    },
    {
      "cell_type": "code",
      "metadata": {
        "colab": {
          "base_uri": "https://localhost:8080/"
        },
        "id": "ZyDLnzc2Qx9L",
        "outputId": "e07e183d-6e8c-41c5-c12a-29ca430a4716"
      },
      "source": [
        "combined_df.isnull().sum()"
      ],
      "execution_count": 35,
      "outputs": [
        {
          "output_type": "execute_result",
          "data": {
            "text/plain": [
              "Airline            0\n",
              "Date_of_Journey    0\n",
              "Source             0\n",
              "Destination        0\n",
              "Route              1\n",
              "Dep_Time           0\n",
              "Arrival_Time       0\n",
              "Duration           0\n",
              "Total_Stops        1\n",
              "Additional_Info    0\n",
              "Price              0\n",
              "dtype: int64"
            ]
          },
          "metadata": {},
          "execution_count": 35
        }
      ]
    },
    {
      "cell_type": "code",
      "metadata": {
        "colab": {
          "base_uri": "https://localhost:8080/"
        },
        "id": "WCFqqw-V3NB0",
        "outputId": "3001a87e-969b-4590-f333-b171c6c535f9"
      },
      "source": [
        "combined_df.shape"
      ],
      "execution_count": 36,
      "outputs": [
        {
          "output_type": "execute_result",
          "data": {
            "text/plain": [
              "(13354, 11)"
            ]
          },
          "metadata": {},
          "execution_count": 36
        }
      ]
    },
    {
      "cell_type": "code",
      "metadata": {
        "id": "7OuEH8N13kfI"
      },
      "source": [
        "# We have quite a large number of rows, just 2 NULL values, we can drop these two NULL rows"
      ],
      "execution_count": 37,
      "outputs": []
    },
    {
      "cell_type": "code",
      "metadata": {
        "id": "su1UPbr73I3C"
      },
      "source": [
        "# Drop NAN/NULL values\n",
        "combined_df.dropna(inplace=True)"
      ],
      "execution_count": 38,
      "outputs": []
    },
    {
      "cell_type": "code",
      "metadata": {
        "colab": {
          "base_uri": "https://localhost:8080/"
        },
        "id": "iYNyY5XF3Ivt",
        "outputId": "f40b9a95-9bfb-4cb2-801f-a4d14b2e47cf"
      },
      "source": [
        "combined_df.isnull().sum()"
      ],
      "execution_count": 39,
      "outputs": [
        {
          "output_type": "execute_result",
          "data": {
            "text/plain": [
              "Airline            0\n",
              "Date_of_Journey    0\n",
              "Source             0\n",
              "Destination        0\n",
              "Route              0\n",
              "Dep_Time           0\n",
              "Arrival_Time       0\n",
              "Duration           0\n",
              "Total_Stops        0\n",
              "Additional_Info    0\n",
              "Price              0\n",
              "dtype: int64"
            ]
          },
          "metadata": {},
          "execution_count": 39
        }
      ]
    },
    {
      "cell_type": "code",
      "metadata": {
        "colab": {
          "base_uri": "https://localhost:8080/"
        },
        "id": "pH_hDIDQ4ftm",
        "outputId": "24f12640-8b43-488f-d7a6-76ede23511cc"
      },
      "source": [
        "combined_df.shape"
      ],
      "execution_count": 40,
      "outputs": [
        {
          "output_type": "execute_result",
          "data": {
            "text/plain": [
              "(13353, 11)"
            ]
          },
          "metadata": {},
          "execution_count": 40
        }
      ]
    },
    {
      "cell_type": "markdown",
      "metadata": {
        "id": "4gyO9sia4lHq"
      },
      "source": [
        "We removed only 01 row."
      ]
    },
    {
      "cell_type": "code",
      "metadata": {
        "colab": {
          "base_uri": "https://localhost:8080/"
        },
        "id": "esOKbqlG3yb4",
        "outputId": "89cc7bc6-348f-43ff-bf6a-0a51dbd8814c"
      },
      "source": [
        "combined_df.columns"
      ],
      "execution_count": 41,
      "outputs": [
        {
          "output_type": "execute_result",
          "data": {
            "text/plain": [
              "Index(['Airline', 'Date_of_Journey', 'Source', 'Destination', 'Route',\n",
              "       'Dep_Time', 'Arrival_Time', 'Duration', 'Total_Stops',\n",
              "       'Additional_Info', 'Price'],\n",
              "      dtype='object')"
            ]
          },
          "metadata": {},
          "execution_count": 41
        }
      ]
    },
    {
      "cell_type": "code",
      "metadata": {
        "colab": {
          "base_uri": "https://localhost:8080/",
          "height": 295
        },
        "id": "lASYGIIQRtEG",
        "outputId": "772c4164-e971-4cca-8107-21d04bf72aa9"
      },
      "source": [
        "# Some statistics of Price (Training + test sets)\n",
        "combined_df[['Price']].describe()"
      ],
      "execution_count": 42,
      "outputs": [
        {
          "output_type": "execute_result",
          "data": {
            "text/html": [
              "<div>\n",
              "<style scoped>\n",
              "    .dataframe tbody tr th:only-of-type {\n",
              "        vertical-align: middle;\n",
              "    }\n",
              "\n",
              "    .dataframe tbody tr th {\n",
              "        vertical-align: top;\n",
              "    }\n",
              "\n",
              "    .dataframe thead th {\n",
              "        text-align: right;\n",
              "    }\n",
              "</style>\n",
              "<table border=\"1\" class=\"dataframe\">\n",
              "  <thead>\n",
              "    <tr style=\"text-align: right;\">\n",
              "      <th></th>\n",
              "      <th>Price</th>\n",
              "    </tr>\n",
              "  </thead>\n",
              "  <tbody>\n",
              "    <tr>\n",
              "      <th>count</th>\n",
              "      <td>13353.000000</td>\n",
              "    </tr>\n",
              "    <tr>\n",
              "      <th>mean</th>\n",
              "      <td>6735.219426</td>\n",
              "    </tr>\n",
              "    <tr>\n",
              "      <th>std</th>\n",
              "      <td>6255.972315</td>\n",
              "    </tr>\n",
              "    <tr>\n",
              "      <th>min</th>\n",
              "      <td>-2671.000000</td>\n",
              "    </tr>\n",
              "    <tr>\n",
              "      <th>25%</th>\n",
              "      <td>3625.000000</td>\n",
              "    </tr>\n",
              "    <tr>\n",
              "      <th>50%</th>\n",
              "      <td>6860.000000</td>\n",
              "    </tr>\n",
              "    <tr>\n",
              "      <th>75%</th>\n",
              "      <td>11087.000000</td>\n",
              "    </tr>\n",
              "    <tr>\n",
              "      <th>max</th>\n",
              "      <td>79512.000000</td>\n",
              "    </tr>\n",
              "  </tbody>\n",
              "</table>\n",
              "</div>"
            ],
            "text/plain": [
              "              Price\n",
              "count  13353.000000\n",
              "mean    6735.219426\n",
              "std     6255.972315\n",
              "min    -2671.000000\n",
              "25%     3625.000000\n",
              "50%     6860.000000\n",
              "75%    11087.000000\n",
              "max    79512.000000"
            ]
          },
          "metadata": {},
          "execution_count": 42
        }
      ]
    },
    {
      "cell_type": "code",
      "metadata": {
        "colab": {
          "base_uri": "https://localhost:8080/"
        },
        "id": "WBw35z4fQvbu",
        "outputId": "e8a4b363-7510-4534-f174-17a188d16c83"
      },
      "source": [
        "# Some statistics of Price (Training sets)\n",
        "combined_df.iloc[:n_train, :][\"Price\"].describe()"
      ],
      "execution_count": 43,
      "outputs": [
        {
          "output_type": "execute_result",
          "data": {
            "text/plain": [
              "count    10683.000000\n",
              "mean      9086.113919\n",
              "std       4612.735979\n",
              "min      -2671.000000\n",
              "25%       5277.000000\n",
              "50%       8372.000000\n",
              "75%      12373.000000\n",
              "max      79512.000000\n",
              "Name: Price, dtype: float64"
            ]
          },
          "metadata": {},
          "execution_count": 43
        }
      ]
    },
    {
      "cell_type": "code",
      "metadata": {
        "colab": {
          "base_uri": "https://localhost:8080/"
        },
        "id": "hcDVCfb0R-kY",
        "outputId": "98c4d086-1a7b-47ac-b641-f3ee91f48f01"
      },
      "source": [
        "# Some statistics of Price (Test sets)\n",
        "combined_df.iloc[n_train:, :][\"Price\"].describe()"
      ],
      "execution_count": 44,
      "outputs": [
        {
          "output_type": "execute_result",
          "data": {
            "text/plain": [
              "count    2670.0\n",
              "mean    -2671.0\n",
              "std         0.0\n",
              "min     -2671.0\n",
              "25%     -2671.0\n",
              "50%     -2671.0\n",
              "75%     -2671.0\n",
              "max     -2671.0\n",
              "Name: Price, dtype: float64"
            ]
          },
          "metadata": {},
          "execution_count": 44
        }
      ]
    },
    {
      "cell_type": "markdown",
      "metadata": {
        "id": "_5N54CJp1xby"
      },
      "source": [
        "# EDA"
      ]
    },
    {
      "cell_type": "markdown",
      "metadata": {
        "id": "C9N2TXLNfhg8"
      },
      "source": [
        "## Date"
      ]
    },
    {
      "cell_type": "code",
      "metadata": {
        "colab": {
          "base_uri": "https://localhost:8080/",
          "height": 388
        },
        "id": "pGj6WlzUy72a",
        "outputId": "4b7d2209-b767-4410-f94a-03555db610cb"
      },
      "source": [
        "combined_df.head()"
      ],
      "execution_count": 45,
      "outputs": [
        {
          "output_type": "execute_result",
          "data": {
            "text/html": [
              "<div>\n",
              "<style scoped>\n",
              "    .dataframe tbody tr th:only-of-type {\n",
              "        vertical-align: middle;\n",
              "    }\n",
              "\n",
              "    .dataframe tbody tr th {\n",
              "        vertical-align: top;\n",
              "    }\n",
              "\n",
              "    .dataframe thead th {\n",
              "        text-align: right;\n",
              "    }\n",
              "</style>\n",
              "<table border=\"1\" class=\"dataframe\">\n",
              "  <thead>\n",
              "    <tr style=\"text-align: right;\">\n",
              "      <th></th>\n",
              "      <th>Airline</th>\n",
              "      <th>Date_of_Journey</th>\n",
              "      <th>Source</th>\n",
              "      <th>Destination</th>\n",
              "      <th>Route</th>\n",
              "      <th>Dep_Time</th>\n",
              "      <th>Arrival_Time</th>\n",
              "      <th>Duration</th>\n",
              "      <th>Total_Stops</th>\n",
              "      <th>Additional_Info</th>\n",
              "      <th>Price</th>\n",
              "    </tr>\n",
              "  </thead>\n",
              "  <tbody>\n",
              "    <tr>\n",
              "      <th>0</th>\n",
              "      <td>IndiGo</td>\n",
              "      <td>24/03/2019</td>\n",
              "      <td>Banglore</td>\n",
              "      <td>New Delhi</td>\n",
              "      <td>BLR → DEL</td>\n",
              "      <td>22:20</td>\n",
              "      <td>01:10 22 Mar</td>\n",
              "      <td>2h 50m</td>\n",
              "      <td>non-stop</td>\n",
              "      <td>No info</td>\n",
              "      <td>3897.0</td>\n",
              "    </tr>\n",
              "    <tr>\n",
              "      <th>1</th>\n",
              "      <td>Air India</td>\n",
              "      <td>1/05/2019</td>\n",
              "      <td>Kolkata</td>\n",
              "      <td>Banglore</td>\n",
              "      <td>CCU → IXR → BBI → BLR</td>\n",
              "      <td>05:50</td>\n",
              "      <td>13:15</td>\n",
              "      <td>7h 25m</td>\n",
              "      <td>2 stops</td>\n",
              "      <td>No info</td>\n",
              "      <td>7662.0</td>\n",
              "    </tr>\n",
              "    <tr>\n",
              "      <th>2</th>\n",
              "      <td>Jet Airways</td>\n",
              "      <td>9/06/2019</td>\n",
              "      <td>Delhi</td>\n",
              "      <td>Cochin</td>\n",
              "      <td>DEL → LKO → BOM → COK</td>\n",
              "      <td>09:25</td>\n",
              "      <td>04:25 10 Jun</td>\n",
              "      <td>19h</td>\n",
              "      <td>2 stops</td>\n",
              "      <td>No info</td>\n",
              "      <td>13882.0</td>\n",
              "    </tr>\n",
              "    <tr>\n",
              "      <th>3</th>\n",
              "      <td>IndiGo</td>\n",
              "      <td>12/05/2019</td>\n",
              "      <td>Kolkata</td>\n",
              "      <td>Banglore</td>\n",
              "      <td>CCU → NAG → BLR</td>\n",
              "      <td>18:05</td>\n",
              "      <td>23:30</td>\n",
              "      <td>5h 25m</td>\n",
              "      <td>1 stop</td>\n",
              "      <td>No info</td>\n",
              "      <td>6218.0</td>\n",
              "    </tr>\n",
              "    <tr>\n",
              "      <th>4</th>\n",
              "      <td>IndiGo</td>\n",
              "      <td>01/03/2019</td>\n",
              "      <td>Banglore</td>\n",
              "      <td>New Delhi</td>\n",
              "      <td>BLR → NAG → DEL</td>\n",
              "      <td>16:50</td>\n",
              "      <td>21:35</td>\n",
              "      <td>4h 45m</td>\n",
              "      <td>1 stop</td>\n",
              "      <td>No info</td>\n",
              "      <td>13302.0</td>\n",
              "    </tr>\n",
              "  </tbody>\n",
              "</table>\n",
              "</div>"
            ],
            "text/plain": [
              "       Airline Date_of_Journey    Source Destination                  Route  \\\n",
              "0       IndiGo      24/03/2019  Banglore   New Delhi              BLR → DEL   \n",
              "1    Air India       1/05/2019   Kolkata    Banglore  CCU → IXR → BBI → BLR   \n",
              "2  Jet Airways       9/06/2019     Delhi      Cochin  DEL → LKO → BOM → COK   \n",
              "3       IndiGo      12/05/2019   Kolkata    Banglore        CCU → NAG → BLR   \n",
              "4       IndiGo      01/03/2019  Banglore   New Delhi        BLR → NAG → DEL   \n",
              "\n",
              "  Dep_Time  Arrival_Time Duration Total_Stops Additional_Info    Price  \n",
              "0    22:20  01:10 22 Mar   2h 50m    non-stop         No info   3897.0  \n",
              "1    05:50         13:15   7h 25m     2 stops         No info   7662.0  \n",
              "2    09:25  04:25 10 Jun      19h     2 stops         No info  13882.0  \n",
              "3    18:05         23:30   5h 25m      1 stop         No info   6218.0  \n",
              "4    16:50         21:35   4h 45m      1 stop         No info  13302.0  "
            ]
          },
          "metadata": {},
          "execution_count": 45
        }
      ]
    },
    {
      "cell_type": "markdown",
      "metadata": {
        "id": "60KpThH814fy"
      },
      "source": [
        "Use pandas **to_datetime** to convert object data type to datetime dtype."
      ]
    },
    {
      "cell_type": "code",
      "metadata": {
        "id": "j7yQLKbly7se"
      },
      "source": [
        "# Date of journey\n",
        "flight_datetime = pd.to_datetime(combined_df.Date_of_Journey, format=\"%d/%m/%Y\")\n",
        "combined_df[\"flight_day\"] = flight_datetime.dt.day\n",
        "combined_df[\"flight_month\"] = flight_datetime.dt.month\n",
        "combined_df[\"flight_year\"]  = flight_datetime.dt.year\n",
        "combined_df[\"flight_dayofweek\"] = flight_datetime.dt.dayofweek # Monday=0, Sunday=6."
      ],
      "execution_count": 46,
      "outputs": []
    },
    {
      "cell_type": "code",
      "metadata": {
        "colab": {
          "base_uri": "https://localhost:8080/"
        },
        "id": "sGqs9jP02B69",
        "outputId": "a8420dc5-ca05-43ee-fb8d-b15864715df9"
      },
      "source": [
        "combined_df.flight_year.unique()"
      ],
      "execution_count": 47,
      "outputs": [
        {
          "output_type": "execute_result",
          "data": {
            "text/plain": [
              "array([2019])"
            ]
          },
          "metadata": {},
          "execution_count": 47
        }
      ]
    },
    {
      "cell_type": "code",
      "metadata": {
        "colab": {
          "base_uri": "https://localhost:8080/"
        },
        "id": "oQ-LVgbUhEO6",
        "outputId": "371e9793-3c88-42f2-8794-48e930e8e314"
      },
      "source": [
        "combined_df.flight_month.unique()"
      ],
      "execution_count": 48,
      "outputs": [
        {
          "output_type": "execute_result",
          "data": {
            "text/plain": [
              "array([3, 5, 6, 4])"
            ]
          },
          "metadata": {},
          "execution_count": 48
        }
      ]
    },
    {
      "cell_type": "markdown",
      "metadata": {
        "id": "2-PEotXO2Lkb"
      },
      "source": [
        "Only one year of 2019, we'll remove \"flight_year\" and \"Date_of_Journey\" columns."
      ]
    },
    {
      "cell_type": "code",
      "metadata": {
        "id": "lqw_QtXd1eWJ"
      },
      "source": [
        "combined_df.drop([\"flight_year\", \"Date_of_Journey\"], axis=1, inplace=True)"
      ],
      "execution_count": 49,
      "outputs": []
    },
    {
      "cell_type": "code",
      "metadata": {
        "colab": {
          "base_uri": "https://localhost:8080/",
          "height": 347
        },
        "id": "Lf9MT_wuf-AI",
        "outputId": "acdcefe9-dcf2-4cf6-b9db-fc70cb7824af"
      },
      "source": [
        "combined_df.groupby('flight_month').Price.mean().plot(kind='bar', title='Price', ylabel='Mean Price', xlabel='flight_month', figsize=(6, 5))\n",
        "plt.show()"
      ],
      "execution_count": 50,
      "outputs": [
        {
          "output_type": "display_data",
          "data": {
            "image/png": "[encoded data removed]",
            "text/plain": [
              "<Figure size 432x360 with 1 Axes>"
            ]
          },
          "metadata": {
            "needs_background": "light"
          }
        }
      ]
    },
    {
      "cell_type": "markdown",
      "metadata": {
        "id": "Yfb2tssRf6oJ"
      },
      "source": [
        "### Departure and arrival time"
      ]
    },
    {
      "cell_type": "code",
      "metadata": {
        "id": "Y_hpTnif1eLr"
      },
      "source": [
        "# Departure time\n",
        "combined_df[\"dep_hour\"] = pd.to_datetime(combined_df.Dep_Time).dt.hour\n",
        "combined_df[\"dep_min\"] = pd.to_datetime(combined_df.Dep_Time).dt.minute"
      ],
      "execution_count": 51,
      "outputs": []
    },
    {
      "cell_type": "code",
      "metadata": {
        "id": "KRWfm8Ym5xLr"
      },
      "source": [
        "# Remove Dep_Time column\n",
        "combined_df.drop([\"Dep_Time\"], axis=1, inplace=True)"
      ],
      "execution_count": 52,
      "outputs": []
    },
    {
      "cell_type": "code",
      "metadata": {
        "id": "ADTGRkFV6j-o"
      },
      "source": [
        "# Arrival time\n",
        "combined_df[\"arr_hour\"] = pd.to_datetime(combined_df.Arrival_Time).dt.hour\n",
        "combined_df[\"arr_min\"] = pd.to_datetime(combined_df.Arrival_Time).dt.minute\n",
        "combined_df.drop([\"Arrival_Time\"], axis=1, inplace=True)"
      ],
      "execution_count": 53,
      "outputs": []
    },
    {
      "cell_type": "code",
      "metadata": {
        "colab": {
          "base_uri": "https://localhost:8080/",
          "height": 559
        },
        "id": "ubwpWMO8y7hx",
        "outputId": "ebd37425-df46-46cf-f1a5-0379ae8ca88d"
      },
      "source": [
        "combined_df.head()"
      ],
      "execution_count": 54,
      "outputs": [
        {
          "output_type": "execute_result",
          "data": {
            "text/html": [
              "<div>\n",
              "<style scoped>\n",
              "    .dataframe tbody tr th:only-of-type {\n",
              "        vertical-align: middle;\n",
              "    }\n",
              "\n",
              "    .dataframe tbody tr th {\n",
              "        vertical-align: top;\n",
              "    }\n",
              "\n",
              "    .dataframe thead th {\n",
              "        text-align: right;\n",
              "    }\n",
              "</style>\n",
              "<table border=\"1\" class=\"dataframe\">\n",
              "  <thead>\n",
              "    <tr style=\"text-align: right;\">\n",
              "      <th></th>\n",
              "      <th>Airline</th>\n",
              "      <th>Source</th>\n",
              "      <th>Destination</th>\n",
              "      <th>Route</th>\n",
              "      <th>Duration</th>\n",
              "      <th>Total_Stops</th>\n",
              "      <th>Additional_Info</th>\n",
              "      <th>Price</th>\n",
              "      <th>flight_day</th>\n",
              "      <th>flight_month</th>\n",
              "      <th>flight_dayofweek</th>\n",
              "      <th>dep_hour</th>\n",
              "      <th>dep_min</th>\n",
              "      <th>arr_hour</th>\n",
              "      <th>arr_min</th>\n",
              "    </tr>\n",
              "  </thead>\n",
              "  <tbody>\n",
              "    <tr>\n",
              "      <th>0</th>\n",
              "      <td>IndiGo</td>\n",
              "      <td>Banglore</td>\n",
              "      <td>New Delhi</td>\n",
              "      <td>BLR → DEL</td>\n",
              "      <td>2h 50m</td>\n",
              "      <td>non-stop</td>\n",
              "      <td>No info</td>\n",
              "      <td>3897.0</td>\n",
              "      <td>24</td>\n",
              "      <td>3</td>\n",
              "      <td>6</td>\n",
              "      <td>22</td>\n",
              "      <td>20</td>\n",
              "      <td>1</td>\n",
              "      <td>10</td>\n",
              "    </tr>\n",
              "    <tr>\n",
              "      <th>1</th>\n",
              "      <td>Air India</td>\n",
              "      <td>Kolkata</td>\n",
              "      <td>Banglore</td>\n",
              "      <td>CCU → IXR → BBI → BLR</td>\n",
              "      <td>7h 25m</td>\n",
              "      <td>2 stops</td>\n",
              "      <td>No info</td>\n",
              "      <td>7662.0</td>\n",
              "      <td>1</td>\n",
              "      <td>5</td>\n",
              "      <td>2</td>\n",
              "      <td>5</td>\n",
              "      <td>50</td>\n",
              "      <td>13</td>\n",
              "      <td>15</td>\n",
              "    </tr>\n",
              "    <tr>\n",
              "      <th>2</th>\n",
              "      <td>Jet Airways</td>\n",
              "      <td>Delhi</td>\n",
              "      <td>Cochin</td>\n",
              "      <td>DEL → LKO → BOM → COK</td>\n",
              "      <td>19h</td>\n",
              "      <td>2 stops</td>\n",
              "      <td>No info</td>\n",
              "      <td>13882.0</td>\n",
              "      <td>9</td>\n",
              "      <td>6</td>\n",
              "      <td>6</td>\n",
              "      <td>9</td>\n",
              "      <td>25</td>\n",
              "      <td>4</td>\n",
              "      <td>25</td>\n",
              "    </tr>\n",
              "    <tr>\n",
              "      <th>3</th>\n",
              "      <td>IndiGo</td>\n",
              "      <td>Kolkata</td>\n",
              "      <td>Banglore</td>\n",
              "      <td>CCU → NAG → BLR</td>\n",
              "      <td>5h 25m</td>\n",
              "      <td>1 stop</td>\n",
              "      <td>No info</td>\n",
              "      <td>6218.0</td>\n",
              "      <td>12</td>\n",
              "      <td>5</td>\n",
              "      <td>6</td>\n",
              "      <td>18</td>\n",
              "      <td>5</td>\n",
              "      <td>23</td>\n",
              "      <td>30</td>\n",
              "    </tr>\n",
              "    <tr>\n",
              "      <th>4</th>\n",
              "      <td>IndiGo</td>\n",
              "      <td>Banglore</td>\n",
              "      <td>New Delhi</td>\n",
              "      <td>BLR → NAG → DEL</td>\n",
              "      <td>4h 45m</td>\n",
              "      <td>1 stop</td>\n",
              "      <td>No info</td>\n",
              "      <td>13302.0</td>\n",
              "      <td>1</td>\n",
              "      <td>3</td>\n",
              "      <td>4</td>\n",
              "      <td>16</td>\n",
              "      <td>50</td>\n",
              "      <td>21</td>\n",
              "      <td>35</td>\n",
              "    </tr>\n",
              "  </tbody>\n",
              "</table>\n",
              "</div>"
            ],
            "text/plain": [
              "       Airline    Source Destination                  Route Duration  \\\n",
              "0       IndiGo  Banglore   New Delhi              BLR → DEL   2h 50m   \n",
              "1    Air India   Kolkata    Banglore  CCU → IXR → BBI → BLR   7h 25m   \n",
              "2  Jet Airways     Delhi      Cochin  DEL → LKO → BOM → COK      19h   \n",
              "3       IndiGo   Kolkata    Banglore        CCU → NAG → BLR   5h 25m   \n",
              "4       IndiGo  Banglore   New Delhi        BLR → NAG → DEL   4h 45m   \n",
              "\n",
              "  Total_Stops Additional_Info    Price  flight_day  flight_month  \\\n",
              "0    non-stop         No info   3897.0          24             3   \n",
              "1     2 stops         No info   7662.0           1             5   \n",
              "2     2 stops         No info  13882.0           9             6   \n",
              "3      1 stop         No info   6218.0          12             5   \n",
              "4      1 stop         No info  13302.0           1             3   \n",
              "\n",
              "   flight_dayofweek  dep_hour  dep_min  arr_hour  arr_min  \n",
              "0                 6        22       20         1       10  \n",
              "1                 2         5       50        13       15  \n",
              "2                 6         9       25         4       25  \n",
              "3                 6        18        5        23       30  \n",
              "4                 4        16       50        21       35  "
            ]
          },
          "metadata": {},
          "execution_count": 54
        }
      ]
    },
    {
      "cell_type": "code",
      "metadata": {
        "id": "Pfz9ihxG8z0C"
      },
      "source": [
        "def duration(s):\n",
        "  if (\"m\" in s) and (\"h\" in s):\n",
        "    hour, min = s.strip().split(\" \")\n",
        "    hour = float(hour.replace('h', ''))\n",
        "    min  = float(min.replace('m', ''))\n",
        "\n",
        "  elif (\"m\" in s) and (\"h\" not in s):\n",
        "    min = s.strip()\n",
        "    hour = 0.\n",
        "    min  = float(min.replace('m', ''))\n",
        "  else:\n",
        "    hour = s.strip()\n",
        "    min = 0.\n",
        "    hour = float(hour.replace('h', ''))\n",
        "  \n",
        "  return 60.*hour + min"
      ],
      "execution_count": 55,
      "outputs": []
    },
    {
      "cell_type": "markdown",
      "metadata": {
        "id": "OgxsBkLQnHQS"
      },
      "source": [
        "### Duration"
      ]
    },
    {
      "cell_type": "code",
      "metadata": {
        "colab": {
          "base_uri": "https://localhost:8080/"
        },
        "id": "4vXaVjVP93mZ",
        "outputId": "81dbb33b-637a-4b61-aa4e-3db8ae9b0bbe"
      },
      "source": [
        "# Duration\n",
        "duration_time = combined_df[\"Duration\"].apply(duration)\n",
        "duration_time"
      ],
      "execution_count": 56,
      "outputs": [
        {
          "output_type": "execute_result",
          "data": {
            "text/plain": [
              "0         170.0\n",
              "1         445.0\n",
              "2        1140.0\n",
              "3         325.0\n",
              "4         285.0\n",
              "          ...  \n",
              "13349    1435.0\n",
              "13350     155.0\n",
              "13351     395.0\n",
              "13352     915.0\n",
              "13353     860.0\n",
              "Name: Duration, Length: 13353, dtype: float64"
            ]
          },
          "metadata": {},
          "execution_count": 56
        }
      ]
    },
    {
      "cell_type": "code",
      "metadata": {
        "id": "1vk7Q3ssAyev"
      },
      "source": [
        "combined_df[\"duration_hours\"] = duration_time/60.\n",
        "combined_df[\"duration_mins\"] = duration_time\n",
        "combined_df.drop([\"Duration\"], axis=1, inplace=True)"
      ],
      "execution_count": 57,
      "outputs": []
    },
    {
      "cell_type": "code",
      "metadata": {
        "colab": {
          "base_uri": "https://localhost:8080/",
          "height": 559
        },
        "id": "axqJC5rtAybG",
        "outputId": "f76fdbf2-69a1-4bf3-fd2a-7b9928714f61"
      },
      "source": [
        "combined_df.head()"
      ],
      "execution_count": 58,
      "outputs": [
        {
          "output_type": "execute_result",
          "data": {
            "text/html": [
              "<div>\n",
              "<style scoped>\n",
              "    .dataframe tbody tr th:only-of-type {\n",
              "        vertical-align: middle;\n",
              "    }\n",
              "\n",
              "    .dataframe tbody tr th {\n",
              "        vertical-align: top;\n",
              "    }\n",
              "\n",
              "    .dataframe thead th {\n",
              "        text-align: right;\n",
              "    }\n",
              "</style>\n",
              "<table border=\"1\" class=\"dataframe\">\n",
              "  <thead>\n",
              "    <tr style=\"text-align: right;\">\n",
              "      <th></th>\n",
              "      <th>Airline</th>\n",
              "      <th>Source</th>\n",
              "      <th>Destination</th>\n",
              "      <th>Route</th>\n",
              "      <th>Total_Stops</th>\n",
              "      <th>Additional_Info</th>\n",
              "      <th>Price</th>\n",
              "      <th>flight_day</th>\n",
              "      <th>flight_month</th>\n",
              "      <th>flight_dayofweek</th>\n",
              "      <th>dep_hour</th>\n",
              "      <th>dep_min</th>\n",
              "      <th>arr_hour</th>\n",
              "      <th>arr_min</th>\n",
              "      <th>duration_hours</th>\n",
              "      <th>duration_mins</th>\n",
              "    </tr>\n",
              "  </thead>\n",
              "  <tbody>\n",
              "    <tr>\n",
              "      <th>0</th>\n",
              "      <td>IndiGo</td>\n",
              "      <td>Banglore</td>\n",
              "      <td>New Delhi</td>\n",
              "      <td>BLR → DEL</td>\n",
              "      <td>non-stop</td>\n",
              "      <td>No info</td>\n",
              "      <td>3897.0</td>\n",
              "      <td>24</td>\n",
              "      <td>3</td>\n",
              "      <td>6</td>\n",
              "      <td>22</td>\n",
              "      <td>20</td>\n",
              "      <td>1</td>\n",
              "      <td>10</td>\n",
              "      <td>2.833333</td>\n",
              "      <td>170.0</td>\n",
              "    </tr>\n",
              "    <tr>\n",
              "      <th>1</th>\n",
              "      <td>Air India</td>\n",
              "      <td>Kolkata</td>\n",
              "      <td>Banglore</td>\n",
              "      <td>CCU → IXR → BBI → BLR</td>\n",
              "      <td>2 stops</td>\n",
              "      <td>No info</td>\n",
              "      <td>7662.0</td>\n",
              "      <td>1</td>\n",
              "      <td>5</td>\n",
              "      <td>2</td>\n",
              "      <td>5</td>\n",
              "      <td>50</td>\n",
              "      <td>13</td>\n",
              "      <td>15</td>\n",
              "      <td>7.416667</td>\n",
              "      <td>445.0</td>\n",
              "    </tr>\n",
              "    <tr>\n",
              "      <th>2</th>\n",
              "      <td>Jet Airways</td>\n",
              "      <td>Delhi</td>\n",
              "      <td>Cochin</td>\n",
              "      <td>DEL → LKO → BOM → COK</td>\n",
              "      <td>2 stops</td>\n",
              "      <td>No info</td>\n",
              "      <td>13882.0</td>\n",
              "      <td>9</td>\n",
              "      <td>6</td>\n",
              "      <td>6</td>\n",
              "      <td>9</td>\n",
              "      <td>25</td>\n",
              "      <td>4</td>\n",
              "      <td>25</td>\n",
              "      <td>19.000000</td>\n",
              "      <td>1140.0</td>\n",
              "    </tr>\n",
              "    <tr>\n",
              "      <th>3</th>\n",
              "      <td>IndiGo</td>\n",
              "      <td>Kolkata</td>\n",
              "      <td>Banglore</td>\n",
              "      <td>CCU → NAG → BLR</td>\n",
              "      <td>1 stop</td>\n",
              "      <td>No info</td>\n",
              "      <td>6218.0</td>\n",
              "      <td>12</td>\n",
              "      <td>5</td>\n",
              "      <td>6</td>\n",
              "      <td>18</td>\n",
              "      <td>5</td>\n",
              "      <td>23</td>\n",
              "      <td>30</td>\n",
              "      <td>5.416667</td>\n",
              "      <td>325.0</td>\n",
              "    </tr>\n",
              "    <tr>\n",
              "      <th>4</th>\n",
              "      <td>IndiGo</td>\n",
              "      <td>Banglore</td>\n",
              "      <td>New Delhi</td>\n",
              "      <td>BLR → NAG → DEL</td>\n",
              "      <td>1 stop</td>\n",
              "      <td>No info</td>\n",
              "      <td>13302.0</td>\n",
              "      <td>1</td>\n",
              "      <td>3</td>\n",
              "      <td>4</td>\n",
              "      <td>16</td>\n",
              "      <td>50</td>\n",
              "      <td>21</td>\n",
              "      <td>35</td>\n",
              "      <td>4.750000</td>\n",
              "      <td>285.0</td>\n",
              "    </tr>\n",
              "  </tbody>\n",
              "</table>\n",
              "</div>"
            ],
            "text/plain": [
              "       Airline    Source Destination                  Route Total_Stops  \\\n",
              "0       IndiGo  Banglore   New Delhi              BLR → DEL    non-stop   \n",
              "1    Air India   Kolkata    Banglore  CCU → IXR → BBI → BLR     2 stops   \n",
              "2  Jet Airways     Delhi      Cochin  DEL → LKO → BOM → COK     2 stops   \n",
              "3       IndiGo   Kolkata    Banglore        CCU → NAG → BLR      1 stop   \n",
              "4       IndiGo  Banglore   New Delhi        BLR → NAG → DEL      1 stop   \n",
              "\n",
              "  Additional_Info    Price  flight_day  flight_month  flight_dayofweek  \\\n",
              "0         No info   3897.0          24             3                 6   \n",
              "1         No info   7662.0           1             5                 2   \n",
              "2         No info  13882.0           9             6                 6   \n",
              "3         No info   6218.0          12             5                 6   \n",
              "4         No info  13302.0           1             3                 4   \n",
              "\n",
              "   dep_hour  dep_min  arr_hour  arr_min  duration_hours  duration_mins  \n",
              "0        22       20         1       10        2.833333          170.0  \n",
              "1         5       50        13       15        7.416667          445.0  \n",
              "2         9       25         4       25       19.000000         1140.0  \n",
              "3        18        5        23       30        5.416667          325.0  \n",
              "4        16       50        21       35        4.750000          285.0  "
            ]
          },
          "metadata": {},
          "execution_count": 58
        }
      ]
    },
    {
      "cell_type": "markdown",
      "metadata": {
        "id": "kGcP1YjqDK4e"
      },
      "source": [
        "## Handling Categorical Data"
      ]
    },
    {
      "cell_type": "markdown",
      "metadata": {
        "id": "dKPwAjq4DP8U"
      },
      "source": [
        "One can find many ways to handle categorical data. Some of them categorical data are:\n",
        "\n",
        "1. **Nominal data** --> data are not in any order --> **OneHotEncoder** is used in this case.\n",
        "\n",
        "2. **Ordinal data** --> data are in order --> **LabelEncoder** is used in this case"
      ]
    },
    {
      "cell_type": "markdown",
      "metadata": {
        "id": "hMATKKc3i0Q2"
      },
      "source": [
        "### Airlines"
      ]
    },
    {
      "cell_type": "code",
      "metadata": {
        "colab": {
          "base_uri": "https://localhost:8080/"
        },
        "id": "sfUsEPY149sB",
        "outputId": "1f10ea2f-56fc-461a-8042-1462c875d67b"
      },
      "source": [
        "combined_df.Airline.value_counts()"
      ],
      "execution_count": 59,
      "outputs": [
        {
          "output_type": "execute_result",
          "data": {
            "text/plain": [
              "Jet Airways                          4746\n",
              "IndiGo                               2564\n",
              "Air India                            2191\n",
              "Multiple carriers                    1543\n",
              "SpiceJet                             1026\n",
              "Vistara                               608\n",
              "Air Asia                              405\n",
              "GoAir                                 240\n",
              "Multiple carriers Premium economy      16\n",
              "Jet Airways Business                    8\n",
              "Vistara Premium economy                 5\n",
              "Trujet                                  1\n",
              "Name: Airline, dtype: int64"
            ]
          },
          "metadata": {},
          "execution_count": 59
        }
      ]
    },
    {
      "cell_type": "code",
      "metadata": {
        "colab": {
          "base_uri": "https://localhost:8080/",
          "height": 515
        },
        "id": "x_Rcw8LS49gY",
        "outputId": "5f6f3c9e-0009-49fb-eb3c-dac7aa4e14e3"
      },
      "source": [
        "# Violin plot\n",
        "plt.figure(figsize=(20, 8))\n",
        "ax = sns.violinplot(y = \"Price\", x = \"Airline\", data = combined_df.sort_values(\"Price\", ascending = False))\n",
        "ax.tick_params(axis='x', rotation=20)\n",
        "ax.set_title(\"Price vs Airline\")\n",
        "ax.set_ylabel(\"Price\")\n",
        "ax.set_xlabel(\"Airlines\")\n",
        "\n",
        "plt.show()"
      ],
      "execution_count": 60,
      "outputs": [
        {
          "output_type": "display_data",
          "data": {
            "image/png": "[encoded data removed]",
            "text/plain": [
              "<Figure size 1440x576 with 1 Axes>"
            ]
          },
          "metadata": {
            "needs_background": "light"
          }
        }
      ]
    },
    {
      "cell_type": "code",
      "metadata": {
        "id": "q-ECNDxuIES7"
      },
      "source": [
        "# plt.figure(figsize=(20, 8))\n",
        "\n",
        "# sns.violinplot(y = \"Price\", x = \"Airline\", data = combined_df.sort_values(\"Price\", ascending = False))\n",
        "# sns.swarmplot(x = \"Airline\", y = \"Price\", data = combined_df.sort_values(\"Price\", ascending = False), color=\"k\", alpha=0.8)\n",
        "\n",
        "# plt.tick_params(axis='x', rotation=20)\n",
        "# plt.title(\"Life Expectancy By Country\")\n",
        "# plt.ylabel(\"Gapminder Life Expectancy\")\n",
        "# plt.xlabel(\"Nations\")\n",
        "\n",
        "# plt.show()"
      ],
      "execution_count": 61,
      "outputs": []
    },
    {
      "cell_type": "code",
      "metadata": {
        "colab": {
          "base_uri": "https://localhost:8080/",
          "height": 448
        },
        "id": "_fpJ-xqkI155",
        "outputId": "e38cdcf5-c55c-4b6b-cc86-4a6872a41e61"
      },
      "source": [
        "# catplot\n",
        "plt.figure(figsize=(20, 8))\n",
        "sns.catplot(y = \"Price\", x = \"Airline\", data = combined_df.sort_values(\"Price\", ascending = False), kind=\"boxen\", height = 6, aspect = 3)\n",
        "plt.tick_params(axis='x', rotation=20)\n",
        "plt.title(\"Price vs Airline\")\n",
        "plt.ylabel(\"Price\")\n",
        "plt.xlabel(\"Airlines\")\n",
        "\n",
        "plt.show()"
      ],
      "execution_count": 62,
      "outputs": [
        {
          "output_type": "display_data",
          "data": {
            "text/plain": [
              "<Figure size 1440x576 with 0 Axes>"
            ]
          },
          "metadata": {}
        },
        {
          "output_type": "display_data",
          "data": {
            "image/png": "[encoded data removed]",
            "text/plain": [
              "<Figure size 1296x432 with 1 Axes>"
            ]
          },
          "metadata": {
            "needs_background": "light"
          }
        }
      ]
    },
    {
      "cell_type": "markdown",
      "metadata": {
        "id": "3J2Otve9JKrZ"
      },
      "source": [
        "Jet Airways Business have the highest Price, it is distinguishably different from the others. The other Airlines have almost similar price median."
      ]
    },
    {
      "cell_type": "code",
      "metadata": {
        "colab": {
          "base_uri": "https://localhost:8080/",
          "height": 257
        },
        "id": "l-mCreEzKi9K",
        "outputId": "1f472fd1-0dfd-4f56-b413-ab3cba8c24da"
      },
      "source": [
        "# Airline is Nominal Categorical data (not in any orders/rankings), we will use OneHotEncoding\n",
        "airlines = combined_df[[\"Airline\"]]\n",
        "airlines = pd.get_dummies(airlines, drop_first=True)\n",
        "airlines.head()"
      ],
      "execution_count": 63,
      "outputs": [
        {
          "output_type": "execute_result",
          "data": {
            "text/html": [
              "<div>\n",
              "<style scoped>\n",
              "    .dataframe tbody tr th:only-of-type {\n",
              "        vertical-align: middle;\n",
              "    }\n",
              "\n",
              "    .dataframe tbody tr th {\n",
              "        vertical-align: top;\n",
              "    }\n",
              "\n",
              "    .dataframe thead th {\n",
              "        text-align: right;\n",
              "    }\n",
              "</style>\n",
              "<table border=\"1\" class=\"dataframe\">\n",
              "  <thead>\n",
              "    <tr style=\"text-align: right;\">\n",
              "      <th></th>\n",
              "      <th>Airline_Air India</th>\n",
              "      <th>Airline_GoAir</th>\n",
              "      <th>Airline_IndiGo</th>\n",
              "      <th>Airline_Jet Airways</th>\n",
              "      <th>Airline_Jet Airways Business</th>\n",
              "      <th>Airline_Multiple carriers</th>\n",
              "      <th>Airline_Multiple carriers Premium economy</th>\n",
              "      <th>Airline_SpiceJet</th>\n",
              "      <th>Airline_Trujet</th>\n",
              "      <th>Airline_Vistara</th>\n",
              "      <th>Airline_Vistara Premium economy</th>\n",
              "    </tr>\n",
              "  </thead>\n",
              "  <tbody>\n",
              "    <tr>\n",
              "      <th>0</th>\n",
              "      <td>0</td>\n",
              "      <td>0</td>\n",
              "      <td>1</td>\n",
              "      <td>0</td>\n",
              "      <td>0</td>\n",
              "      <td>0</td>\n",
              "      <td>0</td>\n",
              "      <td>0</td>\n",
              "      <td>0</td>\n",
              "      <td>0</td>\n",
              "      <td>0</td>\n",
              "    </tr>\n",
              "    <tr>\n",
              "      <th>1</th>\n",
              "      <td>1</td>\n",
              "      <td>0</td>\n",
              "      <td>0</td>\n",
              "      <td>0</td>\n",
              "      <td>0</td>\n",
              "      <td>0</td>\n",
              "      <td>0</td>\n",
              "      <td>0</td>\n",
              "      <td>0</td>\n",
              "      <td>0</td>\n",
              "      <td>0</td>\n",
              "    </tr>\n",
              "    <tr>\n",
              "      <th>2</th>\n",
              "      <td>0</td>\n",
              "      <td>0</td>\n",
              "      <td>0</td>\n",
              "      <td>1</td>\n",
              "      <td>0</td>\n",
              "      <td>0</td>\n",
              "      <td>0</td>\n",
              "      <td>0</td>\n",
              "      <td>0</td>\n",
              "      <td>0</td>\n",
              "      <td>0</td>\n",
              "    </tr>\n",
              "    <tr>\n",
              "      <th>3</th>\n",
              "      <td>0</td>\n",
              "      <td>0</td>\n",
              "      <td>1</td>\n",
              "      <td>0</td>\n",
              "      <td>0</td>\n",
              "      <td>0</td>\n",
              "      <td>0</td>\n",
              "      <td>0</td>\n",
              "      <td>0</td>\n",
              "      <td>0</td>\n",
              "      <td>0</td>\n",
              "    </tr>\n",
              "    <tr>\n",
              "      <th>4</th>\n",
              "      <td>0</td>\n",
              "      <td>0</td>\n",
              "      <td>1</td>\n",
              "      <td>0</td>\n",
              "      <td>0</td>\n",
              "      <td>0</td>\n",
              "      <td>0</td>\n",
              "      <td>0</td>\n",
              "      <td>0</td>\n",
              "      <td>0</td>\n",
              "      <td>0</td>\n",
              "    </tr>\n",
              "  </tbody>\n",
              "</table>\n",
              "</div>"
            ],
            "text/plain": [
              "   Airline_Air India  Airline_GoAir  Airline_IndiGo  Airline_Jet Airways  \\\n",
              "0                  0              0               1                    0   \n",
              "1                  1              0               0                    0   \n",
              "2                  0              0               0                    1   \n",
              "3                  0              0               1                    0   \n",
              "4                  0              0               1                    0   \n",
              "\n",
              "   Airline_Jet Airways Business  Airline_Multiple carriers  \\\n",
              "0                             0                          0   \n",
              "1                             0                          0   \n",
              "2                             0                          0   \n",
              "3                             0                          0   \n",
              "4                             0                          0   \n",
              "\n",
              "   Airline_Multiple carriers Premium economy  Airline_SpiceJet  \\\n",
              "0                                          0                 0   \n",
              "1                                          0                 0   \n",
              "2                                          0                 0   \n",
              "3                                          0                 0   \n",
              "4                                          0                 0   \n",
              "\n",
              "   Airline_Trujet  Airline_Vistara  Airline_Vistara Premium economy  \n",
              "0               0                0                                0  \n",
              "1               0                0                                0  \n",
              "2               0                0                                0  \n",
              "3               0                0                                0  \n",
              "4               0                0                                0  "
            ]
          },
          "metadata": {},
          "execution_count": 63
        }
      ]
    },
    {
      "cell_type": "markdown",
      "metadata": {
        "id": "-QN3r2sHZeVn"
      },
      "source": [
        "### Source (departure city)"
      ]
    },
    {
      "cell_type": "code",
      "metadata": {
        "colab": {
          "base_uri": "https://localhost:8080/"
        },
        "id": "oHYnzgzwZmlu",
        "outputId": "39a63bb9-d2df-48ca-b8bc-92bb5df15ab5"
      },
      "source": [
        "combined_df.Source.value_counts()"
      ],
      "execution_count": 64,
      "outputs": [
        {
          "output_type": "execute_result",
          "data": {
            "text/plain": [
              "Delhi       5681\n",
              "Kolkata     3581\n",
              "Banglore    2752\n",
              "Mumbai       883\n",
              "Chennai      456\n",
              "Name: Source, dtype: int64"
            ]
          },
          "metadata": {},
          "execution_count": 64
        }
      ]
    },
    {
      "cell_type": "code",
      "metadata": {
        "colab": {
          "base_uri": "https://localhost:8080/",
          "height": 404
        },
        "id": "MleODvp5Ki02",
        "outputId": "93f0567b-f10e-4b3f-90a4-da3d641020df"
      },
      "source": [
        "# Violin plot\n",
        "plt.figure(figsize=(14, 6))\n",
        "ax = sns.violinplot(y = \"Price\", x = \"Source\", data = combined_df.sort_values(\"Price\", ascending = False))\n",
        "ax.tick_params(axis='x', rotation=0)\n",
        "ax.set_title(\"Price vs Source\")\n",
        "ax.set_ylabel(\"Price\")\n",
        "ax.set_xlabel(\"Source\")\n",
        "\n",
        "plt.show()"
      ],
      "execution_count": 65,
      "outputs": [
        {
          "output_type": "display_data",
          "data": {
            "image/png": "[encoded data removed]",
            "text/plain": [
              "<Figure size 1008x432 with 1 Axes>"
            ]
          },
          "metadata": {
            "needs_background": "light"
          }
        }
      ]
    },
    {
      "cell_type": "code",
      "metadata": {
        "colab": {
          "base_uri": "https://localhost:8080/",
          "height": 398
        },
        "id": "U0EILk_OaGfU",
        "outputId": "6b04576e-d9eb-41bc-da67-e35f37a3af33"
      },
      "source": [
        "# catplot\n",
        "plt.figure(figsize=(20, 8))\n",
        "sns.catplot(y = \"Price\", x = \"Source\", data = combined_df.sort_values(\"Price\", ascending = False), kind=\"boxen\", height = 6, aspect = 3)\n",
        "plt.tick_params(axis='x', rotation=0)\n",
        "plt.title(\"Price vs Source\")\n",
        "plt.ylabel(\"Price\")\n",
        "plt.xlabel(\"Source\")\n",
        "\n",
        "plt.show()"
      ],
      "execution_count": 66,
      "outputs": [
        {
          "output_type": "display_data",
          "data": {
            "text/plain": [
              "<Figure size 1440x576 with 0 Axes>"
            ]
          },
          "metadata": {}
        },
        {
          "output_type": "display_data",
          "data": {
            "image/png": "[encoded data removed]",
            "text/plain": [
              "<Figure size 1296x432 with 1 Axes>"
            ]
          },
          "metadata": {
            "needs_background": "light"
          }
        }
      ]
    },
    {
      "cell_type": "markdown",
      "metadata": {
        "id": "UBf30G0DaXFb"
      },
      "source": [
        "Median prices for the 5 sources are comparable, however, there are many outliers at high price for Banglore."
      ]
    },
    {
      "cell_type": "code",
      "metadata": {
        "colab": {
          "base_uri": "https://localhost:8080/",
          "height": 203
        },
        "id": "c5xkmFwoZUwj",
        "outputId": "23d38aac-40ee-47e6-d929-dc95a1edb702"
      },
      "source": [
        "# Source is Nominal Categorical data (not in any orders/rankings), we will use OneHotEncoding\n",
        "sources = combined_df[[\"Source\"]]\n",
        "sources = pd.get_dummies(sources, drop_first=True)\n",
        "sources.head()"
      ],
      "execution_count": 67,
      "outputs": [
        {
          "output_type": "execute_result",
          "data": {
            "text/html": [
              "<div>\n",
              "<style scoped>\n",
              "    .dataframe tbody tr th:only-of-type {\n",
              "        vertical-align: middle;\n",
              "    }\n",
              "\n",
              "    .dataframe tbody tr th {\n",
              "        vertical-align: top;\n",
              "    }\n",
              "\n",
              "    .dataframe thead th {\n",
              "        text-align: right;\n",
              "    }\n",
              "</style>\n",
              "<table border=\"1\" class=\"dataframe\">\n",
              "  <thead>\n",
              "    <tr style=\"text-align: right;\">\n",
              "      <th></th>\n",
              "      <th>Source_Chennai</th>\n",
              "      <th>Source_Delhi</th>\n",
              "      <th>Source_Kolkata</th>\n",
              "      <th>Source_Mumbai</th>\n",
              "    </tr>\n",
              "  </thead>\n",
              "  <tbody>\n",
              "    <tr>\n",
              "      <th>0</th>\n",
              "      <td>0</td>\n",
              "      <td>0</td>\n",
              "      <td>0</td>\n",
              "      <td>0</td>\n",
              "    </tr>\n",
              "    <tr>\n",
              "      <th>1</th>\n",
              "      <td>0</td>\n",
              "      <td>0</td>\n",
              "      <td>1</td>\n",
              "      <td>0</td>\n",
              "    </tr>\n",
              "    <tr>\n",
              "      <th>2</th>\n",
              "      <td>0</td>\n",
              "      <td>1</td>\n",
              "      <td>0</td>\n",
              "      <td>0</td>\n",
              "    </tr>\n",
              "    <tr>\n",
              "      <th>3</th>\n",
              "      <td>0</td>\n",
              "      <td>0</td>\n",
              "      <td>1</td>\n",
              "      <td>0</td>\n",
              "    </tr>\n",
              "    <tr>\n",
              "      <th>4</th>\n",
              "      <td>0</td>\n",
              "      <td>0</td>\n",
              "      <td>0</td>\n",
              "      <td>0</td>\n",
              "    </tr>\n",
              "  </tbody>\n",
              "</table>\n",
              "</div>"
            ],
            "text/plain": [
              "   Source_Chennai  Source_Delhi  Source_Kolkata  Source_Mumbai\n",
              "0               0             0               0              0\n",
              "1               0             0               1              0\n",
              "2               0             1               0              0\n",
              "3               0             0               1              0\n",
              "4               0             0               0              0"
            ]
          },
          "metadata": {},
          "execution_count": 67
        }
      ]
    },
    {
      "cell_type": "markdown",
      "metadata": {
        "id": "PQe_1aJNa9u9"
      },
      "source": [
        "### Destination (arrival city)"
      ]
    },
    {
      "cell_type": "code",
      "metadata": {
        "colab": {
          "base_uri": "https://localhost:8080/"
        },
        "id": "z47ZWc-JKirF",
        "outputId": "1fb9d415-0dc6-4124-a8bd-acee67d84a30"
      },
      "source": [
        "combined_df.Destination.value_counts()"
      ],
      "execution_count": 68,
      "outputs": [
        {
          "output_type": "execute_result",
          "data": {
            "text/plain": [
              "Cochin       5681\n",
              "Banglore     3581\n",
              "Delhi        1582\n",
              "New Delhi    1170\n",
              "Hyderabad     883\n",
              "Kolkata       456\n",
              "Name: Destination, dtype: int64"
            ]
          },
          "metadata": {},
          "execution_count": 68
        }
      ]
    },
    {
      "cell_type": "code",
      "metadata": {
        "colab": {
          "base_uri": "https://localhost:8080/",
          "height": 398
        },
        "id": "JLkcfmf9bNLd",
        "outputId": "abe5273e-a324-4c0e-88fd-bb57daca5768"
      },
      "source": [
        "# catplot\n",
        "plt.figure(figsize=(20, 8))\n",
        "sns.catplot(y = \"Price\", x = \"Destination\", data = combined_df.sort_values(\"Price\", ascending = False), kind=\"boxen\", height = 6, aspect = 3)\n",
        "plt.tick_params(axis='x', rotation=0)\n",
        "plt.title(\"Price vs Destination\")\n",
        "plt.ylabel(\"Price\")\n",
        "plt.xlabel(\"Destination\")\n",
        "\n",
        "plt.show()"
      ],
      "execution_count": 69,
      "outputs": [
        {
          "output_type": "display_data",
          "data": {
            "text/plain": [
              "<Figure size 1440x576 with 0 Axes>"
            ]
          },
          "metadata": {}
        },
        {
          "output_type": "display_data",
          "data": {
            "image/png": "[encoded data removed]",
            "text/plain": [
              "<Figure size 1296x432 with 1 Axes>"
            ]
          },
          "metadata": {
            "needs_background": "light"
          }
        }
      ]
    },
    {
      "cell_type": "markdown",
      "metadata": {
        "id": "wI-CTGdJbZr2"
      },
      "source": [
        "New Delhi has the highest median prices, and many outliers at high prices; followed by Cochin and Banglore. The other 3 have comparable median prices, and also less outliers."
      ]
    },
    {
      "cell_type": "code",
      "metadata": {
        "colab": {
          "base_uri": "https://localhost:8080/",
          "height": 203
        },
        "id": "INqlPy4PbZr3",
        "outputId": "bff5ff53-2010-49ef-ec39-9c0cc6bd85ba"
      },
      "source": [
        "# Destination is Nominal Categorical data (not in any orders/rankings), we will use OneHotEncoding\n",
        "destinations = combined_df[[\"Destination\"]]\n",
        "destinations = pd.get_dummies(destinations, drop_first=True)\n",
        "destinations.head()"
      ],
      "execution_count": 70,
      "outputs": [
        {
          "output_type": "execute_result",
          "data": {
            "text/html": [
              "<div>\n",
              "<style scoped>\n",
              "    .dataframe tbody tr th:only-of-type {\n",
              "        vertical-align: middle;\n",
              "    }\n",
              "\n",
              "    .dataframe tbody tr th {\n",
              "        vertical-align: top;\n",
              "    }\n",
              "\n",
              "    .dataframe thead th {\n",
              "        text-align: right;\n",
              "    }\n",
              "</style>\n",
              "<table border=\"1\" class=\"dataframe\">\n",
              "  <thead>\n",
              "    <tr style=\"text-align: right;\">\n",
              "      <th></th>\n",
              "      <th>Destination_Cochin</th>\n",
              "      <th>Destination_Delhi</th>\n",
              "      <th>Destination_Hyderabad</th>\n",
              "      <th>Destination_Kolkata</th>\n",
              "      <th>Destination_New Delhi</th>\n",
              "    </tr>\n",
              "  </thead>\n",
              "  <tbody>\n",
              "    <tr>\n",
              "      <th>0</th>\n",
              "      <td>0</td>\n",
              "      <td>0</td>\n",
              "      <td>0</td>\n",
              "      <td>0</td>\n",
              "      <td>1</td>\n",
              "    </tr>\n",
              "    <tr>\n",
              "      <th>1</th>\n",
              "      <td>0</td>\n",
              "      <td>0</td>\n",
              "      <td>0</td>\n",
              "      <td>0</td>\n",
              "      <td>0</td>\n",
              "    </tr>\n",
              "    <tr>\n",
              "      <th>2</th>\n",
              "      <td>1</td>\n",
              "      <td>0</td>\n",
              "      <td>0</td>\n",
              "      <td>0</td>\n",
              "      <td>0</td>\n",
              "    </tr>\n",
              "    <tr>\n",
              "      <th>3</th>\n",
              "      <td>0</td>\n",
              "      <td>0</td>\n",
              "      <td>0</td>\n",
              "      <td>0</td>\n",
              "      <td>0</td>\n",
              "    </tr>\n",
              "    <tr>\n",
              "      <th>4</th>\n",
              "      <td>0</td>\n",
              "      <td>0</td>\n",
              "      <td>0</td>\n",
              "      <td>0</td>\n",
              "      <td>1</td>\n",
              "    </tr>\n",
              "  </tbody>\n",
              "</table>\n",
              "</div>"
            ],
            "text/plain": [
              "   Destination_Cochin  Destination_Delhi  Destination_Hyderabad  \\\n",
              "0                   0                  0                      0   \n",
              "1                   0                  0                      0   \n",
              "2                   1                  0                      0   \n",
              "3                   0                  0                      0   \n",
              "4                   0                  0                      0   \n",
              "\n",
              "   Destination_Kolkata  Destination_New Delhi  \n",
              "0                    0                      1  \n",
              "1                    0                      0  \n",
              "2                    0                      0  \n",
              "3                    0                      0  \n",
              "4                    0                      1  "
            ]
          },
          "metadata": {},
          "execution_count": 70
        }
      ]
    },
    {
      "cell_type": "markdown",
      "metadata": {
        "id": "xbtwQpgzcZfq"
      },
      "source": [
        "### Route"
      ]
    },
    {
      "cell_type": "code",
      "metadata": {
        "colab": {
          "base_uri": "https://localhost:8080/"
        },
        "id": "B-bZ0mVkbM7m",
        "outputId": "c57ccd48-2aea-4b66-d53c-058fe0f4e0f9"
      },
      "source": [
        "combined_df.Route.value_counts()"
      ],
      "execution_count": 71,
      "outputs": [
        {
          "output_type": "execute_result",
          "data": {
            "text/plain": [
              "DEL → BOM → COK                3000\n",
              "BLR → DEL                      1941\n",
              "CCU → BOM → BLR                1232\n",
              "CCU → BLR                       896\n",
              "BOM → HYD                       785\n",
              "                               ... \n",
              "CCU → RPR → HYD → BLR             1\n",
              "BOM → UDR → DEL → HYD             1\n",
              "BOM → JDH → JAI → DEL → HYD       1\n",
              "CCU → IXB → DEL → BLR             1\n",
              "CCU → IXA → BLR                   1\n",
              "Name: Route, Length: 132, dtype: int64"
            ]
          },
          "metadata": {},
          "execution_count": 71
        }
      ]
    },
    {
      "cell_type": "code",
      "metadata": {
        "colab": {
          "base_uri": "https://localhost:8080/"
        },
        "id": "ROd0mTG1ctEF",
        "outputId": "947ace8c-fd12-450e-ebe5-5ee539e767f4"
      },
      "source": [
        "combined_df.Total_Stops.value_counts()"
      ],
      "execution_count": 72,
      "outputs": [
        {
          "output_type": "execute_result",
          "data": {
            "text/plain": [
              "1 stop      7056\n",
              "non-stop    4340\n",
              "2 stops     1899\n",
              "3 stops       56\n",
              "4 stops        2\n",
              "Name: Total_Stops, dtype: int64"
            ]
          },
          "metadata": {},
          "execution_count": 72
        }
      ]
    },
    {
      "cell_type": "markdown",
      "metadata": {
        "id": "RzwHZME8czrZ"
      },
      "source": [
        "Route column is not necessary, Total_Stop column should be more important, and is related to Route. We'll drop the Route column."
      ]
    },
    {
      "cell_type": "code",
      "metadata": {
        "id": "1FNCYYxOdKVt"
      },
      "source": [
        "combined_df.drop([\"Route\"], axis=1, inplace=True)"
      ],
      "execution_count": 73,
      "outputs": []
    },
    {
      "cell_type": "markdown",
      "metadata": {
        "id": "pyume3pshnLd"
      },
      "source": [
        "### Total stops"
      ]
    },
    {
      "cell_type": "code",
      "metadata": {
        "colab": {
          "base_uri": "https://localhost:8080/"
        },
        "id": "_FEVijokhpU4",
        "outputId": "a6bf3a82-fa5b-4687-98ad-da513689b2c7"
      },
      "source": [
        "combined_df.Total_Stops.value_counts()"
      ],
      "execution_count": 74,
      "outputs": [
        {
          "output_type": "execute_result",
          "data": {
            "text/plain": [
              "1 stop      7056\n",
              "non-stop    4340\n",
              "2 stops     1899\n",
              "3 stops       56\n",
              "4 stops        2\n",
              "Name: Total_Stops, dtype: int64"
            ]
          },
          "metadata": {},
          "execution_count": 74
        }
      ]
    },
    {
      "cell_type": "code",
      "metadata": {
        "id": "6F59JdLHh9gc"
      },
      "source": [
        "# Total_Stops is of Ordinal Categorical type, we'll use LabelEncoder.\n",
        "# Replace Total_Stops with integer numbers\n",
        "combined_df[\"Total_Stops\"].replace({\"non-stop\": 0, \"1 stop\": 1, \"2 stops\": 2, \"3 stops\": 3, \"4 stops\": 4}, inplace=True)"
      ],
      "execution_count": 75,
      "outputs": []
    },
    {
      "cell_type": "code",
      "metadata": {
        "colab": {
          "base_uri": "https://localhost:8080/",
          "height": 240
        },
        "id": "l_r2qi43iGu2",
        "outputId": "c97c10a8-155b-4145-91c1-7d82b9e3bde4"
      },
      "source": [
        "combined_df.head()"
      ],
      "execution_count": 76,
      "outputs": [
        {
          "output_type": "execute_result",
          "data": {
            "text/html": [
              "<div>\n",
              "<style scoped>\n",
              "    .dataframe tbody tr th:only-of-type {\n",
              "        vertical-align: middle;\n",
              "    }\n",
              "\n",
              "    .dataframe tbody tr th {\n",
              "        vertical-align: top;\n",
              "    }\n",
              "\n",
              "    .dataframe thead th {\n",
              "        text-align: right;\n",
              "    }\n",
              "</style>\n",
              "<table border=\"1\" class=\"dataframe\">\n",
              "  <thead>\n",
              "    <tr style=\"text-align: right;\">\n",
              "      <th></th>\n",
              "      <th>Airline</th>\n",
              "      <th>Source</th>\n",
              "      <th>Destination</th>\n",
              "      <th>Total_Stops</th>\n",
              "      <th>Additional_Info</th>\n",
              "      <th>Price</th>\n",
              "      <th>flight_day</th>\n",
              "      <th>flight_month</th>\n",
              "      <th>flight_dayofweek</th>\n",
              "      <th>dep_hour</th>\n",
              "      <th>dep_min</th>\n",
              "      <th>arr_hour</th>\n",
              "      <th>arr_min</th>\n",
              "      <th>duration_hours</th>\n",
              "      <th>duration_mins</th>\n",
              "    </tr>\n",
              "  </thead>\n",
              "  <tbody>\n",
              "    <tr>\n",
              "      <th>0</th>\n",
              "      <td>IndiGo</td>\n",
              "      <td>Banglore</td>\n",
              "      <td>New Delhi</td>\n",
              "      <td>0</td>\n",
              "      <td>No info</td>\n",
              "      <td>3897.0</td>\n",
              "      <td>24</td>\n",
              "      <td>3</td>\n",
              "      <td>6</td>\n",
              "      <td>22</td>\n",
              "      <td>20</td>\n",
              "      <td>1</td>\n",
              "      <td>10</td>\n",
              "      <td>2.833333</td>\n",
              "      <td>170.0</td>\n",
              "    </tr>\n",
              "    <tr>\n",
              "      <th>1</th>\n",
              "      <td>Air India</td>\n",
              "      <td>Kolkata</td>\n",
              "      <td>Banglore</td>\n",
              "      <td>2</td>\n",
              "      <td>No info</td>\n",
              "      <td>7662.0</td>\n",
              "      <td>1</td>\n",
              "      <td>5</td>\n",
              "      <td>2</td>\n",
              "      <td>5</td>\n",
              "      <td>50</td>\n",
              "      <td>13</td>\n",
              "      <td>15</td>\n",
              "      <td>7.416667</td>\n",
              "      <td>445.0</td>\n",
              "    </tr>\n",
              "    <tr>\n",
              "      <th>2</th>\n",
              "      <td>Jet Airways</td>\n",
              "      <td>Delhi</td>\n",
              "      <td>Cochin</td>\n",
              "      <td>2</td>\n",
              "      <td>No info</td>\n",
              "      <td>13882.0</td>\n",
              "      <td>9</td>\n",
              "      <td>6</td>\n",
              "      <td>6</td>\n",
              "      <td>9</td>\n",
              "      <td>25</td>\n",
              "      <td>4</td>\n",
              "      <td>25</td>\n",
              "      <td>19.000000</td>\n",
              "      <td>1140.0</td>\n",
              "    </tr>\n",
              "    <tr>\n",
              "      <th>3</th>\n",
              "      <td>IndiGo</td>\n",
              "      <td>Kolkata</td>\n",
              "      <td>Banglore</td>\n",
              "      <td>1</td>\n",
              "      <td>No info</td>\n",
              "      <td>6218.0</td>\n",
              "      <td>12</td>\n",
              "      <td>5</td>\n",
              "      <td>6</td>\n",
              "      <td>18</td>\n",
              "      <td>5</td>\n",
              "      <td>23</td>\n",
              "      <td>30</td>\n",
              "      <td>5.416667</td>\n",
              "      <td>325.0</td>\n",
              "    </tr>\n",
              "    <tr>\n",
              "      <th>4</th>\n",
              "      <td>IndiGo</td>\n",
              "      <td>Banglore</td>\n",
              "      <td>New Delhi</td>\n",
              "      <td>1</td>\n",
              "      <td>No info</td>\n",
              "      <td>13302.0</td>\n",
              "      <td>1</td>\n",
              "      <td>3</td>\n",
              "      <td>4</td>\n",
              "      <td>16</td>\n",
              "      <td>50</td>\n",
              "      <td>21</td>\n",
              "      <td>35</td>\n",
              "      <td>4.750000</td>\n",
              "      <td>285.0</td>\n",
              "    </tr>\n",
              "  </tbody>\n",
              "</table>\n",
              "</div>"
            ],
            "text/plain": [
              "       Airline    Source Destination  Total_Stops Additional_Info    Price  \\\n",
              "0       IndiGo  Banglore   New Delhi            0         No info   3897.0   \n",
              "1    Air India   Kolkata    Banglore            2         No info   7662.0   \n",
              "2  Jet Airways     Delhi      Cochin            2         No info  13882.0   \n",
              "3       IndiGo   Kolkata    Banglore            1         No info   6218.0   \n",
              "4       IndiGo  Banglore   New Delhi            1         No info  13302.0   \n",
              "\n",
              "   flight_day  flight_month  flight_dayofweek  dep_hour  dep_min  arr_hour  \\\n",
              "0          24             3                 6        22       20         1   \n",
              "1           1             5                 2         5       50        13   \n",
              "2           9             6                 6         9       25         4   \n",
              "3          12             5                 6        18        5        23   \n",
              "4           1             3                 4        16       50        21   \n",
              "\n",
              "   arr_min  duration_hours  duration_mins  \n",
              "0       10        2.833333          170.0  \n",
              "1       15        7.416667          445.0  \n",
              "2       25       19.000000         1140.0  \n",
              "3       30        5.416667          325.0  \n",
              "4       35        4.750000          285.0  "
            ]
          },
          "metadata": {},
          "execution_count": 76
        }
      ]
    },
    {
      "cell_type": "markdown",
      "metadata": {
        "id": "0dQQEJ-TdRTP"
      },
      "source": [
        "### Additional Infor"
      ]
    },
    {
      "cell_type": "code",
      "metadata": {
        "colab": {
          "base_uri": "https://localhost:8080/"
        },
        "id": "zOmH17ppdgyd",
        "outputId": "78b69ae2-cc4a-40f3-9d3e-18fbdcd9166b"
      },
      "source": [
        "combined_df.Additional_Info.value_counts()"
      ],
      "execution_count": 77,
      "outputs": [
        {
          "output_type": "execute_result",
          "data": {
            "text/plain": [
              "No info                         10492\n",
              "In-flight meal not included      2426\n",
              "No check-in baggage included      396\n",
              "1 Long layover                     20\n",
              "Change airports                     8\n",
              "Business class                      5\n",
              "No Info                             3\n",
              "1 Short layover                     1\n",
              "2 Long layover                      1\n",
              "Red-eye flight                      1\n",
              "Name: Additional_Info, dtype: int64"
            ]
          },
          "metadata": {},
          "execution_count": 77
        }
      ]
    },
    {
      "cell_type": "code",
      "metadata": {
        "colab": {
          "base_uri": "https://localhost:8080/"
        },
        "id": "j-4rCIlDejgE",
        "outputId": "9f32b94a-9ccc-47c9-c2c0-a067858040c2"
      },
      "source": [
        "combined_df.Additional_Info.value_counts(normalize=True)"
      ],
      "execution_count": 78,
      "outputs": [
        {
          "output_type": "execute_result",
          "data": {
            "text/plain": [
              "No info                         0.785741\n",
              "In-flight meal not included     0.181682\n",
              "No check-in baggage included    0.029656\n",
              "1 Long layover                  0.001498\n",
              "Change airports                 0.000599\n",
              "Business class                  0.000374\n",
              "No Info                         0.000225\n",
              "1 Short layover                 0.000075\n",
              "2 Long layover                  0.000075\n",
              "Red-eye flight                  0.000075\n",
              "Name: Additional_Info, dtype: float64"
            ]
          },
          "metadata": {},
          "execution_count": 78
        }
      ]
    },
    {
      "cell_type": "code",
      "metadata": {
        "colab": {
          "base_uri": "https://localhost:8080/",
          "height": 265
        },
        "id": "JO-twOcnd3MQ",
        "outputId": "2dd73fe9-28d3-4032-96ff-0e1fee4b43dd"
      },
      "source": [
        "combined_df.Additional_Info.value_counts().plot.pie()"
      ],
      "execution_count": 79,
      "outputs": [
        {
          "output_type": "execute_result",
          "data": {
            "text/plain": [
              "<matplotlib.axes._subplots.AxesSubplot at 0x7fe69f0c0f50>"
            ]
          },
          "metadata": {},
          "execution_count": 79
        },
        {
          "output_type": "display_data",
          "data": {
            "image/png": "[encoded data removed]",
            "text/plain": [
              "<Figure size 432x288 with 1 Axes>"
            ]
          },
          "metadata": {}
        }
      ]
    },
    {
      "cell_type": "markdown",
      "metadata": {
        "id": "8TqkTrXoepMl"
      },
      "source": [
        "About 80% of Additional_Info has No Infor. Additional_Info column may not be necessary. We'll drop this column."
      ]
    },
    {
      "cell_type": "code",
      "metadata": {
        "id": "Vg-S5uDwe4ZJ"
      },
      "source": [
        "combined_df.drop([\"Additional_Info\"], axis=1, inplace=True)"
      ],
      "execution_count": 80,
      "outputs": []
    },
    {
      "cell_type": "markdown",
      "metadata": {
        "id": "FunvqiO0jSEi"
      },
      "source": [
        "## Combine the dataframes"
      ]
    },
    {
      "cell_type": "code",
      "metadata": {
        "id": "4KYySIO0jWMK"
      },
      "source": [
        "# dataframe --> train_data + Airline + Source + Destination\n",
        "combined_df = pd.concat([combined_df, airlines, sources, destinations], axis = 1)"
      ],
      "execution_count": 81,
      "outputs": []
    },
    {
      "cell_type": "code",
      "metadata": {
        "colab": {
          "base_uri": "https://localhost:8080/",
          "height": 274
        },
        "id": "rdO1P-6KfD2_",
        "outputId": "ef58bcf6-0613-4d9a-c7ee-c5ef7accadef"
      },
      "source": [
        "combined_df.head()"
      ],
      "execution_count": 82,
      "outputs": [
        {
          "output_type": "execute_result",
          "data": {
            "text/html": [
              "<div>\n",
              "<style scoped>\n",
              "    .dataframe tbody tr th:only-of-type {\n",
              "        vertical-align: middle;\n",
              "    }\n",
              "\n",
              "    .dataframe tbody tr th {\n",
              "        vertical-align: top;\n",
              "    }\n",
              "\n",
              "    .dataframe thead th {\n",
              "        text-align: right;\n",
              "    }\n",
              "</style>\n",
              "<table border=\"1\" class=\"dataframe\">\n",
              "  <thead>\n",
              "    <tr style=\"text-align: right;\">\n",
              "      <th></th>\n",
              "      <th>Airline</th>\n",
              "      <th>Source</th>\n",
              "      <th>Destination</th>\n",
              "      <th>Total_Stops</th>\n",
              "      <th>Price</th>\n",
              "      <th>flight_day</th>\n",
              "      <th>flight_month</th>\n",
              "      <th>flight_dayofweek</th>\n",
              "      <th>dep_hour</th>\n",
              "      <th>dep_min</th>\n",
              "      <th>arr_hour</th>\n",
              "      <th>arr_min</th>\n",
              "      <th>duration_hours</th>\n",
              "      <th>duration_mins</th>\n",
              "      <th>Airline_Air India</th>\n",
              "      <th>Airline_GoAir</th>\n",
              "      <th>Airline_IndiGo</th>\n",
              "      <th>Airline_Jet Airways</th>\n",
              "      <th>Airline_Jet Airways Business</th>\n",
              "      <th>Airline_Multiple carriers</th>\n",
              "      <th>Airline_Multiple carriers Premium economy</th>\n",
              "      <th>Airline_SpiceJet</th>\n",
              "      <th>Airline_Trujet</th>\n",
              "      <th>Airline_Vistara</th>\n",
              "      <th>Airline_Vistara Premium economy</th>\n",
              "      <th>Source_Chennai</th>\n",
              "      <th>Source_Delhi</th>\n",
              "      <th>Source_Kolkata</th>\n",
              "      <th>Source_Mumbai</th>\n",
              "      <th>Destination_Cochin</th>\n",
              "      <th>Destination_Delhi</th>\n",
              "      <th>Destination_Hyderabad</th>\n",
              "      <th>Destination_Kolkata</th>\n",
              "      <th>Destination_New Delhi</th>\n",
              "    </tr>\n",
              "  </thead>\n",
              "  <tbody>\n",
              "    <tr>\n",
              "      <th>0</th>\n",
              "      <td>IndiGo</td>\n",
              "      <td>Banglore</td>\n",
              "      <td>New Delhi</td>\n",
              "      <td>0</td>\n",
              "      <td>3897.0</td>\n",
              "      <td>24</td>\n",
              "      <td>3</td>\n",
              "      <td>6</td>\n",
              "      <td>22</td>\n",
              "      <td>20</td>\n",
              "      <td>1</td>\n",
              "      <td>10</td>\n",
              "      <td>2.833333</td>\n",
              "      <td>170.0</td>\n",
              "      <td>0</td>\n",
              "      <td>0</td>\n",
              "      <td>1</td>\n",
              "      <td>0</td>\n",
              "      <td>0</td>\n",
              "      <td>0</td>\n",
              "      <td>0</td>\n",
              "      <td>0</td>\n",
              "      <td>0</td>\n",
              "      <td>0</td>\n",
              "      <td>0</td>\n",
              "      <td>0</td>\n",
              "      <td>0</td>\n",
              "      <td>0</td>\n",
              "      <td>0</td>\n",
              "      <td>0</td>\n",
              "      <td>0</td>\n",
              "      <td>0</td>\n",
              "      <td>0</td>\n",
              "      <td>1</td>\n",
              "    </tr>\n",
              "    <tr>\n",
              "      <th>1</th>\n",
              "      <td>Air India</td>\n",
              "      <td>Kolkata</td>\n",
              "      <td>Banglore</td>\n",
              "      <td>2</td>\n",
              "      <td>7662.0</td>\n",
              "      <td>1</td>\n",
              "      <td>5</td>\n",
              "      <td>2</td>\n",
              "      <td>5</td>\n",
              "      <td>50</td>\n",
              "      <td>13</td>\n",
              "      <td>15</td>\n",
              "      <td>7.416667</td>\n",
              "      <td>445.0</td>\n",
              "      <td>1</td>\n",
              "      <td>0</td>\n",
              "      <td>0</td>\n",
              "      <td>0</td>\n",
              "      <td>0</td>\n",
              "      <td>0</td>\n",
              "      <td>0</td>\n",
              "      <td>0</td>\n",
              "      <td>0</td>\n",
              "      <td>0</td>\n",
              "      <td>0</td>\n",
              "      <td>0</td>\n",
              "      <td>0</td>\n",
              "      <td>1</td>\n",
              "      <td>0</td>\n",
              "      <td>0</td>\n",
              "      <td>0</td>\n",
              "      <td>0</td>\n",
              "      <td>0</td>\n",
              "      <td>0</td>\n",
              "    </tr>\n",
              "    <tr>\n",
              "      <th>2</th>\n",
              "      <td>Jet Airways</td>\n",
              "      <td>Delhi</td>\n",
              "      <td>Cochin</td>\n",
              "      <td>2</td>\n",
              "      <td>13882.0</td>\n",
              "      <td>9</td>\n",
              "      <td>6</td>\n",
              "      <td>6</td>\n",
              "      <td>9</td>\n",
              "      <td>25</td>\n",
              "      <td>4</td>\n",
              "      <td>25</td>\n",
              "      <td>19.000000</td>\n",
              "      <td>1140.0</td>\n",
              "      <td>0</td>\n",
              "      <td>0</td>\n",
              "      <td>0</td>\n",
              "      <td>1</td>\n",
              "      <td>0</td>\n",
              "      <td>0</td>\n",
              "      <td>0</td>\n",
              "      <td>0</td>\n",
              "      <td>0</td>\n",
              "      <td>0</td>\n",
              "      <td>0</td>\n",
              "      <td>0</td>\n",
              "      <td>1</td>\n",
              "      <td>0</td>\n",
              "      <td>0</td>\n",
              "      <td>1</td>\n",
              "      <td>0</td>\n",
              "      <td>0</td>\n",
              "      <td>0</td>\n",
              "      <td>0</td>\n",
              "    </tr>\n",
              "    <tr>\n",
              "      <th>3</th>\n",
              "      <td>IndiGo</td>\n",
              "      <td>Kolkata</td>\n",
              "      <td>Banglore</td>\n",
              "      <td>1</td>\n",
              "      <td>6218.0</td>\n",
              "      <td>12</td>\n",
              "      <td>5</td>\n",
              "      <td>6</td>\n",
              "      <td>18</td>\n",
              "      <td>5</td>\n",
              "      <td>23</td>\n",
              "      <td>30</td>\n",
              "      <td>5.416667</td>\n",
              "      <td>325.0</td>\n",
              "      <td>0</td>\n",
              "      <td>0</td>\n",
              "      <td>1</td>\n",
              "      <td>0</td>\n",
              "      <td>0</td>\n",
              "      <td>0</td>\n",
              "      <td>0</td>\n",
              "      <td>0</td>\n",
              "      <td>0</td>\n",
              "      <td>0</td>\n",
              "      <td>0</td>\n",
              "      <td>0</td>\n",
              "      <td>0</td>\n",
              "      <td>1</td>\n",
              "      <td>0</td>\n",
              "      <td>0</td>\n",
              "      <td>0</td>\n",
              "      <td>0</td>\n",
              "      <td>0</td>\n",
              "      <td>0</td>\n",
              "    </tr>\n",
              "    <tr>\n",
              "      <th>4</th>\n",
              "      <td>IndiGo</td>\n",
              "      <td>Banglore</td>\n",
              "      <td>New Delhi</td>\n",
              "      <td>1</td>\n",
              "      <td>13302.0</td>\n",
              "      <td>1</td>\n",
              "      <td>3</td>\n",
              "      <td>4</td>\n",
              "      <td>16</td>\n",
              "      <td>50</td>\n",
              "      <td>21</td>\n",
              "      <td>35</td>\n",
              "      <td>4.750000</td>\n",
              "      <td>285.0</td>\n",
              "      <td>0</td>\n",
              "      <td>0</td>\n",
              "      <td>1</td>\n",
              "      <td>0</td>\n",
              "      <td>0</td>\n",
              "      <td>0</td>\n",
              "      <td>0</td>\n",
              "      <td>0</td>\n",
              "      <td>0</td>\n",
              "      <td>0</td>\n",
              "      <td>0</td>\n",
              "      <td>0</td>\n",
              "      <td>0</td>\n",
              "      <td>0</td>\n",
              "      <td>0</td>\n",
              "      <td>0</td>\n",
              "      <td>0</td>\n",
              "      <td>0</td>\n",
              "      <td>0</td>\n",
              "      <td>1</td>\n",
              "    </tr>\n",
              "  </tbody>\n",
              "</table>\n",
              "</div>"
            ],
            "text/plain": [
              "       Airline    Source Destination  Total_Stops    Price  flight_day  \\\n",
              "0       IndiGo  Banglore   New Delhi            0   3897.0          24   \n",
              "1    Air India   Kolkata    Banglore            2   7662.0           1   \n",
              "2  Jet Airways     Delhi      Cochin            2  13882.0           9   \n",
              "3       IndiGo   Kolkata    Banglore            1   6218.0          12   \n",
              "4       IndiGo  Banglore   New Delhi            1  13302.0           1   \n",
              "\n",
              "   flight_month  flight_dayofweek  dep_hour  dep_min  arr_hour  arr_min  \\\n",
              "0             3                 6        22       20         1       10   \n",
              "1             5                 2         5       50        13       15   \n",
              "2             6                 6         9       25         4       25   \n",
              "3             5                 6        18        5        23       30   \n",
              "4             3                 4        16       50        21       35   \n",
              "\n",
              "   duration_hours  duration_mins  Airline_Air India  Airline_GoAir  \\\n",
              "0        2.833333          170.0                  0              0   \n",
              "1        7.416667          445.0                  1              0   \n",
              "2       19.000000         1140.0                  0              0   \n",
              "3        5.416667          325.0                  0              0   \n",
              "4        4.750000          285.0                  0              0   \n",
              "\n",
              "   Airline_IndiGo  Airline_Jet Airways  Airline_Jet Airways Business  \\\n",
              "0               1                    0                             0   \n",
              "1               0                    0                             0   \n",
              "2               0                    1                             0   \n",
              "3               1                    0                             0   \n",
              "4               1                    0                             0   \n",
              "\n",
              "   Airline_Multiple carriers  Airline_Multiple carriers Premium economy  \\\n",
              "0                          0                                          0   \n",
              "1                          0                                          0   \n",
              "2                          0                                          0   \n",
              "3                          0                                          0   \n",
              "4                          0                                          0   \n",
              "\n",
              "   Airline_SpiceJet  Airline_Trujet  Airline_Vistara  \\\n",
              "0                 0               0                0   \n",
              "1                 0               0                0   \n",
              "2                 0               0                0   \n",
              "3                 0               0                0   \n",
              "4                 0               0                0   \n",
              "\n",
              "   Airline_Vistara Premium economy  Source_Chennai  Source_Delhi  \\\n",
              "0                                0               0             0   \n",
              "1                                0               0             0   \n",
              "2                                0               0             1   \n",
              "3                                0               0             0   \n",
              "4                                0               0             0   \n",
              "\n",
              "   Source_Kolkata  Source_Mumbai  Destination_Cochin  Destination_Delhi  \\\n",
              "0               0              0                   0                  0   \n",
              "1               1              0                   0                  0   \n",
              "2               0              0                   1                  0   \n",
              "3               1              0                   0                  0   \n",
              "4               0              0                   0                  0   \n",
              "\n",
              "   Destination_Hyderabad  Destination_Kolkata  Destination_New Delhi  \n",
              "0                      0                    0                      1  \n",
              "1                      0                    0                      0  \n",
              "2                      0                    0                      0  \n",
              "3                      0                    0                      0  \n",
              "4                      0                    0                      1  "
            ]
          },
          "metadata": {},
          "execution_count": 82
        }
      ]
    },
    {
      "cell_type": "code",
      "metadata": {
        "id": "-pDPnyfslHcp"
      },
      "source": [
        "# Drop some unnecessary columns\n",
        "combined_df.drop([\"Airline\", \"Source\", \"Destination\", \"duration_mins\"], axis=1, inplace=True)"
      ],
      "execution_count": 83,
      "outputs": []
    },
    {
      "cell_type": "code",
      "metadata": {
        "colab": {
          "base_uri": "https://localhost:8080/"
        },
        "id": "CXdxLaL9jimt",
        "outputId": "65e70b8c-60ca-4bdd-f068-ab8823eaa2f7"
      },
      "source": [
        "combined_df.shape"
      ],
      "execution_count": 84,
      "outputs": [
        {
          "output_type": "execute_result",
          "data": {
            "text/plain": [
              "(13353, 30)"
            ]
          },
          "metadata": {},
          "execution_count": 84
        }
      ]
    },
    {
      "cell_type": "code",
      "metadata": {
        "colab": {
          "base_uri": "https://localhost:8080/"
        },
        "id": "X6y-G5Ekjgce",
        "outputId": "e1c38525-def9-412c-c6c6-b2d384ebb677"
      },
      "source": [
        "## 30 columns\n",
        "combined_df.columns"
      ],
      "execution_count": 85,
      "outputs": [
        {
          "output_type": "execute_result",
          "data": {
            "text/plain": [
              "Index(['Total_Stops', 'Price', 'flight_day', 'flight_month',\n",
              "       'flight_dayofweek', 'dep_hour', 'dep_min', 'arr_hour', 'arr_min',\n",
              "       'duration_hours', 'Airline_Air India', 'Airline_GoAir',\n",
              "       'Airline_IndiGo', 'Airline_Jet Airways', 'Airline_Jet Airways Business',\n",
              "       'Airline_Multiple carriers',\n",
              "       'Airline_Multiple carriers Premium economy', 'Airline_SpiceJet',\n",
              "       'Airline_Trujet', 'Airline_Vistara', 'Airline_Vistara Premium economy',\n",
              "       'Source_Chennai', 'Source_Delhi', 'Source_Kolkata', 'Source_Mumbai',\n",
              "       'Destination_Cochin', 'Destination_Delhi', 'Destination_Hyderabad',\n",
              "       'Destination_Kolkata', 'Destination_New Delhi'],\n",
              "      dtype='object')"
            ]
          },
          "metadata": {},
          "execution_count": 85
        }
      ]
    },
    {
      "cell_type": "code",
      "metadata": {
        "colab": {
          "base_uri": "https://localhost:8080/",
          "height": 257
        },
        "id": "iE4IU9z0p-KT",
        "outputId": "3969ce7a-cf47-429d-81b4-f9d6355657a2"
      },
      "source": [
        "# Train dataset\n",
        "train_df = combined_df.iloc[:n_train-1, :]\n",
        "train_df.head()"
      ],
      "execution_count": 86,
      "outputs": [
        {
          "output_type": "execute_result",
          "data": {
            "text/html": [
              "<div>\n",
              "<style scoped>\n",
              "    .dataframe tbody tr th:only-of-type {\n",
              "        vertical-align: middle;\n",
              "    }\n",
              "\n",
              "    .dataframe tbody tr th {\n",
              "        vertical-align: top;\n",
              "    }\n",
              "\n",
              "    .dataframe thead th {\n",
              "        text-align: right;\n",
              "    }\n",
              "</style>\n",
              "<table border=\"1\" class=\"dataframe\">\n",
              "  <thead>\n",
              "    <tr style=\"text-align: right;\">\n",
              "      <th></th>\n",
              "      <th>Total_Stops</th>\n",
              "      <th>Price</th>\n",
              "      <th>flight_day</th>\n",
              "      <th>flight_month</th>\n",
              "      <th>flight_dayofweek</th>\n",
              "      <th>dep_hour</th>\n",
              "      <th>dep_min</th>\n",
              "      <th>arr_hour</th>\n",
              "      <th>arr_min</th>\n",
              "      <th>duration_hours</th>\n",
              "      <th>Airline_Air India</th>\n",
              "      <th>Airline_GoAir</th>\n",
              "      <th>Airline_IndiGo</th>\n",
              "      <th>Airline_Jet Airways</th>\n",
              "      <th>Airline_Jet Airways Business</th>\n",
              "      <th>Airline_Multiple carriers</th>\n",
              "      <th>Airline_Multiple carriers Premium economy</th>\n",
              "      <th>Airline_SpiceJet</th>\n",
              "      <th>Airline_Trujet</th>\n",
              "      <th>Airline_Vistara</th>\n",
              "      <th>Airline_Vistara Premium economy</th>\n",
              "      <th>Source_Chennai</th>\n",
              "      <th>Source_Delhi</th>\n",
              "      <th>Source_Kolkata</th>\n",
              "      <th>Source_Mumbai</th>\n",
              "      <th>Destination_Cochin</th>\n",
              "      <th>Destination_Delhi</th>\n",
              "      <th>Destination_Hyderabad</th>\n",
              "      <th>Destination_Kolkata</th>\n",
              "      <th>Destination_New Delhi</th>\n",
              "    </tr>\n",
              "  </thead>\n",
              "  <tbody>\n",
              "    <tr>\n",
              "      <th>0</th>\n",
              "      <td>0</td>\n",
              "      <td>3897.0</td>\n",
              "      <td>24</td>\n",
              "      <td>3</td>\n",
              "      <td>6</td>\n",
              "      <td>22</td>\n",
              "      <td>20</td>\n",
              "      <td>1</td>\n",
              "      <td>10</td>\n",
              "      <td>2.833333</td>\n",
              "      <td>0</td>\n",
              "      <td>0</td>\n",
              "      <td>1</td>\n",
              "      <td>0</td>\n",
              "      <td>0</td>\n",
              "      <td>0</td>\n",
              "      <td>0</td>\n",
              "      <td>0</td>\n",
              "      <td>0</td>\n",
              "      <td>0</td>\n",
              "      <td>0</td>\n",
              "      <td>0</td>\n",
              "      <td>0</td>\n",
              "      <td>0</td>\n",
              "      <td>0</td>\n",
              "      <td>0</td>\n",
              "      <td>0</td>\n",
              "      <td>0</td>\n",
              "      <td>0</td>\n",
              "      <td>1</td>\n",
              "    </tr>\n",
              "    <tr>\n",
              "      <th>1</th>\n",
              "      <td>2</td>\n",
              "      <td>7662.0</td>\n",
              "      <td>1</td>\n",
              "      <td>5</td>\n",
              "      <td>2</td>\n",
              "      <td>5</td>\n",
              "      <td>50</td>\n",
              "      <td>13</td>\n",
              "      <td>15</td>\n",
              "      <td>7.416667</td>\n",
              "      <td>1</td>\n",
              "      <td>0</td>\n",
              "      <td>0</td>\n",
              "      <td>0</td>\n",
              "      <td>0</td>\n",
              "      <td>0</td>\n",
              "      <td>0</td>\n",
              "      <td>0</td>\n",
              "      <td>0</td>\n",
              "      <td>0</td>\n",
              "      <td>0</td>\n",
              "      <td>0</td>\n",
              "      <td>0</td>\n",
              "      <td>1</td>\n",
              "      <td>0</td>\n",
              "      <td>0</td>\n",
              "      <td>0</td>\n",
              "      <td>0</td>\n",
              "      <td>0</td>\n",
              "      <td>0</td>\n",
              "    </tr>\n",
              "    <tr>\n",
              "      <th>2</th>\n",
              "      <td>2</td>\n",
              "      <td>13882.0</td>\n",
              "      <td>9</td>\n",
              "      <td>6</td>\n",
              "      <td>6</td>\n",
              "      <td>9</td>\n",
              "      <td>25</td>\n",
              "      <td>4</td>\n",
              "      <td>25</td>\n",
              "      <td>19.000000</td>\n",
              "      <td>0</td>\n",
              "      <td>0</td>\n",
              "      <td>0</td>\n",
              "      <td>1</td>\n",
              "      <td>0</td>\n",
              "      <td>0</td>\n",
              "      <td>0</td>\n",
              "      <td>0</td>\n",
              "      <td>0</td>\n",
              "      <td>0</td>\n",
              "      <td>0</td>\n",
              "      <td>0</td>\n",
              "      <td>1</td>\n",
              "      <td>0</td>\n",
              "      <td>0</td>\n",
              "      <td>1</td>\n",
              "      <td>0</td>\n",
              "      <td>0</td>\n",
              "      <td>0</td>\n",
              "      <td>0</td>\n",
              "    </tr>\n",
              "    <tr>\n",
              "      <th>3</th>\n",
              "      <td>1</td>\n",
              "      <td>6218.0</td>\n",
              "      <td>12</td>\n",
              "      <td>5</td>\n",
              "      <td>6</td>\n",
              "      <td>18</td>\n",
              "      <td>5</td>\n",
              "      <td>23</td>\n",
              "      <td>30</td>\n",
              "      <td>5.416667</td>\n",
              "      <td>0</td>\n",
              "      <td>0</td>\n",
              "      <td>1</td>\n",
              "      <td>0</td>\n",
              "      <td>0</td>\n",
              "      <td>0</td>\n",
              "      <td>0</td>\n",
              "      <td>0</td>\n",
              "      <td>0</td>\n",
              "      <td>0</td>\n",
              "      <td>0</td>\n",
              "      <td>0</td>\n",
              "      <td>0</td>\n",
              "      <td>1</td>\n",
              "      <td>0</td>\n",
              "      <td>0</td>\n",
              "      <td>0</td>\n",
              "      <td>0</td>\n",
              "      <td>0</td>\n",
              "      <td>0</td>\n",
              "    </tr>\n",
              "    <tr>\n",
              "      <th>4</th>\n",
              "      <td>1</td>\n",
              "      <td>13302.0</td>\n",
              "      <td>1</td>\n",
              "      <td>3</td>\n",
              "      <td>4</td>\n",
              "      <td>16</td>\n",
              "      <td>50</td>\n",
              "      <td>21</td>\n",
              "      <td>35</td>\n",
              "      <td>4.750000</td>\n",
              "      <td>0</td>\n",
              "      <td>0</td>\n",
              "      <td>1</td>\n",
              "      <td>0</td>\n",
              "      <td>0</td>\n",
              "      <td>0</td>\n",
              "      <td>0</td>\n",
              "      <td>0</td>\n",
              "      <td>0</td>\n",
              "      <td>0</td>\n",
              "      <td>0</td>\n",
              "      <td>0</td>\n",
              "      <td>0</td>\n",
              "      <td>0</td>\n",
              "      <td>0</td>\n",
              "      <td>0</td>\n",
              "      <td>0</td>\n",
              "      <td>0</td>\n",
              "      <td>0</td>\n",
              "      <td>1</td>\n",
              "    </tr>\n",
              "  </tbody>\n",
              "</table>\n",
              "</div>"
            ],
            "text/plain": [
              "   Total_Stops    Price  flight_day  flight_month  flight_dayofweek  dep_hour  \\\n",
              "0            0   3897.0          24             3                 6        22   \n",
              "1            2   7662.0           1             5                 2         5   \n",
              "2            2  13882.0           9             6                 6         9   \n",
              "3            1   6218.0          12             5                 6        18   \n",
              "4            1  13302.0           1             3                 4        16   \n",
              "\n",
              "   dep_min  arr_hour  arr_min  duration_hours  Airline_Air India  \\\n",
              "0       20         1       10        2.833333                  0   \n",
              "1       50        13       15        7.416667                  1   \n",
              "2       25         4       25       19.000000                  0   \n",
              "3        5        23       30        5.416667                  0   \n",
              "4       50        21       35        4.750000                  0   \n",
              "\n",
              "   Airline_GoAir  Airline_IndiGo  Airline_Jet Airways  \\\n",
              "0              0               1                    0   \n",
              "1              0               0                    0   \n",
              "2              0               0                    1   \n",
              "3              0               1                    0   \n",
              "4              0               1                    0   \n",
              "\n",
              "   Airline_Jet Airways Business  Airline_Multiple carriers  \\\n",
              "0                             0                          0   \n",
              "1                             0                          0   \n",
              "2                             0                          0   \n",
              "3                             0                          0   \n",
              "4                             0                          0   \n",
              "\n",
              "   Airline_Multiple carriers Premium economy  Airline_SpiceJet  \\\n",
              "0                                          0                 0   \n",
              "1                                          0                 0   \n",
              "2                                          0                 0   \n",
              "3                                          0                 0   \n",
              "4                                          0                 0   \n",
              "\n",
              "   Airline_Trujet  Airline_Vistara  Airline_Vistara Premium economy  \\\n",
              "0               0                0                                0   \n",
              "1               0                0                                0   \n",
              "2               0                0                                0   \n",
              "3               0                0                                0   \n",
              "4               0                0                                0   \n",
              "\n",
              "   Source_Chennai  Source_Delhi  Source_Kolkata  Source_Mumbai  \\\n",
              "0               0             0               0              0   \n",
              "1               0             0               1              0   \n",
              "2               0             1               0              0   \n",
              "3               0             0               1              0   \n",
              "4               0             0               0              0   \n",
              "\n",
              "   Destination_Cochin  Destination_Delhi  Destination_Hyderabad  \\\n",
              "0                   0                  0                      0   \n",
              "1                   0                  0                      0   \n",
              "2                   1                  0                      0   \n",
              "3                   0                  0                      0   \n",
              "4                   0                  0                      0   \n",
              "\n",
              "   Destination_Kolkata  Destination_New Delhi  \n",
              "0                    0                      1  \n",
              "1                    0                      0  \n",
              "2                    0                      0  \n",
              "3                    0                      0  \n",
              "4                    0                      1  "
            ]
          },
          "metadata": {},
          "execution_count": 86
        }
      ]
    },
    {
      "cell_type": "code",
      "metadata": {
        "colab": {
          "base_uri": "https://localhost:8080/",
          "height": 257
        },
        "id": "nwU5VPfmqvag",
        "outputId": "ccb1e5a0-83e7-4b6e-c9ae-267519b86a20"
      },
      "source": [
        "# Test dataset\n",
        "test_df = combined_df.iloc[n_train-1 :, :].reset_index(drop=True)\n",
        "test_df.drop([\"Price\"], axis=1, inplace=True)\n",
        "test_df.head()"
      ],
      "execution_count": 87,
      "outputs": [
        {
          "output_type": "execute_result",
          "data": {
            "text/html": [
              "<div>\n",
              "<style scoped>\n",
              "    .dataframe tbody tr th:only-of-type {\n",
              "        vertical-align: middle;\n",
              "    }\n",
              "\n",
              "    .dataframe tbody tr th {\n",
              "        vertical-align: top;\n",
              "    }\n",
              "\n",
              "    .dataframe thead th {\n",
              "        text-align: right;\n",
              "    }\n",
              "</style>\n",
              "<table border=\"1\" class=\"dataframe\">\n",
              "  <thead>\n",
              "    <tr style=\"text-align: right;\">\n",
              "      <th></th>\n",
              "      <th>Total_Stops</th>\n",
              "      <th>flight_day</th>\n",
              "      <th>flight_month</th>\n",
              "      <th>flight_dayofweek</th>\n",
              "      <th>dep_hour</th>\n",
              "      <th>dep_min</th>\n",
              "      <th>arr_hour</th>\n",
              "      <th>arr_min</th>\n",
              "      <th>duration_hours</th>\n",
              "      <th>Airline_Air India</th>\n",
              "      <th>Airline_GoAir</th>\n",
              "      <th>Airline_IndiGo</th>\n",
              "      <th>Airline_Jet Airways</th>\n",
              "      <th>Airline_Jet Airways Business</th>\n",
              "      <th>Airline_Multiple carriers</th>\n",
              "      <th>Airline_Multiple carriers Premium economy</th>\n",
              "      <th>Airline_SpiceJet</th>\n",
              "      <th>Airline_Trujet</th>\n",
              "      <th>Airline_Vistara</th>\n",
              "      <th>Airline_Vistara Premium economy</th>\n",
              "      <th>Source_Chennai</th>\n",
              "      <th>Source_Delhi</th>\n",
              "      <th>Source_Kolkata</th>\n",
              "      <th>Source_Mumbai</th>\n",
              "      <th>Destination_Cochin</th>\n",
              "      <th>Destination_Delhi</th>\n",
              "      <th>Destination_Hyderabad</th>\n",
              "      <th>Destination_Kolkata</th>\n",
              "      <th>Destination_New Delhi</th>\n",
              "    </tr>\n",
              "  </thead>\n",
              "  <tbody>\n",
              "    <tr>\n",
              "      <th>0</th>\n",
              "      <td>1</td>\n",
              "      <td>6</td>\n",
              "      <td>6</td>\n",
              "      <td>3</td>\n",
              "      <td>17</td>\n",
              "      <td>30</td>\n",
              "      <td>4</td>\n",
              "      <td>25</td>\n",
              "      <td>10.916667</td>\n",
              "      <td>0</td>\n",
              "      <td>0</td>\n",
              "      <td>0</td>\n",
              "      <td>1</td>\n",
              "      <td>0</td>\n",
              "      <td>0</td>\n",
              "      <td>0</td>\n",
              "      <td>0</td>\n",
              "      <td>0</td>\n",
              "      <td>0</td>\n",
              "      <td>0</td>\n",
              "      <td>0</td>\n",
              "      <td>1</td>\n",
              "      <td>0</td>\n",
              "      <td>0</td>\n",
              "      <td>1</td>\n",
              "      <td>0</td>\n",
              "      <td>0</td>\n",
              "      <td>0</td>\n",
              "      <td>0</td>\n",
              "    </tr>\n",
              "    <tr>\n",
              "      <th>1</th>\n",
              "      <td>1</td>\n",
              "      <td>12</td>\n",
              "      <td>5</td>\n",
              "      <td>6</td>\n",
              "      <td>6</td>\n",
              "      <td>20</td>\n",
              "      <td>10</td>\n",
              "      <td>20</td>\n",
              "      <td>4.000000</td>\n",
              "      <td>0</td>\n",
              "      <td>0</td>\n",
              "      <td>1</td>\n",
              "      <td>0</td>\n",
              "      <td>0</td>\n",
              "      <td>0</td>\n",
              "      <td>0</td>\n",
              "      <td>0</td>\n",
              "      <td>0</td>\n",
              "      <td>0</td>\n",
              "      <td>0</td>\n",
              "      <td>0</td>\n",
              "      <td>0</td>\n",
              "      <td>1</td>\n",
              "      <td>0</td>\n",
              "      <td>0</td>\n",
              "      <td>0</td>\n",
              "      <td>0</td>\n",
              "      <td>0</td>\n",
              "      <td>0</td>\n",
              "    </tr>\n",
              "    <tr>\n",
              "      <th>2</th>\n",
              "      <td>1</td>\n",
              "      <td>21</td>\n",
              "      <td>5</td>\n",
              "      <td>1</td>\n",
              "      <td>19</td>\n",
              "      <td>15</td>\n",
              "      <td>19</td>\n",
              "      <td>0</td>\n",
              "      <td>23.750000</td>\n",
              "      <td>0</td>\n",
              "      <td>0</td>\n",
              "      <td>0</td>\n",
              "      <td>1</td>\n",
              "      <td>0</td>\n",
              "      <td>0</td>\n",
              "      <td>0</td>\n",
              "      <td>0</td>\n",
              "      <td>0</td>\n",
              "      <td>0</td>\n",
              "      <td>0</td>\n",
              "      <td>0</td>\n",
              "      <td>1</td>\n",
              "      <td>0</td>\n",
              "      <td>0</td>\n",
              "      <td>1</td>\n",
              "      <td>0</td>\n",
              "      <td>0</td>\n",
              "      <td>0</td>\n",
              "      <td>0</td>\n",
              "    </tr>\n",
              "    <tr>\n",
              "      <th>3</th>\n",
              "      <td>1</td>\n",
              "      <td>21</td>\n",
              "      <td>5</td>\n",
              "      <td>1</td>\n",
              "      <td>8</td>\n",
              "      <td>0</td>\n",
              "      <td>21</td>\n",
              "      <td>0</td>\n",
              "      <td>13.000000</td>\n",
              "      <td>0</td>\n",
              "      <td>0</td>\n",
              "      <td>0</td>\n",
              "      <td>0</td>\n",
              "      <td>0</td>\n",
              "      <td>1</td>\n",
              "      <td>0</td>\n",
              "      <td>0</td>\n",
              "      <td>0</td>\n",
              "      <td>0</td>\n",
              "      <td>0</td>\n",
              "      <td>0</td>\n",
              "      <td>1</td>\n",
              "      <td>0</td>\n",
              "      <td>0</td>\n",
              "      <td>1</td>\n",
              "      <td>0</td>\n",
              "      <td>0</td>\n",
              "      <td>0</td>\n",
              "      <td>0</td>\n",
              "    </tr>\n",
              "    <tr>\n",
              "      <th>4</th>\n",
              "      <td>0</td>\n",
              "      <td>24</td>\n",
              "      <td>6</td>\n",
              "      <td>0</td>\n",
              "      <td>23</td>\n",
              "      <td>55</td>\n",
              "      <td>2</td>\n",
              "      <td>45</td>\n",
              "      <td>2.833333</td>\n",
              "      <td>0</td>\n",
              "      <td>0</td>\n",
              "      <td>0</td>\n",
              "      <td>0</td>\n",
              "      <td>0</td>\n",
              "      <td>0</td>\n",
              "      <td>0</td>\n",
              "      <td>0</td>\n",
              "      <td>0</td>\n",
              "      <td>0</td>\n",
              "      <td>0</td>\n",
              "      <td>0</td>\n",
              "      <td>0</td>\n",
              "      <td>0</td>\n",
              "      <td>0</td>\n",
              "      <td>0</td>\n",
              "      <td>1</td>\n",
              "      <td>0</td>\n",
              "      <td>0</td>\n",
              "      <td>0</td>\n",
              "    </tr>\n",
              "  </tbody>\n",
              "</table>\n",
              "</div>"
            ],
            "text/plain": [
              "   Total_Stops  flight_day  flight_month  flight_dayofweek  dep_hour  dep_min  \\\n",
              "0            1           6             6                 3        17       30   \n",
              "1            1          12             5                 6         6       20   \n",
              "2            1          21             5                 1        19       15   \n",
              "3            1          21             5                 1         8        0   \n",
              "4            0          24             6                 0        23       55   \n",
              "\n",
              "   arr_hour  arr_min  duration_hours  Airline_Air India  Airline_GoAir  \\\n",
              "0         4       25       10.916667                  0              0   \n",
              "1        10       20        4.000000                  0              0   \n",
              "2        19        0       23.750000                  0              0   \n",
              "3        21        0       13.000000                  0              0   \n",
              "4         2       45        2.833333                  0              0   \n",
              "\n",
              "   Airline_IndiGo  Airline_Jet Airways  Airline_Jet Airways Business  \\\n",
              "0               0                    1                             0   \n",
              "1               1                    0                             0   \n",
              "2               0                    1                             0   \n",
              "3               0                    0                             0   \n",
              "4               0                    0                             0   \n",
              "\n",
              "   Airline_Multiple carriers  Airline_Multiple carriers Premium economy  \\\n",
              "0                          0                                          0   \n",
              "1                          0                                          0   \n",
              "2                          0                                          0   \n",
              "3                          1                                          0   \n",
              "4                          0                                          0   \n",
              "\n",
              "   Airline_SpiceJet  Airline_Trujet  Airline_Vistara  \\\n",
              "0                 0               0                0   \n",
              "1                 0               0                0   \n",
              "2                 0               0                0   \n",
              "3                 0               0                0   \n",
              "4                 0               0                0   \n",
              "\n",
              "   Airline_Vistara Premium economy  Source_Chennai  Source_Delhi  \\\n",
              "0                                0               0             1   \n",
              "1                                0               0             0   \n",
              "2                                0               0             1   \n",
              "3                                0               0             1   \n",
              "4                                0               0             0   \n",
              "\n",
              "   Source_Kolkata  Source_Mumbai  Destination_Cochin  Destination_Delhi  \\\n",
              "0               0              0                   1                  0   \n",
              "1               1              0                   0                  0   \n",
              "2               0              0                   1                  0   \n",
              "3               0              0                   1                  0   \n",
              "4               0              0                   0                  1   \n",
              "\n",
              "   Destination_Hyderabad  Destination_Kolkata  Destination_New Delhi  \n",
              "0                      0                    0                      0  \n",
              "1                      0                    0                      0  \n",
              "2                      0                    0                      0  \n",
              "3                      0                    0                      0  \n",
              "4                      0                    0                      0  "
            ]
          },
          "metadata": {},
          "execution_count": 87
        }
      ]
    },
    {
      "cell_type": "markdown",
      "metadata": {
        "id": "k_1lWZBPpdER"
      },
      "source": [
        "# Feature Selection"
      ]
    },
    {
      "cell_type": "markdown",
      "metadata": {
        "id": "0LOwEVLvpjcR"
      },
      "source": [
        "Finding out the best feature which will contribute and have good relation with target variable. Following are some of the feature selection methods,\n",
        "\n",
        "1. **heatmap**\n",
        "\n",
        "2. **feature_importance_**\n",
        "\n",
        "3. **SelectKBest**"
      ]
    },
    {
      "cell_type": "code",
      "metadata": {
        "colab": {
          "base_uri": "https://localhost:8080/"
        },
        "id": "SEoOhCRhsx1d",
        "outputId": "147ee03b-cf50-40d7-f1b3-705bdc5b4103"
      },
      "source": [
        "train_df.shape"
      ],
      "execution_count": 88,
      "outputs": [
        {
          "output_type": "execute_result",
          "data": {
            "text/plain": [
              "(10682, 30)"
            ]
          },
          "metadata": {},
          "execution_count": 88
        }
      ]
    },
    {
      "cell_type": "code",
      "metadata": {
        "colab": {
          "base_uri": "https://localhost:8080/"
        },
        "id": "nXvDgHzqs0pN",
        "outputId": "2af3f542-b463-460e-81fc-0cd224a19a6c"
      },
      "source": [
        "train_df.columns"
      ],
      "execution_count": 89,
      "outputs": [
        {
          "output_type": "execute_result",
          "data": {
            "text/plain": [
              "Index(['Total_Stops', 'Price', 'flight_day', 'flight_month',\n",
              "       'flight_dayofweek', 'dep_hour', 'dep_min', 'arr_hour', 'arr_min',\n",
              "       'duration_hours', 'Airline_Air India', 'Airline_GoAir',\n",
              "       'Airline_IndiGo', 'Airline_Jet Airways', 'Airline_Jet Airways Business',\n",
              "       'Airline_Multiple carriers',\n",
              "       'Airline_Multiple carriers Premium economy', 'Airline_SpiceJet',\n",
              "       'Airline_Trujet', 'Airline_Vistara', 'Airline_Vistara Premium economy',\n",
              "       'Source_Chennai', 'Source_Delhi', 'Source_Kolkata', 'Source_Mumbai',\n",
              "       'Destination_Cochin', 'Destination_Delhi', 'Destination_Hyderabad',\n",
              "       'Destination_Kolkata', 'Destination_New Delhi'],\n",
              "      dtype='object')"
            ]
          },
          "metadata": {},
          "execution_count": 89
        }
      ]
    },
    {
      "cell_type": "code",
      "metadata": {
        "colab": {
          "base_uri": "https://localhost:8080/",
          "height": 257
        },
        "id": "4NpHW3NMs6CC",
        "outputId": "4a6c8b6b-c4b7-4617-cb24-43de09f599d1"
      },
      "source": [
        "X_train = train_df.loc[:, ['Total_Stops', 'flight_day', 'flight_month',\n",
        "       'flight_dayofweek', 'dep_hour', 'dep_min', 'arr_hour', 'arr_min',\n",
        "       'duration_hours', 'Airline_Air India', 'Airline_GoAir',\n",
        "       'Airline_IndiGo', 'Airline_Jet Airways', 'Airline_Jet Airways Business',\n",
        "       'Airline_Multiple carriers',\n",
        "       'Airline_Multiple carriers Premium economy', 'Airline_SpiceJet',\n",
        "       'Airline_Trujet', 'Airline_Vistara', 'Airline_Vistara Premium economy',\n",
        "       'Source_Chennai', 'Source_Delhi', 'Source_Kolkata', 'Source_Mumbai',\n",
        "       'Destination_Cochin', 'Destination_Delhi', 'Destination_Hyderabad',\n",
        "       'Destination_Kolkata', 'Destination_New Delhi']]\n",
        "X_train.head()"
      ],
      "execution_count": 90,
      "outputs": [
        {
          "output_type": "execute_result",
          "data": {
            "text/html": [
              "<div>\n",
              "<style scoped>\n",
              "    .dataframe tbody tr th:only-of-type {\n",
              "        vertical-align: middle;\n",
              "    }\n",
              "\n",
              "    .dataframe tbody tr th {\n",
              "        vertical-align: top;\n",
              "    }\n",
              "\n",
              "    .dataframe thead th {\n",
              "        text-align: right;\n",
              "    }\n",
              "</style>\n",
              "<table border=\"1\" class=\"dataframe\">\n",
              "  <thead>\n",
              "    <tr style=\"text-align: right;\">\n",
              "      <th></th>\n",
              "      <th>Total_Stops</th>\n",
              "      <th>flight_day</th>\n",
              "      <th>flight_month</th>\n",
              "      <th>flight_dayofweek</th>\n",
              "      <th>dep_hour</th>\n",
              "      <th>dep_min</th>\n",
              "      <th>arr_hour</th>\n",
              "      <th>arr_min</th>\n",
              "      <th>duration_hours</th>\n",
              "      <th>Airline_Air India</th>\n",
              "      <th>Airline_GoAir</th>\n",
              "      <th>Airline_IndiGo</th>\n",
              "      <th>Airline_Jet Airways</th>\n",
              "      <th>Airline_Jet Airways Business</th>\n",
              "      <th>Airline_Multiple carriers</th>\n",
              "      <th>Airline_Multiple carriers Premium economy</th>\n",
              "      <th>Airline_SpiceJet</th>\n",
              "      <th>Airline_Trujet</th>\n",
              "      <th>Airline_Vistara</th>\n",
              "      <th>Airline_Vistara Premium economy</th>\n",
              "      <th>Source_Chennai</th>\n",
              "      <th>Source_Delhi</th>\n",
              "      <th>Source_Kolkata</th>\n",
              "      <th>Source_Mumbai</th>\n",
              "      <th>Destination_Cochin</th>\n",
              "      <th>Destination_Delhi</th>\n",
              "      <th>Destination_Hyderabad</th>\n",
              "      <th>Destination_Kolkata</th>\n",
              "      <th>Destination_New Delhi</th>\n",
              "    </tr>\n",
              "  </thead>\n",
              "  <tbody>\n",
              "    <tr>\n",
              "      <th>0</th>\n",
              "      <td>0</td>\n",
              "      <td>24</td>\n",
              "      <td>3</td>\n",
              "      <td>6</td>\n",
              "      <td>22</td>\n",
              "      <td>20</td>\n",
              "      <td>1</td>\n",
              "      <td>10</td>\n",
              "      <td>2.833333</td>\n",
              "      <td>0</td>\n",
              "      <td>0</td>\n",
              "      <td>1</td>\n",
              "      <td>0</td>\n",
              "      <td>0</td>\n",
              "      <td>0</td>\n",
              "      <td>0</td>\n",
              "      <td>0</td>\n",
              "      <td>0</td>\n",
              "      <td>0</td>\n",
              "      <td>0</td>\n",
              "      <td>0</td>\n",
              "      <td>0</td>\n",
              "      <td>0</td>\n",
              "      <td>0</td>\n",
              "      <td>0</td>\n",
              "      <td>0</td>\n",
              "      <td>0</td>\n",
              "      <td>0</td>\n",
              "      <td>1</td>\n",
              "    </tr>\n",
              "    <tr>\n",
              "      <th>1</th>\n",
              "      <td>2</td>\n",
              "      <td>1</td>\n",
              "      <td>5</td>\n",
              "      <td>2</td>\n",
              "      <td>5</td>\n",
              "      <td>50</td>\n",
              "      <td>13</td>\n",
              "      <td>15</td>\n",
              "      <td>7.416667</td>\n",
              "      <td>1</td>\n",
              "      <td>0</td>\n",
              "      <td>0</td>\n",
              "      <td>0</td>\n",
              "      <td>0</td>\n",
              "      <td>0</td>\n",
              "      <td>0</td>\n",
              "      <td>0</td>\n",
              "      <td>0</td>\n",
              "      <td>0</td>\n",
              "      <td>0</td>\n",
              "      <td>0</td>\n",
              "      <td>0</td>\n",
              "      <td>1</td>\n",
              "      <td>0</td>\n",
              "      <td>0</td>\n",
              "      <td>0</td>\n",
              "      <td>0</td>\n",
              "      <td>0</td>\n",
              "      <td>0</td>\n",
              "    </tr>\n",
              "    <tr>\n",
              "      <th>2</th>\n",
              "      <td>2</td>\n",
              "      <td>9</td>\n",
              "      <td>6</td>\n",
              "      <td>6</td>\n",
              "      <td>9</td>\n",
              "      <td>25</td>\n",
              "      <td>4</td>\n",
              "      <td>25</td>\n",
              "      <td>19.000000</td>\n",
              "      <td>0</td>\n",
              "      <td>0</td>\n",
              "      <td>0</td>\n",
              "      <td>1</td>\n",
              "      <td>0</td>\n",
              "      <td>0</td>\n",
              "      <td>0</td>\n",
              "      <td>0</td>\n",
              "      <td>0</td>\n",
              "      <td>0</td>\n",
              "      <td>0</td>\n",
              "      <td>0</td>\n",
              "      <td>1</td>\n",
              "      <td>0</td>\n",
              "      <td>0</td>\n",
              "      <td>1</td>\n",
              "      <td>0</td>\n",
              "      <td>0</td>\n",
              "      <td>0</td>\n",
              "      <td>0</td>\n",
              "    </tr>\n",
              "    <tr>\n",
              "      <th>3</th>\n",
              "      <td>1</td>\n",
              "      <td>12</td>\n",
              "      <td>5</td>\n",
              "      <td>6</td>\n",
              "      <td>18</td>\n",
              "      <td>5</td>\n",
              "      <td>23</td>\n",
              "      <td>30</td>\n",
              "      <td>5.416667</td>\n",
              "      <td>0</td>\n",
              "      <td>0</td>\n",
              "      <td>1</td>\n",
              "      <td>0</td>\n",
              "      <td>0</td>\n",
              "      <td>0</td>\n",
              "      <td>0</td>\n",
              "      <td>0</td>\n",
              "      <td>0</td>\n",
              "      <td>0</td>\n",
              "      <td>0</td>\n",
              "      <td>0</td>\n",
              "      <td>0</td>\n",
              "      <td>1</td>\n",
              "      <td>0</td>\n",
              "      <td>0</td>\n",
              "      <td>0</td>\n",
              "      <td>0</td>\n",
              "      <td>0</td>\n",
              "      <td>0</td>\n",
              "    </tr>\n",
              "    <tr>\n",
              "      <th>4</th>\n",
              "      <td>1</td>\n",
              "      <td>1</td>\n",
              "      <td>3</td>\n",
              "      <td>4</td>\n",
              "      <td>16</td>\n",
              "      <td>50</td>\n",
              "      <td>21</td>\n",
              "      <td>35</td>\n",
              "      <td>4.750000</td>\n",
              "      <td>0</td>\n",
              "      <td>0</td>\n",
              "      <td>1</td>\n",
              "      <td>0</td>\n",
              "      <td>0</td>\n",
              "      <td>0</td>\n",
              "      <td>0</td>\n",
              "      <td>0</td>\n",
              "      <td>0</td>\n",
              "      <td>0</td>\n",
              "      <td>0</td>\n",
              "      <td>0</td>\n",
              "      <td>0</td>\n",
              "      <td>0</td>\n",
              "      <td>0</td>\n",
              "      <td>0</td>\n",
              "      <td>0</td>\n",
              "      <td>0</td>\n",
              "      <td>0</td>\n",
              "      <td>1</td>\n",
              "    </tr>\n",
              "  </tbody>\n",
              "</table>\n",
              "</div>"
            ],
            "text/plain": [
              "   Total_Stops  flight_day  flight_month  flight_dayofweek  dep_hour  dep_min  \\\n",
              "0            0          24             3                 6        22       20   \n",
              "1            2           1             5                 2         5       50   \n",
              "2            2           9             6                 6         9       25   \n",
              "3            1          12             5                 6        18        5   \n",
              "4            1           1             3                 4        16       50   \n",
              "\n",
              "   arr_hour  arr_min  duration_hours  Airline_Air India  Airline_GoAir  \\\n",
              "0         1       10        2.833333                  0              0   \n",
              "1        13       15        7.416667                  1              0   \n",
              "2         4       25       19.000000                  0              0   \n",
              "3        23       30        5.416667                  0              0   \n",
              "4        21       35        4.750000                  0              0   \n",
              "\n",
              "   Airline_IndiGo  Airline_Jet Airways  Airline_Jet Airways Business  \\\n",
              "0               1                    0                             0   \n",
              "1               0                    0                             0   \n",
              "2               0                    1                             0   \n",
              "3               1                    0                             0   \n",
              "4               1                    0                             0   \n",
              "\n",
              "   Airline_Multiple carriers  Airline_Multiple carriers Premium economy  \\\n",
              "0                          0                                          0   \n",
              "1                          0                                          0   \n",
              "2                          0                                          0   \n",
              "3                          0                                          0   \n",
              "4                          0                                          0   \n",
              "\n",
              "   Airline_SpiceJet  Airline_Trujet  Airline_Vistara  \\\n",
              "0                 0               0                0   \n",
              "1                 0               0                0   \n",
              "2                 0               0                0   \n",
              "3                 0               0                0   \n",
              "4                 0               0                0   \n",
              "\n",
              "   Airline_Vistara Premium economy  Source_Chennai  Source_Delhi  \\\n",
              "0                                0               0             0   \n",
              "1                                0               0             0   \n",
              "2                                0               0             1   \n",
              "3                                0               0             0   \n",
              "4                                0               0             0   \n",
              "\n",
              "   Source_Kolkata  Source_Mumbai  Destination_Cochin  Destination_Delhi  \\\n",
              "0               0              0                   0                  0   \n",
              "1               1              0                   0                  0   \n",
              "2               0              0                   1                  0   \n",
              "3               1              0                   0                  0   \n",
              "4               0              0                   0                  0   \n",
              "\n",
              "   Destination_Hyderabad  Destination_Kolkata  Destination_New Delhi  \n",
              "0                      0                    0                      1  \n",
              "1                      0                    0                      0  \n",
              "2                      0                    0                      0  \n",
              "3                      0                    0                      0  \n",
              "4                      0                    0                      1  "
            ]
          },
          "metadata": {},
          "execution_count": 90
        }
      ]
    },
    {
      "cell_type": "code",
      "metadata": {
        "colab": {
          "base_uri": "https://localhost:8080/"
        },
        "id": "oncSH_i-tMGD",
        "outputId": "e2e4e90d-fa56-4aae-be72-2b9f97216788"
      },
      "source": [
        "y_train = train_df.iloc[:, 1]\n",
        "y_train"
      ],
      "execution_count": 91,
      "outputs": [
        {
          "output_type": "execute_result",
          "data": {
            "text/plain": [
              "0         3897.0\n",
              "1         7662.0\n",
              "2        13882.0\n",
              "3         6218.0\n",
              "4        13302.0\n",
              "          ...   \n",
              "10678     4107.0\n",
              "10679     4145.0\n",
              "10680     7229.0\n",
              "10681    12648.0\n",
              "10682    11753.0\n",
              "Name: Price, Length: 10682, dtype: float64"
            ]
          },
          "metadata": {},
          "execution_count": 91
        }
      ]
    },
    {
      "cell_type": "markdown",
      "metadata": {
        "id": "T2S4wE_ec-QR"
      },
      "source": [
        "## The correlations of the variables"
      ]
    },
    {
      "cell_type": "markdown",
      "metadata": {
        "id": "19qglohVW595"
      },
      "source": [
        "Calc. the correlations of the variables"
      ]
    },
    {
      "cell_type": "code",
      "metadata": {
        "colab": {
          "base_uri": "https://localhost:8080/",
          "height": 203
        },
        "id": "QsEosZPVvRME",
        "outputId": "c01005f2-7320-4706-d439-9cf7e3381c9c"
      },
      "source": [
        "# Ignore the Categorical Columns\n",
        "data_train = train_df.loc[:, ['Total_Stops', 'Price', 'flight_day', 'flight_month',\n",
        "       'flight_dayofweek', 'dep_hour', 'dep_min', 'arr_hour', 'arr_min',\n",
        "       'duration_hours']]\n",
        "data_train.head()"
      ],
      "execution_count": 92,
      "outputs": [
        {
          "output_type": "execute_result",
          "data": {
            "text/html": [
              "<div>\n",
              "<style scoped>\n",
              "    .dataframe tbody tr th:only-of-type {\n",
              "        vertical-align: middle;\n",
              "    }\n",
              "\n",
              "    .dataframe tbody tr th {\n",
              "        vertical-align: top;\n",
              "    }\n",
              "\n",
              "    .dataframe thead th {\n",
              "        text-align: right;\n",
              "    }\n",
              "</style>\n",
              "<table border=\"1\" class=\"dataframe\">\n",
              "  <thead>\n",
              "    <tr style=\"text-align: right;\">\n",
              "      <th></th>\n",
              "      <th>Total_Stops</th>\n",
              "      <th>Price</th>\n",
              "      <th>flight_day</th>\n",
              "      <th>flight_month</th>\n",
              "      <th>flight_dayofweek</th>\n",
              "      <th>dep_hour</th>\n",
              "      <th>dep_min</th>\n",
              "      <th>arr_hour</th>\n",
              "      <th>arr_min</th>\n",
              "      <th>duration_hours</th>\n",
              "    </tr>\n",
              "  </thead>\n",
              "  <tbody>\n",
              "    <tr>\n",
              "      <th>0</th>\n",
              "      <td>0</td>\n",
              "      <td>3897.0</td>\n",
              "      <td>24</td>\n",
              "      <td>3</td>\n",
              "      <td>6</td>\n",
              "      <td>22</td>\n",
              "      <td>20</td>\n",
              "      <td>1</td>\n",
              "      <td>10</td>\n",
              "      <td>2.833333</td>\n",
              "    </tr>\n",
              "    <tr>\n",
              "      <th>1</th>\n",
              "      <td>2</td>\n",
              "      <td>7662.0</td>\n",
              "      <td>1</td>\n",
              "      <td>5</td>\n",
              "      <td>2</td>\n",
              "      <td>5</td>\n",
              "      <td>50</td>\n",
              "      <td>13</td>\n",
              "      <td>15</td>\n",
              "      <td>7.416667</td>\n",
              "    </tr>\n",
              "    <tr>\n",
              "      <th>2</th>\n",
              "      <td>2</td>\n",
              "      <td>13882.0</td>\n",
              "      <td>9</td>\n",
              "      <td>6</td>\n",
              "      <td>6</td>\n",
              "      <td>9</td>\n",
              "      <td>25</td>\n",
              "      <td>4</td>\n",
              "      <td>25</td>\n",
              "      <td>19.000000</td>\n",
              "    </tr>\n",
              "    <tr>\n",
              "      <th>3</th>\n",
              "      <td>1</td>\n",
              "      <td>6218.0</td>\n",
              "      <td>12</td>\n",
              "      <td>5</td>\n",
              "      <td>6</td>\n",
              "      <td>18</td>\n",
              "      <td>5</td>\n",
              "      <td>23</td>\n",
              "      <td>30</td>\n",
              "      <td>5.416667</td>\n",
              "    </tr>\n",
              "    <tr>\n",
              "      <th>4</th>\n",
              "      <td>1</td>\n",
              "      <td>13302.0</td>\n",
              "      <td>1</td>\n",
              "      <td>3</td>\n",
              "      <td>4</td>\n",
              "      <td>16</td>\n",
              "      <td>50</td>\n",
              "      <td>21</td>\n",
              "      <td>35</td>\n",
              "      <td>4.750000</td>\n",
              "    </tr>\n",
              "  </tbody>\n",
              "</table>\n",
              "</div>"
            ],
            "text/plain": [
              "   Total_Stops    Price  flight_day  flight_month  flight_dayofweek  dep_hour  \\\n",
              "0            0   3897.0          24             3                 6        22   \n",
              "1            2   7662.0           1             5                 2         5   \n",
              "2            2  13882.0           9             6                 6         9   \n",
              "3            1   6218.0          12             5                 6        18   \n",
              "4            1  13302.0           1             3                 4        16   \n",
              "\n",
              "   dep_min  arr_hour  arr_min  duration_hours  \n",
              "0       20         1       10        2.833333  \n",
              "1       50        13       15        7.416667  \n",
              "2       25         4       25       19.000000  \n",
              "3        5        23       30        5.416667  \n",
              "4       50        21       35        4.750000  "
            ]
          },
          "metadata": {},
          "execution_count": 92
        }
      ]
    },
    {
      "cell_type": "code",
      "metadata": {
        "colab": {
          "base_uri": "https://localhost:8080/",
          "height": 377
        },
        "id": "qLOXLAeCW9N7",
        "outputId": "ce9f6f49-b136-4bfb-e57d-bd4446e91f7d"
      },
      "source": [
        "data_train.corr()"
      ],
      "execution_count": 93,
      "outputs": [
        {
          "output_type": "execute_result",
          "data": {
            "text/html": [
              "<div>\n",
              "<style scoped>\n",
              "    .dataframe tbody tr th:only-of-type {\n",
              "        vertical-align: middle;\n",
              "    }\n",
              "\n",
              "    .dataframe tbody tr th {\n",
              "        vertical-align: top;\n",
              "    }\n",
              "\n",
              "    .dataframe thead th {\n",
              "        text-align: right;\n",
              "    }\n",
              "</style>\n",
              "<table border=\"1\" class=\"dataframe\">\n",
              "  <thead>\n",
              "    <tr style=\"text-align: right;\">\n",
              "      <th></th>\n",
              "      <th>Total_Stops</th>\n",
              "      <th>Price</th>\n",
              "      <th>flight_day</th>\n",
              "      <th>flight_month</th>\n",
              "      <th>flight_dayofweek</th>\n",
              "      <th>dep_hour</th>\n",
              "      <th>dep_min</th>\n",
              "      <th>arr_hour</th>\n",
              "      <th>arr_min</th>\n",
              "      <th>duration_hours</th>\n",
              "    </tr>\n",
              "  </thead>\n",
              "  <tbody>\n",
              "    <tr>\n",
              "      <th>Total_Stops</th>\n",
              "      <td>1.000000</td>\n",
              "      <td>0.603897</td>\n",
              "      <td>-0.009451</td>\n",
              "      <td>0.054383</td>\n",
              "      <td>-0.036750</td>\n",
              "      <td>-0.061476</td>\n",
              "      <td>-0.002618</td>\n",
              "      <td>0.038140</td>\n",
              "      <td>-0.106940</td>\n",
              "      <td>0.738071</td>\n",
              "    </tr>\n",
              "    <tr>\n",
              "      <th>Price</th>\n",
              "      <td>0.603897</td>\n",
              "      <td>1.000000</td>\n",
              "      <td>-0.153774</td>\n",
              "      <td>-0.103643</td>\n",
              "      <td>0.051570</td>\n",
              "      <td>0.006799</td>\n",
              "      <td>-0.024458</td>\n",
              "      <td>0.024244</td>\n",
              "      <td>-0.086155</td>\n",
              "      <td>0.506480</td>\n",
              "    </tr>\n",
              "    <tr>\n",
              "      <th>flight_day</th>\n",
              "      <td>-0.009451</td>\n",
              "      <td>-0.153774</td>\n",
              "      <td>1.000000</td>\n",
              "      <td>-0.038359</td>\n",
              "      <td>-0.091245</td>\n",
              "      <td>0.002170</td>\n",
              "      <td>-0.008170</td>\n",
              "      <td>-0.003245</td>\n",
              "      <td>-0.017510</td>\n",
              "      <td>-0.022439</td>\n",
              "    </tr>\n",
              "    <tr>\n",
              "      <th>flight_month</th>\n",
              "      <td>0.054383</td>\n",
              "      <td>-0.103643</td>\n",
              "      <td>-0.038359</td>\n",
              "      <td>1.000000</td>\n",
              "      <td>-0.083345</td>\n",
              "      <td>0.039127</td>\n",
              "      <td>-0.059267</td>\n",
              "      <td>-0.003927</td>\n",
              "      <td>-0.100626</td>\n",
              "      <td>0.014836</td>\n",
              "    </tr>\n",
              "    <tr>\n",
              "      <th>flight_dayofweek</th>\n",
              "      <td>-0.036750</td>\n",
              "      <td>0.051570</td>\n",
              "      <td>-0.091245</td>\n",
              "      <td>-0.083345</td>\n",
              "      <td>1.000000</td>\n",
              "      <td>-0.016823</td>\n",
              "      <td>0.017031</td>\n",
              "      <td>-0.007163</td>\n",
              "      <td>0.031716</td>\n",
              "      <td>-0.012729</td>\n",
              "    </tr>\n",
              "    <tr>\n",
              "      <th>dep_hour</th>\n",
              "      <td>-0.061476</td>\n",
              "      <td>0.006799</td>\n",
              "      <td>0.002170</td>\n",
              "      <td>0.039127</td>\n",
              "      <td>-0.016823</td>\n",
              "      <td>1.000000</td>\n",
              "      <td>-0.024745</td>\n",
              "      <td>0.005180</td>\n",
              "      <td>0.067911</td>\n",
              "      <td>0.002088</td>\n",
              "    </tr>\n",
              "    <tr>\n",
              "      <th>dep_min</th>\n",
              "      <td>-0.002618</td>\n",
              "      <td>-0.024458</td>\n",
              "      <td>-0.008170</td>\n",
              "      <td>-0.059267</td>\n",
              "      <td>0.017031</td>\n",
              "      <td>-0.024745</td>\n",
              "      <td>1.000000</td>\n",
              "      <td>0.043122</td>\n",
              "      <td>-0.017597</td>\n",
              "      <td>-0.019099</td>\n",
              "    </tr>\n",
              "    <tr>\n",
              "      <th>arr_hour</th>\n",
              "      <td>0.038140</td>\n",
              "      <td>0.024244</td>\n",
              "      <td>-0.003245</td>\n",
              "      <td>-0.003927</td>\n",
              "      <td>-0.007163</td>\n",
              "      <td>0.005180</td>\n",
              "      <td>0.043122</td>\n",
              "      <td>1.000000</td>\n",
              "      <td>-0.154363</td>\n",
              "      <td>0.051531</td>\n",
              "    </tr>\n",
              "    <tr>\n",
              "      <th>arr_min</th>\n",
              "      <td>-0.106940</td>\n",
              "      <td>-0.086155</td>\n",
              "      <td>-0.017510</td>\n",
              "      <td>-0.100626</td>\n",
              "      <td>0.031716</td>\n",
              "      <td>0.067911</td>\n",
              "      <td>-0.017597</td>\n",
              "      <td>-0.154363</td>\n",
              "      <td>1.000000</td>\n",
              "      <td>-0.069663</td>\n",
              "    </tr>\n",
              "    <tr>\n",
              "      <th>duration_hours</th>\n",
              "      <td>0.738071</td>\n",
              "      <td>0.506480</td>\n",
              "      <td>-0.022439</td>\n",
              "      <td>0.014836</td>\n",
              "      <td>-0.012729</td>\n",
              "      <td>0.002088</td>\n",
              "      <td>-0.019099</td>\n",
              "      <td>0.051531</td>\n",
              "      <td>-0.069663</td>\n",
              "      <td>1.000000</td>\n",
              "    </tr>\n",
              "  </tbody>\n",
              "</table>\n",
              "</div>"
            ],
            "text/plain": [
              "                  Total_Stops     Price  flight_day  flight_month  \\\n",
              "Total_Stops          1.000000  0.603897   -0.009451      0.054383   \n",
              "Price                0.603897  1.000000   -0.153774     -0.103643   \n",
              "flight_day          -0.009451 -0.153774    1.000000     -0.038359   \n",
              "flight_month         0.054383 -0.103643   -0.038359      1.000000   \n",
              "flight_dayofweek    -0.036750  0.051570   -0.091245     -0.083345   \n",
              "dep_hour            -0.061476  0.006799    0.002170      0.039127   \n",
              "dep_min             -0.002618 -0.024458   -0.008170     -0.059267   \n",
              "arr_hour             0.038140  0.024244   -0.003245     -0.003927   \n",
              "arr_min             -0.106940 -0.086155   -0.017510     -0.100626   \n",
              "duration_hours       0.738071  0.506480   -0.022439      0.014836   \n",
              "\n",
              "                  flight_dayofweek  dep_hour   dep_min  arr_hour   arr_min  \\\n",
              "Total_Stops              -0.036750 -0.061476 -0.002618  0.038140 -0.106940   \n",
              "Price                     0.051570  0.006799 -0.024458  0.024244 -0.086155   \n",
              "flight_day               -0.091245  0.002170 -0.008170 -0.003245 -0.017510   \n",
              "flight_month             -0.083345  0.039127 -0.059267 -0.003927 -0.100626   \n",
              "flight_dayofweek          1.000000 -0.016823  0.017031 -0.007163  0.031716   \n",
              "dep_hour                 -0.016823  1.000000 -0.024745  0.005180  0.067911   \n",
              "dep_min                   0.017031 -0.024745  1.000000  0.043122 -0.017597   \n",
              "arr_hour                 -0.007163  0.005180  0.043122  1.000000 -0.154363   \n",
              "arr_min                   0.031716  0.067911 -0.017597 -0.154363  1.000000   \n",
              "duration_hours           -0.012729  0.002088 -0.019099  0.051531 -0.069663   \n",
              "\n",
              "                  duration_hours  \n",
              "Total_Stops             0.738071  \n",
              "Price                   0.506480  \n",
              "flight_day             -0.022439  \n",
              "flight_month            0.014836  \n",
              "flight_dayofweek       -0.012729  \n",
              "dep_hour                0.002088  \n",
              "dep_min                -0.019099  \n",
              "arr_hour                0.051531  \n",
              "arr_min                -0.069663  \n",
              "duration_hours          1.000000  "
            ]
          },
          "metadata": {},
          "execution_count": 93
        }
      ]
    },
    {
      "cell_type": "code",
      "metadata": {
        "colab": {
          "base_uri": "https://localhost:8080/"
        },
        "id": "4CBh4XHcYf9Q",
        "outputId": "5c999273-cf79-48f5-fdbe-bb433b36a2f7"
      },
      "source": [
        "# Columns of the Correlation Matrix\n",
        "tb_cols = data_train.corr().index\n",
        "tb_cols"
      ],
      "execution_count": 94,
      "outputs": [
        {
          "output_type": "execute_result",
          "data": {
            "text/plain": [
              "Index(['Total_Stops', 'Price', 'flight_day', 'flight_month',\n",
              "       'flight_dayofweek', 'dep_hour', 'dep_min', 'arr_hour', 'arr_min',\n",
              "       'duration_hours'],\n",
              "      dtype='object')"
            ]
          },
          "metadata": {},
          "execution_count": 94
        }
      ]
    },
    {
      "cell_type": "code",
      "metadata": {
        "id": "R0TuobIEXLFr"
      },
      "source": [
        "# Pairplot of the Correlations\n",
        "# sns.pairplot(X_train)"
      ],
      "execution_count": 95,
      "outputs": []
    },
    {
      "cell_type": "markdown",
      "metadata": {
        "id": "1wPBVqI5XqIP"
      },
      "source": [
        "The pairplot doesn't give us much infor. We'll plot a heatmap."
      ]
    },
    {
      "cell_type": "code",
      "metadata": {
        "colab": {
          "base_uri": "https://localhost:8080/",
          "height": 1000
        },
        "id": "FEyZ2eyDX0u9",
        "outputId": "cb95c546-064c-4298-8645-b490f27b2968"
      },
      "source": [
        "plt.figure(figsize=(18,18))\n",
        "sns.heatmap(data_train.corr(), annot=True, cmap=\"RdYlGn\")\n",
        "plt.show()"
      ],
      "execution_count": 96,
      "outputs": [
        {
          "output_type": "display_data",
          "data": {
            "image/png": "[encoded data removed]",
            "text/plain": [
              "<Figure size 1296x1296 with 2 Axes>"
            ]
          },
          "metadata": {
            "needs_background": "light"
          }
        }
      ]
    },
    {
      "cell_type": "markdown",
      "metadata": {
        "id": "2VqQwPrHZ-39"
      },
      "source": [
        " 'Duration_hours' and 'Total_Stops' are strongly positively correlated."
      ]
    },
    {
      "cell_type": "markdown",
      "metadata": {
        "id": "d6z_SdWOdgBV"
      },
      "source": [
        "You should drop columns with high correlation scores. With a dataframe of many columns, you should do this as following."
      ]
    },
    {
      "cell_type": "code",
      "metadata": {
        "colab": {
          "base_uri": "https://localhost:8080/",
          "height": 377
        },
        "id": "yAMY17lochyk",
        "outputId": "36c91f10-c6ce-4c42-a9e9-7a7fddf96b7b"
      },
      "source": [
        "cor_matrix = data_train.corr().abs()\n",
        "cor_matrix"
      ],
      "execution_count": 97,
      "outputs": [
        {
          "output_type": "execute_result",
          "data": {
            "text/html": [
              "<div>\n",
              "<style scoped>\n",
              "    .dataframe tbody tr th:only-of-type {\n",
              "        vertical-align: middle;\n",
              "    }\n",
              "\n",
              "    .dataframe tbody tr th {\n",
              "        vertical-align: top;\n",
              "    }\n",
              "\n",
              "    .dataframe thead th {\n",
              "        text-align: right;\n",
              "    }\n",
              "</style>\n",
              "<table border=\"1\" class=\"dataframe\">\n",
              "  <thead>\n",
              "    <tr style=\"text-align: right;\">\n",
              "      <th></th>\n",
              "      <th>Total_Stops</th>\n",
              "      <th>Price</th>\n",
              "      <th>flight_day</th>\n",
              "      <th>flight_month</th>\n",
              "      <th>flight_dayofweek</th>\n",
              "      <th>dep_hour</th>\n",
              "      <th>dep_min</th>\n",
              "      <th>arr_hour</th>\n",
              "      <th>arr_min</th>\n",
              "      <th>duration_hours</th>\n",
              "    </tr>\n",
              "  </thead>\n",
              "  <tbody>\n",
              "    <tr>\n",
              "      <th>Total_Stops</th>\n",
              "      <td>1.000000</td>\n",
              "      <td>0.603897</td>\n",
              "      <td>0.009451</td>\n",
              "      <td>0.054383</td>\n",
              "      <td>0.036750</td>\n",
              "      <td>0.061476</td>\n",
              "      <td>0.002618</td>\n",
              "      <td>0.038140</td>\n",
              "      <td>0.106940</td>\n",
              "      <td>0.738071</td>\n",
              "    </tr>\n",
              "    <tr>\n",
              "      <th>Price</th>\n",
              "      <td>0.603897</td>\n",
              "      <td>1.000000</td>\n",
              "      <td>0.153774</td>\n",
              "      <td>0.103643</td>\n",
              "      <td>0.051570</td>\n",
              "      <td>0.006799</td>\n",
              "      <td>0.024458</td>\n",
              "      <td>0.024244</td>\n",
              "      <td>0.086155</td>\n",
              "      <td>0.506480</td>\n",
              "    </tr>\n",
              "    <tr>\n",
              "      <th>flight_day</th>\n",
              "      <td>0.009451</td>\n",
              "      <td>0.153774</td>\n",
              "      <td>1.000000</td>\n",
              "      <td>0.038359</td>\n",
              "      <td>0.091245</td>\n",
              "      <td>0.002170</td>\n",
              "      <td>0.008170</td>\n",
              "      <td>0.003245</td>\n",
              "      <td>0.017510</td>\n",
              "      <td>0.022439</td>\n",
              "    </tr>\n",
              "    <tr>\n",
              "      <th>flight_month</th>\n",
              "      <td>0.054383</td>\n",
              "      <td>0.103643</td>\n",
              "      <td>0.038359</td>\n",
              "      <td>1.000000</td>\n",
              "      <td>0.083345</td>\n",
              "      <td>0.039127</td>\n",
              "      <td>0.059267</td>\n",
              "      <td>0.003927</td>\n",
              "      <td>0.100626</td>\n",
              "      <td>0.014836</td>\n",
              "    </tr>\n",
              "    <tr>\n",
              "      <th>flight_dayofweek</th>\n",
              "      <td>0.036750</td>\n",
              "      <td>0.051570</td>\n",
              "      <td>0.091245</td>\n",
              "      <td>0.083345</td>\n",
              "      <td>1.000000</td>\n",
              "      <td>0.016823</td>\n",
              "      <td>0.017031</td>\n",
              "      <td>0.007163</td>\n",
              "      <td>0.031716</td>\n",
              "      <td>0.012729</td>\n",
              "    </tr>\n",
              "    <tr>\n",
              "      <th>dep_hour</th>\n",
              "      <td>0.061476</td>\n",
              "      <td>0.006799</td>\n",
              "      <td>0.002170</td>\n",
              "      <td>0.039127</td>\n",
              "      <td>0.016823</td>\n",
              "      <td>1.000000</td>\n",
              "      <td>0.024745</td>\n",
              "      <td>0.005180</td>\n",
              "      <td>0.067911</td>\n",
              "      <td>0.002088</td>\n",
              "    </tr>\n",
              "    <tr>\n",
              "      <th>dep_min</th>\n",
              "      <td>0.002618</td>\n",
              "      <td>0.024458</td>\n",
              "      <td>0.008170</td>\n",
              "      <td>0.059267</td>\n",
              "      <td>0.017031</td>\n",
              "      <td>0.024745</td>\n",
              "      <td>1.000000</td>\n",
              "      <td>0.043122</td>\n",
              "      <td>0.017597</td>\n",
              "      <td>0.019099</td>\n",
              "    </tr>\n",
              "    <tr>\n",
              "      <th>arr_hour</th>\n",
              "      <td>0.038140</td>\n",
              "      <td>0.024244</td>\n",
              "      <td>0.003245</td>\n",
              "      <td>0.003927</td>\n",
              "      <td>0.007163</td>\n",
              "      <td>0.005180</td>\n",
              "      <td>0.043122</td>\n",
              "      <td>1.000000</td>\n",
              "      <td>0.154363</td>\n",
              "      <td>0.051531</td>\n",
              "    </tr>\n",
              "    <tr>\n",
              "      <th>arr_min</th>\n",
              "      <td>0.106940</td>\n",
              "      <td>0.086155</td>\n",
              "      <td>0.017510</td>\n",
              "      <td>0.100626</td>\n",
              "      <td>0.031716</td>\n",
              "      <td>0.067911</td>\n",
              "      <td>0.017597</td>\n",
              "      <td>0.154363</td>\n",
              "      <td>1.000000</td>\n",
              "      <td>0.069663</td>\n",
              "    </tr>\n",
              "    <tr>\n",
              "      <th>duration_hours</th>\n",
              "      <td>0.738071</td>\n",
              "      <td>0.506480</td>\n",
              "      <td>0.022439</td>\n",
              "      <td>0.014836</td>\n",
              "      <td>0.012729</td>\n",
              "      <td>0.002088</td>\n",
              "      <td>0.019099</td>\n",
              "      <td>0.051531</td>\n",
              "      <td>0.069663</td>\n",
              "      <td>1.000000</td>\n",
              "    </tr>\n",
              "  </tbody>\n",
              "</table>\n",
              "</div>"
            ],
            "text/plain": [
              "                  Total_Stops     Price  flight_day  flight_month  \\\n",
              "Total_Stops          1.000000  0.603897    0.009451      0.054383   \n",
              "Price                0.603897  1.000000    0.153774      0.103643   \n",
              "flight_day           0.009451  0.153774    1.000000      0.038359   \n",
              "flight_month         0.054383  0.103643    0.038359      1.000000   \n",
              "flight_dayofweek     0.036750  0.051570    0.091245      0.083345   \n",
              "dep_hour             0.061476  0.006799    0.002170      0.039127   \n",
              "dep_min              0.002618  0.024458    0.008170      0.059267   \n",
              "arr_hour             0.038140  0.024244    0.003245      0.003927   \n",
              "arr_min              0.106940  0.086155    0.017510      0.100626   \n",
              "duration_hours       0.738071  0.506480    0.022439      0.014836   \n",
              "\n",
              "                  flight_dayofweek  dep_hour   dep_min  arr_hour   arr_min  \\\n",
              "Total_Stops               0.036750  0.061476  0.002618  0.038140  0.106940   \n",
              "Price                     0.051570  0.006799  0.024458  0.024244  0.086155   \n",
              "flight_day                0.091245  0.002170  0.008170  0.003245  0.017510   \n",
              "flight_month              0.083345  0.039127  0.059267  0.003927  0.100626   \n",
              "flight_dayofweek          1.000000  0.016823  0.017031  0.007163  0.031716   \n",
              "dep_hour                  0.016823  1.000000  0.024745  0.005180  0.067911   \n",
              "dep_min                   0.017031  0.024745  1.000000  0.043122  0.017597   \n",
              "arr_hour                  0.007163  0.005180  0.043122  1.000000  0.154363   \n",
              "arr_min                   0.031716  0.067911  0.017597  0.154363  1.000000   \n",
              "duration_hours            0.012729  0.002088  0.019099  0.051531  0.069663   \n",
              "\n",
              "                  duration_hours  \n",
              "Total_Stops             0.738071  \n",
              "Price                   0.506480  \n",
              "flight_day              0.022439  \n",
              "flight_month            0.014836  \n",
              "flight_dayofweek        0.012729  \n",
              "dep_hour                0.002088  \n",
              "dep_min                 0.019099  \n",
              "arr_hour                0.051531  \n",
              "arr_min                 0.069663  \n",
              "duration_hours          1.000000  "
            ]
          },
          "metadata": {},
          "execution_count": 97
        }
      ]
    },
    {
      "cell_type": "code",
      "metadata": {
        "colab": {
          "base_uri": "https://localhost:8080/",
          "height": 377
        },
        "id": "ramuzq_vchw1",
        "outputId": "e769bac1-e394-4400-9224-afda4ff2ba8f"
      },
      "source": [
        "upper_tri = cor_matrix.where(np.triu(np.ones(cor_matrix.shape),k=1).astype(np.bool))\n",
        "upper_tri"
      ],
      "execution_count": 98,
      "outputs": [
        {
          "output_type": "execute_result",
          "data": {
            "text/html": [
              "<div>\n",
              "<style scoped>\n",
              "    .dataframe tbody tr th:only-of-type {\n",
              "        vertical-align: middle;\n",
              "    }\n",
              "\n",
              "    .dataframe tbody tr th {\n",
              "        vertical-align: top;\n",
              "    }\n",
              "\n",
              "    .dataframe thead th {\n",
              "        text-align: right;\n",
              "    }\n",
              "</style>\n",
              "<table border=\"1\" class=\"dataframe\">\n",
              "  <thead>\n",
              "    <tr style=\"text-align: right;\">\n",
              "      <th></th>\n",
              "      <th>Total_Stops</th>\n",
              "      <th>Price</th>\n",
              "      <th>flight_day</th>\n",
              "      <th>flight_month</th>\n",
              "      <th>flight_dayofweek</th>\n",
              "      <th>dep_hour</th>\n",
              "      <th>dep_min</th>\n",
              "      <th>arr_hour</th>\n",
              "      <th>arr_min</th>\n",
              "      <th>duration_hours</th>\n",
              "    </tr>\n",
              "  </thead>\n",
              "  <tbody>\n",
              "    <tr>\n",
              "      <th>Total_Stops</th>\n",
              "      <td>NaN</td>\n",
              "      <td>0.603897</td>\n",
              "      <td>0.009451</td>\n",
              "      <td>0.054383</td>\n",
              "      <td>0.036750</td>\n",
              "      <td>0.061476</td>\n",
              "      <td>0.002618</td>\n",
              "      <td>0.038140</td>\n",
              "      <td>0.106940</td>\n",
              "      <td>0.738071</td>\n",
              "    </tr>\n",
              "    <tr>\n",
              "      <th>Price</th>\n",
              "      <td>NaN</td>\n",
              "      <td>NaN</td>\n",
              "      <td>0.153774</td>\n",
              "      <td>0.103643</td>\n",
              "      <td>0.051570</td>\n",
              "      <td>0.006799</td>\n",
              "      <td>0.024458</td>\n",
              "      <td>0.024244</td>\n",
              "      <td>0.086155</td>\n",
              "      <td>0.506480</td>\n",
              "    </tr>\n",
              "    <tr>\n",
              "      <th>flight_day</th>\n",
              "      <td>NaN</td>\n",
              "      <td>NaN</td>\n",
              "      <td>NaN</td>\n",
              "      <td>0.038359</td>\n",
              "      <td>0.091245</td>\n",
              "      <td>0.002170</td>\n",
              "      <td>0.008170</td>\n",
              "      <td>0.003245</td>\n",
              "      <td>0.017510</td>\n",
              "      <td>0.022439</td>\n",
              "    </tr>\n",
              "    <tr>\n",
              "      <th>flight_month</th>\n",
              "      <td>NaN</td>\n",
              "      <td>NaN</td>\n",
              "      <td>NaN</td>\n",
              "      <td>NaN</td>\n",
              "      <td>0.083345</td>\n",
              "      <td>0.039127</td>\n",
              "      <td>0.059267</td>\n",
              "      <td>0.003927</td>\n",
              "      <td>0.100626</td>\n",
              "      <td>0.014836</td>\n",
              "    </tr>\n",
              "    <tr>\n",
              "      <th>flight_dayofweek</th>\n",
              "      <td>NaN</td>\n",
              "      <td>NaN</td>\n",
              "      <td>NaN</td>\n",
              "      <td>NaN</td>\n",
              "      <td>NaN</td>\n",
              "      <td>0.016823</td>\n",
              "      <td>0.017031</td>\n",
              "      <td>0.007163</td>\n",
              "      <td>0.031716</td>\n",
              "      <td>0.012729</td>\n",
              "    </tr>\n",
              "    <tr>\n",
              "      <th>dep_hour</th>\n",
              "      <td>NaN</td>\n",
              "      <td>NaN</td>\n",
              "      <td>NaN</td>\n",
              "      <td>NaN</td>\n",
              "      <td>NaN</td>\n",
              "      <td>NaN</td>\n",
              "      <td>0.024745</td>\n",
              "      <td>0.005180</td>\n",
              "      <td>0.067911</td>\n",
              "      <td>0.002088</td>\n",
              "    </tr>\n",
              "    <tr>\n",
              "      <th>dep_min</th>\n",
              "      <td>NaN</td>\n",
              "      <td>NaN</td>\n",
              "      <td>NaN</td>\n",
              "      <td>NaN</td>\n",
              "      <td>NaN</td>\n",
              "      <td>NaN</td>\n",
              "      <td>NaN</td>\n",
              "      <td>0.043122</td>\n",
              "      <td>0.017597</td>\n",
              "      <td>0.019099</td>\n",
              "    </tr>\n",
              "    <tr>\n",
              "      <th>arr_hour</th>\n",
              "      <td>NaN</td>\n",
              "      <td>NaN</td>\n",
              "      <td>NaN</td>\n",
              "      <td>NaN</td>\n",
              "      <td>NaN</td>\n",
              "      <td>NaN</td>\n",
              "      <td>NaN</td>\n",
              "      <td>NaN</td>\n",
              "      <td>0.154363</td>\n",
              "      <td>0.051531</td>\n",
              "    </tr>\n",
              "    <tr>\n",
              "      <th>arr_min</th>\n",
              "      <td>NaN</td>\n",
              "      <td>NaN</td>\n",
              "      <td>NaN</td>\n",
              "      <td>NaN</td>\n",
              "      <td>NaN</td>\n",
              "      <td>NaN</td>\n",
              "      <td>NaN</td>\n",
              "      <td>NaN</td>\n",
              "      <td>NaN</td>\n",
              "      <td>0.069663</td>\n",
              "    </tr>\n",
              "    <tr>\n",
              "      <th>duration_hours</th>\n",
              "      <td>NaN</td>\n",
              "      <td>NaN</td>\n",
              "      <td>NaN</td>\n",
              "      <td>NaN</td>\n",
              "      <td>NaN</td>\n",
              "      <td>NaN</td>\n",
              "      <td>NaN</td>\n",
              "      <td>NaN</td>\n",
              "      <td>NaN</td>\n",
              "      <td>NaN</td>\n",
              "    </tr>\n",
              "  </tbody>\n",
              "</table>\n",
              "</div>"
            ],
            "text/plain": [
              "                  Total_Stops     Price  flight_day  flight_month  \\\n",
              "Total_Stops               NaN  0.603897    0.009451      0.054383   \n",
              "Price                     NaN       NaN    0.153774      0.103643   \n",
              "flight_day                NaN       NaN         NaN      0.038359   \n",
              "flight_month              NaN       NaN         NaN           NaN   \n",
              "flight_dayofweek          NaN       NaN         NaN           NaN   \n",
              "dep_hour                  NaN       NaN         NaN           NaN   \n",
              "dep_min                   NaN       NaN         NaN           NaN   \n",
              "arr_hour                  NaN       NaN         NaN           NaN   \n",
              "arr_min                   NaN       NaN         NaN           NaN   \n",
              "duration_hours            NaN       NaN         NaN           NaN   \n",
              "\n",
              "                  flight_dayofweek  dep_hour   dep_min  arr_hour   arr_min  \\\n",
              "Total_Stops               0.036750  0.061476  0.002618  0.038140  0.106940   \n",
              "Price                     0.051570  0.006799  0.024458  0.024244  0.086155   \n",
              "flight_day                0.091245  0.002170  0.008170  0.003245  0.017510   \n",
              "flight_month              0.083345  0.039127  0.059267  0.003927  0.100626   \n",
              "flight_dayofweek               NaN  0.016823  0.017031  0.007163  0.031716   \n",
              "dep_hour                       NaN       NaN  0.024745  0.005180  0.067911   \n",
              "dep_min                        NaN       NaN       NaN  0.043122  0.017597   \n",
              "arr_hour                       NaN       NaN       NaN       NaN  0.154363   \n",
              "arr_min                        NaN       NaN       NaN       NaN       NaN   \n",
              "duration_hours                 NaN       NaN       NaN       NaN       NaN   \n",
              "\n",
              "                  duration_hours  \n",
              "Total_Stops             0.738071  \n",
              "Price                   0.506480  \n",
              "flight_day              0.022439  \n",
              "flight_month            0.014836  \n",
              "flight_dayofweek        0.012729  \n",
              "dep_hour                0.002088  \n",
              "dep_min                 0.019099  \n",
              "arr_hour                0.051531  \n",
              "arr_min                 0.069663  \n",
              "duration_hours               NaN  "
            ]
          },
          "metadata": {},
          "execution_count": 98
        }
      ]
    },
    {
      "cell_type": "markdown",
      "metadata": {
        "id": "4VNG1zy6dTxj"
      },
      "source": [
        "Find the highly correlated variables and drop"
      ]
    },
    {
      "cell_type": "code",
      "metadata": {
        "colab": {
          "base_uri": "https://localhost:8080/"
        },
        "id": "dGp9I-0Sc-XP",
        "outputId": "54588e52-bbce-4246-835e-40092971a7cc"
      },
      "source": [
        "to_drop = [column for column in upper_tri.columns if any(upper_tri[column] > 0.90)]\n",
        "to_drop"
      ],
      "execution_count": 99,
      "outputs": [
        {
          "output_type": "execute_result",
          "data": {
            "text/plain": [
              "[]"
            ]
          },
          "metadata": {},
          "execution_count": 99
        }
      ]
    },
    {
      "cell_type": "markdown",
      "metadata": {
        "id": "GWRRfj0aw2T_"
      },
      "source": [
        "Nothing to drop!"
      ]
    },
    {
      "cell_type": "markdown",
      "metadata": {
        "id": "d4Qn-GI0ddKQ"
      },
      "source": [
        "## Feature Importance"
      ]
    },
    {
      "cell_type": "markdown",
      "metadata": {
        "id": "T2en1kgAeO37"
      },
      "source": [
        "Now, we should find the impotant features with sklearn.ensemble ExtraTreesRegressor."
      ]
    },
    {
      "cell_type": "code",
      "metadata": {
        "id": "oqVvwihzeTFk"
      },
      "source": [
        "## Feature Importance\n",
        "from sklearn.ensemble import ExtraTreesRegressor"
      ],
      "execution_count": 100,
      "outputs": []
    },
    {
      "cell_type": "code",
      "metadata": {
        "colab": {
          "base_uri": "https://localhost:8080/"
        },
        "id": "-1GjttA8eigv",
        "outputId": "89db00db-3680-4f45-8c53-470372a5ba0a"
      },
      "source": [
        "fi_model = ExtraTreesRegressor()\n",
        "fi_model.fit(X_train, y_train)"
      ],
      "execution_count": 101,
      "outputs": [
        {
          "output_type": "execute_result",
          "data": {
            "text/plain": [
              "ExtraTreesRegressor(bootstrap=False, ccp_alpha=0.0, criterion='mse',\n",
              "                    max_depth=None, max_features='auto', max_leaf_nodes=None,\n",
              "                    max_samples=None, min_impurity_decrease=0.0,\n",
              "                    min_impurity_split=None, min_samples_leaf=1,\n",
              "                    min_samples_split=2, min_weight_fraction_leaf=0.0,\n",
              "                    n_estimators=100, n_jobs=None, oob_score=False,\n",
              "                    random_state=None, verbose=0, warm_start=False)"
            ]
          },
          "metadata": {},
          "execution_count": 101
        }
      ]
    },
    {
      "cell_type": "code",
      "metadata": {
        "colab": {
          "base_uri": "https://localhost:8080/"
        },
        "id": "iFYXRRRXe6VS",
        "outputId": "8d355af0-45c6-4d7c-b14f-909b95674abf"
      },
      "source": [
        "X_train.columns"
      ],
      "execution_count": 102,
      "outputs": [
        {
          "output_type": "execute_result",
          "data": {
            "text/plain": [
              "Index(['Total_Stops', 'flight_day', 'flight_month', 'flight_dayofweek',\n",
              "       'dep_hour', 'dep_min', 'arr_hour', 'arr_min', 'duration_hours',\n",
              "       'Airline_Air India', 'Airline_GoAir', 'Airline_IndiGo',\n",
              "       'Airline_Jet Airways', 'Airline_Jet Airways Business',\n",
              "       'Airline_Multiple carriers',\n",
              "       'Airline_Multiple carriers Premium economy', 'Airline_SpiceJet',\n",
              "       'Airline_Trujet', 'Airline_Vistara', 'Airline_Vistara Premium economy',\n",
              "       'Source_Chennai', 'Source_Delhi', 'Source_Kolkata', 'Source_Mumbai',\n",
              "       'Destination_Cochin', 'Destination_Delhi', 'Destination_Hyderabad',\n",
              "       'Destination_Kolkata', 'Destination_New Delhi'],\n",
              "      dtype='object')"
            ]
          },
          "metadata": {},
          "execution_count": 102
        }
      ]
    },
    {
      "cell_type": "code",
      "metadata": {
        "colab": {
          "base_uri": "https://localhost:8080/"
        },
        "id": "Dxg1ThpHe2Z-",
        "outputId": "fd1d459d-4b41-4c78-b70c-82446deb2484"
      },
      "source": [
        "fi_model.feature_importances_"
      ],
      "execution_count": 103,
      "outputs": [
        {
          "output_type": "execute_result",
          "data": {
            "text/plain": [
              "array([2.33159219e-01, 1.14387890e-01, 5.15201320e-02, 3.00451327e-02,\n",
              "       2.69060469e-02, 2.57160127e-02, 2.99389418e-02, 2.21449495e-02,\n",
              "       1.29470489e-01, 1.03813167e-02, 1.92883151e-03, 1.64656377e-02,\n",
              "       1.35089105e-01, 6.70076775e-02, 1.87467191e-02, 8.75801372e-04,\n",
              "       2.81513490e-03, 1.05392806e-04, 5.20142335e-03, 5.93932458e-05,\n",
              "       4.50386445e-04, 9.21683429e-03, 3.31724969e-03, 8.68478965e-03,\n",
              "       8.36966956e-03, 1.60050856e-02, 6.72849152e-03, 4.56709508e-04,\n",
              "       2.48055358e-02])"
            ]
          },
          "metadata": {},
          "execution_count": 103
        }
      ]
    },
    {
      "cell_type": "markdown",
      "metadata": {
        "id": "XbtCMdFdfjk3"
      },
      "source": [
        "Show the Feature Importance"
      ]
    },
    {
      "cell_type": "code",
      "metadata": {
        "colab": {
          "base_uri": "https://localhost:8080/"
        },
        "id": "apoZi0SCfUhy",
        "outputId": "eb420572-b7a3-4092-ce2a-69c36aab52d8"
      },
      "source": [
        "fti = pd.Series(fi_model.feature_importances_, X_train.columns)\n",
        "# fti = pd.DataFrame({'feature_importances':fi_model.feature_importances_, 'columns':X1.columns})\n",
        "fti.head(10)"
      ],
      "execution_count": 104,
      "outputs": [
        {
          "output_type": "execute_result",
          "data": {
            "text/plain": [
              "Total_Stops          0.233159\n",
              "flight_day           0.114388\n",
              "flight_month         0.051520\n",
              "flight_dayofweek     0.030045\n",
              "dep_hour             0.026906\n",
              "dep_min              0.025716\n",
              "arr_hour             0.029939\n",
              "arr_min              0.022145\n",
              "duration_hours       0.129470\n",
              "Airline_Air India    0.010381\n",
              "dtype: float64"
            ]
          },
          "metadata": {},
          "execution_count": 104
        }
      ]
    },
    {
      "cell_type": "code",
      "metadata": {
        "colab": {
          "base_uri": "https://localhost:8080/",
          "height": 483
        },
        "id": "1AZaNWnMfi3y",
        "outputId": "4b385c7f-847b-4162-9a07-455fb64d6625"
      },
      "source": [
        "plt.figure(figsize=(8,8))\n",
        "# fti.sort_values('feature_importances', ascending=False)[['feature_importances','columns']].plot(kind=\"bar\")\n",
        "fti.plot(kind=\"barh\")\n",
        "plt.show()"
      ],
      "execution_count": 105,
      "outputs": [
        {
          "output_type": "display_data",
          "data": {
            "image/png": "[encoded data removed]",
            "text/plain": [
              "<Figure size 576x576 with 1 Axes>"
            ]
          },
          "metadata": {
            "needs_background": "light"
          }
        }
      ]
    },
    {
      "cell_type": "code",
      "metadata": {
        "colab": {
          "base_uri": "https://localhost:8080/",
          "height": 483
        },
        "id": "oqok_jgCihF8",
        "outputId": "d13f65cf-7694-4eb7-a545-176d0a43621c"
      },
      "source": [
        "# Plot 5 most important features only\n",
        "plt.figure(figsize=(8,8))\n",
        "fti.nlargest(24).plot(kind='barh')\n",
        "plt.show()"
      ],
      "execution_count": 106,
      "outputs": [
        {
          "output_type": "display_data",
          "data": {
            "image/png": "[encoded data removed]",
            "text/plain": [
              "<Figure size 576x576 with 1 Axes>"
            ]
          },
          "metadata": {
            "needs_background": "light"
          }
        }
      ]
    },
    {
      "cell_type": "code",
      "metadata": {
        "colab": {
          "base_uri": "https://localhost:8080/"
        },
        "id": "oZWImfeFvoUM",
        "outputId": "ee16118f-677b-45fe-f058-a20bc9609960"
      },
      "source": [
        "fti_most_important = fti.nlargest(24)\n",
        "fti_most_important"
      ],
      "execution_count": 107,
      "outputs": [
        {
          "output_type": "execute_result",
          "data": {
            "text/plain": [
              "Total_Stops                     0.233159\n",
              "Airline_Jet Airways             0.135089\n",
              "duration_hours                  0.129470\n",
              "flight_day                      0.114388\n",
              "Airline_Jet Airways Business    0.067008\n",
              "flight_month                    0.051520\n",
              "flight_dayofweek                0.030045\n",
              "arr_hour                        0.029939\n",
              "dep_hour                        0.026906\n",
              "dep_min                         0.025716\n",
              "Destination_New Delhi           0.024806\n",
              "arr_min                         0.022145\n",
              "Airline_Multiple carriers       0.018747\n",
              "Airline_IndiGo                  0.016466\n",
              "Destination_Delhi               0.016005\n",
              "Airline_Air India               0.010381\n",
              "Source_Delhi                    0.009217\n",
              "Source_Mumbai                   0.008685\n",
              "Destination_Cochin              0.008370\n",
              "Destination_Hyderabad           0.006728\n",
              "Airline_Vistara                 0.005201\n",
              "Source_Kolkata                  0.003317\n",
              "Airline_SpiceJet                0.002815\n",
              "Airline_GoAir                   0.001929\n",
              "dtype: float64"
            ]
          },
          "metadata": {},
          "execution_count": 107
        }
      ]
    },
    {
      "cell_type": "code",
      "metadata": {
        "colab": {
          "base_uri": "https://localhost:8080/"
        },
        "id": "hTEASsFDxrkg",
        "outputId": "c3d58684-5b69-448a-e296-6b69de73d550"
      },
      "source": [
        "# type(fti_most_important)\n",
        "important_features = fti_most_important.index\n",
        "important_features"
      ],
      "execution_count": 108,
      "outputs": [
        {
          "output_type": "execute_result",
          "data": {
            "text/plain": [
              "Index(['Total_Stops', 'Airline_Jet Airways', 'duration_hours', 'flight_day',\n",
              "       'Airline_Jet Airways Business', 'flight_month', 'flight_dayofweek',\n",
              "       'arr_hour', 'dep_hour', 'dep_min', 'Destination_New Delhi', 'arr_min',\n",
              "       'Airline_Multiple carriers', 'Airline_IndiGo', 'Destination_Delhi',\n",
              "       'Airline_Air India', 'Source_Delhi', 'Source_Mumbai',\n",
              "       'Destination_Cochin', 'Destination_Hyderabad', 'Airline_Vistara',\n",
              "       'Source_Kolkata', 'Airline_SpiceJet', 'Airline_GoAir'],\n",
              "      dtype='object')"
            ]
          },
          "metadata": {},
          "execution_count": 108
        }
      ]
    },
    {
      "cell_type": "code",
      "metadata": {
        "id": "KMiUISdnylQ8"
      },
      "source": [
        "X_train = X_train[important_features]"
      ],
      "execution_count": 109,
      "outputs": []
    },
    {
      "cell_type": "code",
      "metadata": {
        "id": "A9oh4WyAzFA2"
      },
      "source": [
        "X_train = X_train[['Total_Stops','flight_day', 'flight_month', 'flight_dayofweek',\n",
        "                   'dep_hour', 'dep_min', 'arr_hour', 'arr_min', 'duration_hours',\n",
        "                   'Airline_Jet Airways', 'Airline_Jet Airways Business', 'Airline_Multiple carriers', 'Airline_IndiGo',\n",
        "                   'Airline_Air India', 'Airline_Vistara', 'Airline_SpiceJet', 'Airline_GoAir',\n",
        "                   'Destination_New Delhi', 'Destination_Delhi', 'Destination_Cochin', 'Destination_Hyderabad',\n",
        "                   'Source_Delhi', 'Source_Mumbai', 'Source_Kolkata']]"
      ],
      "execution_count": 110,
      "outputs": []
    },
    {
      "cell_type": "code",
      "metadata": {
        "colab": {
          "base_uri": "https://localhost:8080/",
          "height": 257
        },
        "id": "1fDMK4Mxy7c4",
        "outputId": "fe5d50b8-d6e4-41b8-881b-c5583f5e4dbe"
      },
      "source": [
        "X_train.head()"
      ],
      "execution_count": 111,
      "outputs": [
        {
          "output_type": "execute_result",
          "data": {
            "text/html": [
              "<div>\n",
              "<style scoped>\n",
              "    .dataframe tbody tr th:only-of-type {\n",
              "        vertical-align: middle;\n",
              "    }\n",
              "\n",
              "    .dataframe tbody tr th {\n",
              "        vertical-align: top;\n",
              "    }\n",
              "\n",
              "    .dataframe thead th {\n",
              "        text-align: right;\n",
              "    }\n",
              "</style>\n",
              "<table border=\"1\" class=\"dataframe\">\n",
              "  <thead>\n",
              "    <tr style=\"text-align: right;\">\n",
              "      <th></th>\n",
              "      <th>Total_Stops</th>\n",
              "      <th>flight_day</th>\n",
              "      <th>flight_month</th>\n",
              "      <th>flight_dayofweek</th>\n",
              "      <th>dep_hour</th>\n",
              "      <th>dep_min</th>\n",
              "      <th>arr_hour</th>\n",
              "      <th>arr_min</th>\n",
              "      <th>duration_hours</th>\n",
              "      <th>Airline_Jet Airways</th>\n",
              "      <th>Airline_Jet Airways Business</th>\n",
              "      <th>Airline_Multiple carriers</th>\n",
              "      <th>Airline_IndiGo</th>\n",
              "      <th>Airline_Air India</th>\n",
              "      <th>Airline_Vistara</th>\n",
              "      <th>Airline_SpiceJet</th>\n",
              "      <th>Airline_GoAir</th>\n",
              "      <th>Destination_New Delhi</th>\n",
              "      <th>Destination_Delhi</th>\n",
              "      <th>Destination_Cochin</th>\n",
              "      <th>Destination_Hyderabad</th>\n",
              "      <th>Source_Delhi</th>\n",
              "      <th>Source_Mumbai</th>\n",
              "      <th>Source_Kolkata</th>\n",
              "    </tr>\n",
              "  </thead>\n",
              "  <tbody>\n",
              "    <tr>\n",
              "      <th>0</th>\n",
              "      <td>0</td>\n",
              "      <td>24</td>\n",
              "      <td>3</td>\n",
              "      <td>6</td>\n",
              "      <td>22</td>\n",
              "      <td>20</td>\n",
              "      <td>1</td>\n",
              "      <td>10</td>\n",
              "      <td>2.833333</td>\n",
              "      <td>0</td>\n",
              "      <td>0</td>\n",
              "      <td>0</td>\n",
              "      <td>1</td>\n",
              "      <td>0</td>\n",
              "      <td>0</td>\n",
              "      <td>0</td>\n",
              "      <td>0</td>\n",
              "      <td>1</td>\n",
              "      <td>0</td>\n",
              "      <td>0</td>\n",
              "      <td>0</td>\n",
              "      <td>0</td>\n",
              "      <td>0</td>\n",
              "      <td>0</td>\n",
              "    </tr>\n",
              "    <tr>\n",
              "      <th>1</th>\n",
              "      <td>2</td>\n",
              "      <td>1</td>\n",
              "      <td>5</td>\n",
              "      <td>2</td>\n",
              "      <td>5</td>\n",
              "      <td>50</td>\n",
              "      <td>13</td>\n",
              "      <td>15</td>\n",
              "      <td>7.416667</td>\n",
              "      <td>0</td>\n",
              "      <td>0</td>\n",
              "      <td>0</td>\n",
              "      <td>0</td>\n",
              "      <td>1</td>\n",
              "      <td>0</td>\n",
              "      <td>0</td>\n",
              "      <td>0</td>\n",
              "      <td>0</td>\n",
              "      <td>0</td>\n",
              "      <td>0</td>\n",
              "      <td>0</td>\n",
              "      <td>0</td>\n",
              "      <td>0</td>\n",
              "      <td>1</td>\n",
              "    </tr>\n",
              "    <tr>\n",
              "      <th>2</th>\n",
              "      <td>2</td>\n",
              "      <td>9</td>\n",
              "      <td>6</td>\n",
              "      <td>6</td>\n",
              "      <td>9</td>\n",
              "      <td>25</td>\n",
              "      <td>4</td>\n",
              "      <td>25</td>\n",
              "      <td>19.000000</td>\n",
              "      <td>1</td>\n",
              "      <td>0</td>\n",
              "      <td>0</td>\n",
              "      <td>0</td>\n",
              "      <td>0</td>\n",
              "      <td>0</td>\n",
              "      <td>0</td>\n",
              "      <td>0</td>\n",
              "      <td>0</td>\n",
              "      <td>0</td>\n",
              "      <td>1</td>\n",
              "      <td>0</td>\n",
              "      <td>1</td>\n",
              "      <td>0</td>\n",
              "      <td>0</td>\n",
              "    </tr>\n",
              "    <tr>\n",
              "      <th>3</th>\n",
              "      <td>1</td>\n",
              "      <td>12</td>\n",
              "      <td>5</td>\n",
              "      <td>6</td>\n",
              "      <td>18</td>\n",
              "      <td>5</td>\n",
              "      <td>23</td>\n",
              "      <td>30</td>\n",
              "      <td>5.416667</td>\n",
              "      <td>0</td>\n",
              "      <td>0</td>\n",
              "      <td>0</td>\n",
              "      <td>1</td>\n",
              "      <td>0</td>\n",
              "      <td>0</td>\n",
              "      <td>0</td>\n",
              "      <td>0</td>\n",
              "      <td>0</td>\n",
              "      <td>0</td>\n",
              "      <td>0</td>\n",
              "      <td>0</td>\n",
              "      <td>0</td>\n",
              "      <td>0</td>\n",
              "      <td>1</td>\n",
              "    </tr>\n",
              "    <tr>\n",
              "      <th>4</th>\n",
              "      <td>1</td>\n",
              "      <td>1</td>\n",
              "      <td>3</td>\n",
              "      <td>4</td>\n",
              "      <td>16</td>\n",
              "      <td>50</td>\n",
              "      <td>21</td>\n",
              "      <td>35</td>\n",
              "      <td>4.750000</td>\n",
              "      <td>0</td>\n",
              "      <td>0</td>\n",
              "      <td>0</td>\n",
              "      <td>1</td>\n",
              "      <td>0</td>\n",
              "      <td>0</td>\n",
              "      <td>0</td>\n",
              "      <td>0</td>\n",
              "      <td>1</td>\n",
              "      <td>0</td>\n",
              "      <td>0</td>\n",
              "      <td>0</td>\n",
              "      <td>0</td>\n",
              "      <td>0</td>\n",
              "      <td>0</td>\n",
              "    </tr>\n",
              "  </tbody>\n",
              "</table>\n",
              "</div>"
            ],
            "text/plain": [
              "   Total_Stops  flight_day  flight_month  flight_dayofweek  dep_hour  dep_min  \\\n",
              "0            0          24             3                 6        22       20   \n",
              "1            2           1             5                 2         5       50   \n",
              "2            2           9             6                 6         9       25   \n",
              "3            1          12             5                 6        18        5   \n",
              "4            1           1             3                 4        16       50   \n",
              "\n",
              "   arr_hour  arr_min  duration_hours  Airline_Jet Airways  \\\n",
              "0         1       10        2.833333                    0   \n",
              "1        13       15        7.416667                    0   \n",
              "2         4       25       19.000000                    1   \n",
              "3        23       30        5.416667                    0   \n",
              "4        21       35        4.750000                    0   \n",
              "\n",
              "   Airline_Jet Airways Business  Airline_Multiple carriers  Airline_IndiGo  \\\n",
              "0                             0                          0               1   \n",
              "1                             0                          0               0   \n",
              "2                             0                          0               0   \n",
              "3                             0                          0               1   \n",
              "4                             0                          0               1   \n",
              "\n",
              "   Airline_Air India  Airline_Vistara  Airline_SpiceJet  Airline_GoAir  \\\n",
              "0                  0                0                 0              0   \n",
              "1                  1                0                 0              0   \n",
              "2                  0                0                 0              0   \n",
              "3                  0                0                 0              0   \n",
              "4                  0                0                 0              0   \n",
              "\n",
              "   Destination_New Delhi  Destination_Delhi  Destination_Cochin  \\\n",
              "0                      1                  0                   0   \n",
              "1                      0                  0                   0   \n",
              "2                      0                  0                   1   \n",
              "3                      0                  0                   0   \n",
              "4                      1                  0                   0   \n",
              "\n",
              "   Destination_Hyderabad  Source_Delhi  Source_Mumbai  Source_Kolkata  \n",
              "0                      0             0              0               0  \n",
              "1                      0             0              0               1  \n",
              "2                      0             1              0               0  \n",
              "3                      0             0              0               1  \n",
              "4                      0             0              0               0  "
            ]
          },
          "metadata": {},
          "execution_count": 111
        }
      ]
    },
    {
      "cell_type": "markdown",
      "metadata": {
        "id": "7M4NQYPoxyLr"
      },
      "source": [
        "# Train the model using Random Forest"
      ]
    },
    {
      "cell_type": "markdown",
      "metadata": {
        "id": "wPVycJl5yHjI"
      },
      "source": [
        "Split dataset into training and test sets (Xtrain, Xtest).\n",
        "1. Need to scale the data? Scaling is not necessary in Random forest.\n",
        "2. Import model\n",
        "3. Fit the data\n",
        "4. Predict using Xtest\n",
        "5. In regression check RSME Score\n",
        "6. Plot graph"
      ]
    },
    {
      "cell_type": "code",
      "metadata": {
        "id": "i7dpGrcuyufD"
      },
      "source": [
        "from sklearn.model_selection import train_test_split\n",
        "Xtrain, Xtest, ytrain, ytest = train_test_split(X_train, y_train, test_size = 0.2, random_state = 42)"
      ],
      "execution_count": 112,
      "outputs": []
    },
    {
      "cell_type": "code",
      "metadata": {
        "colab": {
          "base_uri": "https://localhost:8080/"
        },
        "id": "WQJggeWey2_n",
        "outputId": "0e07744c-0575-4162-e055-b806d635b4aa"
      },
      "source": [
        "from sklearn.ensemble import RandomForestRegressor\n",
        "reg_rf = RandomForestRegressor()\n",
        "reg_rf.fit(Xtrain, ytrain)"
      ],
      "execution_count": 113,
      "outputs": [
        {
          "output_type": "execute_result",
          "data": {
            "text/plain": [
              "RandomForestRegressor(bootstrap=True, ccp_alpha=0.0, criterion='mse',\n",
              "                      max_depth=None, max_features='auto', max_leaf_nodes=None,\n",
              "                      max_samples=None, min_impurity_decrease=0.0,\n",
              "                      min_impurity_split=None, min_samples_leaf=1,\n",
              "                      min_samples_split=2, min_weight_fraction_leaf=0.0,\n",
              "                      n_estimators=100, n_jobs=None, oob_score=False,\n",
              "                      random_state=None, verbose=0, warm_start=False)"
            ]
          },
          "metadata": {},
          "execution_count": 113
        }
      ]
    },
    {
      "cell_type": "code",
      "metadata": {
        "id": "BIM9_Y9Qy8_Z"
      },
      "source": [
        "pred = reg_rf.predict(Xtest)"
      ],
      "execution_count": 114,
      "outputs": []
    },
    {
      "cell_type": "code",
      "metadata": {
        "colab": {
          "base_uri": "https://localhost:8080/"
        },
        "id": "I9xwo3MGzCAz",
        "outputId": "28bc9aae-ddd9-4793-d832-6d7d77bb0a91"
      },
      "source": [
        "reg_rf.score(Xtest, ytest)"
      ],
      "execution_count": 115,
      "outputs": [
        {
          "output_type": "execute_result",
          "data": {
            "text/plain": [
              "0.8273444812794724"
            ]
          },
          "metadata": {},
          "execution_count": 115
        }
      ]
    },
    {
      "cell_type": "code",
      "metadata": {
        "colab": {
          "base_uri": "https://localhost:8080/",
          "height": 551
        },
        "id": "BtwaSZDXzQo7",
        "outputId": "eae0ca16-aecb-4707-b288-f018b7dd8b98"
      },
      "source": [
        "plt.figure(figsize=(9,9))\n",
        "sns.histplot(ytest - pred, kde=True, stat=\"density\", linewidth=0)\n",
        "plt.show()"
      ],
      "execution_count": 116,
      "outputs": [
        {
          "output_type": "display_data",
          "data": {
            "image/png": "[encoded data removed]",
            "text/plain": [
              "<Figure size 648x648 with 1 Axes>"
            ]
          },
          "metadata": {
            "needs_background": "light"
          }
        }
      ]
    },
    {
      "cell_type": "markdown",
      "metadata": {
        "id": "xIqHrMlJzgk9"
      },
      "source": [
        "The difference is close to 0. The model has done a pretty good job."
      ]
    },
    {
      "cell_type": "code",
      "metadata": {
        "colab": {
          "base_uri": "https://localhost:8080/",
          "height": 605
        },
        "id": "g_Eh4_5hzgk-",
        "outputId": "2426b820-34da-4c99-9dda-c76c7b3c50e8"
      },
      "source": [
        "plt.figure(figsize=(9,9))\n",
        "sns.scatterplot(ytest, pred, s=50)\n",
        "plt.xlabel(\"True Price\")\n",
        "plt.ylabel(\"Predicted Price\")\n",
        "plt.show()"
      ],
      "execution_count": 117,
      "outputs": [
        {
          "output_type": "stream",
          "name": "stderr",
          "text": [
            "/usr/local/lib/python3.7/dist-packages/seaborn/_decorators.py:43: FutureWarning: Pass the following variables as keyword args: x, y. From version 0.12, the only valid positional argument will be `data`, and passing other arguments without an explicit keyword will result in an error or misinterpretation.\n",
            "  FutureWarning\n"
          ]
        },
        {
          "output_type": "display_data",
          "data": {
            "image/png": "[encoded data removed]",
            "text/plain": [
              "<Figure size 648x648 with 1 Axes>"
            ]
          },
          "metadata": {
            "needs_background": "light"
          }
        }
      ]
    },
    {
      "cell_type": "code",
      "metadata": {
        "colab": {
          "base_uri": "https://localhost:8080/"
        },
        "id": "D6NMPIBMzgk-",
        "outputId": "969b95ef-89bd-4138-cd6b-ecffd766f65d"
      },
      "source": [
        "from sklearn import metrics\n",
        "print('MAE:', metrics.mean_absolute_error(ytest, pred))\n",
        "print('MSE:', metrics.mean_squared_error(ytest, pred))\n",
        "print('RMSE:', np.sqrt(metrics.mean_squared_error(ytest, pred)))"
      ],
      "execution_count": 118,
      "outputs": [
        {
          "output_type": "stream",
          "name": "stdout",
          "text": [
            "MAE: 1155.6652779773\n",
            "MSE: 3722808.019329387\n",
            "RMSE: 1929.4579599797937\n"
          ]
        }
      ]
    },
    {
      "cell_type": "code",
      "metadata": {
        "colab": {
          "base_uri": "https://localhost:8080/"
        },
        "id": "w8-5TRk40DFN",
        "outputId": "76e125e1-6636-47bd-d870-a13f13ccfb38"
      },
      "source": [
        "# RMSE/(max(DV)-min(DV))\n",
        "np.sqrt(metrics.mean_squared_error(ytest, pred))/(max(y_train)-min(y_train))"
      ],
      "execution_count": 119,
      "outputs": [
        {
          "output_type": "execute_result",
          "data": {
            "text/plain": [
              "0.024815222049050116"
            ]
          },
          "metadata": {},
          "execution_count": 119
        }
      ]
    },
    {
      "cell_type": "code",
      "metadata": {
        "colab": {
          "base_uri": "https://localhost:8080/"
        },
        "id": "4mu7z2vZ0g-2",
        "outputId": "99f71187-7830-4640-e069-46fab0a81592"
      },
      "source": [
        "# R^2\n",
        "# The most common interpretation of r-squared is how well the regression model fits the observed data.\n",
        "# For example, an r-squared of 60% reveals that 60% of the data fit the regression model.\n",
        "# Generally, a higher r-squared indicates a better fit for the model.\n",
        "metrics.r2_score(ytest, pred)"
      ],
      "execution_count": 120,
      "outputs": [
        {
          "output_type": "execute_result",
          "data": {
            "text/plain": [
              "0.8273444812794724"
            ]
          },
          "metadata": {},
          "execution_count": 120
        }
      ]
    },
    {
      "cell_type": "markdown",
      "metadata": {
        "id": "laghPJ8VdyXJ"
      },
      "source": [
        "# Predict car price using RandomForestRegressor and RandomizedSearchCV"
      ]
    },
    {
      "cell_type": "markdown",
      "metadata": {
        "id": "YhLNIoNl1S_8"
      },
      "source": [
        "1. Choose following method for hyperparameter tuning:\n",
        "\n",
        "\n",
        "*   RandomizedSearchCV --> Fast\n",
        "*   GridSearchCV\n",
        "\n",
        "2. Assign hyperparameters in form of dictionery\n",
        "\n",
        "3. Fit the model\n",
        "\n",
        "4. Check best paramters and best score"
      ]
    },
    {
      "cell_type": "markdown",
      "metadata": {
        "id": "Gd79pruijT1o"
      },
      "source": [
        "We don't need to scale the data, because we are going to use the RandomForest Algorithm, and it doesn't need the data to be scaled."
      ]
    },
    {
      "cell_type": "code",
      "metadata": {
        "id": "NEv9vCLAk10t"
      },
      "source": [
        "from sklearn.model_selection import RandomizedSearchCV"
      ],
      "execution_count": 121,
      "outputs": []
    },
    {
      "cell_type": "code",
      "metadata": {
        "colab": {
          "base_uri": "https://localhost:8080/"
        },
        "id": "lkPW6eLZkrrN",
        "outputId": "c553d2ec-1e1f-4fb8-ee6f-6c8601d26d7d"
      },
      "source": [
        "# For fine-tuning the Hyperparameters with Randomized Search CV\n",
        "# We may use the GridSearchCS here, but RandomizedSearchCV would be faster/better.\n",
        "\n",
        "# Number of trees in random forest\n",
        "n_estimators = [int(x) for x in np.linspace(start = 100, stop = 1200, num = 12)]\n",
        "print(\"n_estimators: \", n_estimators)\n",
        "\n",
        "# Number of features to consider at every split\n",
        "max_features = ['auto', 'sqrt']\n",
        "print(\"max_features: \", max_features)\n",
        "\n",
        "# Maximum number of levels in tree\n",
        "max_depth = [int(x) for x in np.linspace(5, 30, num = 6)]\n",
        "print(\"(max_depth: \", max_depth)\n",
        "\n",
        "# max_depth.append(None)\n",
        "# Minimum number of samples required to split a node\n",
        "min_samples_split = [2, 5, 10, 15, 100]\n",
        "print(\"min_samples_sp: \", min_samples_split)\n",
        "\n",
        "# Minimum number of samples required at each leaf node\n",
        "min_samples_leaf = [1, 2, 5, 10]\n",
        "print(\"min_samples_leaf: \", min_samples_leaf)"
      ],
      "execution_count": 122,
      "outputs": [
        {
          "output_type": "stream",
          "name": "stdout",
          "text": [
            "n_estimators:  [100, 200, 300, 400, 500, 600, 700, 800, 900, 1000, 1100, 1200]\n",
            "max_features:  ['auto', 'sqrt']\n",
            "(max_depth:  [5, 10, 15, 20, 25, 30]\n",
            "min_samples_sp:  [2, 5, 10, 15, 100]\n",
            "min_samples_leaf:  [1, 2, 5, 10]\n"
          ]
        }
      ]
    },
    {
      "cell_type": "code",
      "metadata": {
        "colab": {
          "base_uri": "https://localhost:8080/"
        },
        "id": "fZCU3TaWlScx",
        "outputId": "e6e51d9b-596e-4d1f-9649-91b88d9e1eca"
      },
      "source": [
        "# Random grid (key : value pairs)\n",
        "random_grid = {'n_estimators': n_estimators,\n",
        "               'max_features': max_features,\n",
        "               'max_depth': max_depth,\n",
        "               'min_samples_split': min_samples_split,\n",
        "               'min_samples_leaf': min_samples_leaf}\n",
        "\n",
        "random_grid"
      ],
      "execution_count": 123,
      "outputs": [
        {
          "output_type": "execute_result",
          "data": {
            "text/plain": [
              "{'max_depth': [5, 10, 15, 20, 25, 30],\n",
              " 'max_features': ['auto', 'sqrt'],\n",
              " 'min_samples_leaf': [1, 2, 5, 10],\n",
              " 'min_samples_split': [2, 5, 10, 15, 100],\n",
              " 'n_estimators': [100,\n",
              "  200,\n",
              "  300,\n",
              "  400,\n",
              "  500,\n",
              "  600,\n",
              "  700,\n",
              "  800,\n",
              "  900,\n",
              "  1000,\n",
              "  1100,\n",
              "  1200]}"
            ]
          },
          "metadata": {},
          "execution_count": 123
        }
      ]
    },
    {
      "cell_type": "code",
      "metadata": {
        "id": "AuGdpRwamFNU"
      },
      "source": [
        "# Random search of parameters, using 5 fold cross validation, \n",
        "# search across 100 different combinations\n",
        "rf_random_search = RandomizedSearchCV(estimator = reg_rf,\n",
        "                               param_distributions = random_grid,\n",
        "                               scoring='neg_mean_squared_error',\n",
        "                               n_iter = 10,\n",
        "                               cv = 5,\n",
        "                               verbose=2,\n",
        "                               random_state=42,\n",
        "                               n_jobs = -1)"
      ],
      "execution_count": 124,
      "outputs": []
    },
    {
      "cell_type": "code",
      "metadata": {
        "colab": {
          "base_uri": "https://localhost:8080/"
        },
        "id": "7HFB1siCmdkJ",
        "outputId": "620fc2ba-9a04-4ef2-8c1f-56a000cf8631"
      },
      "source": [
        "rf_random_search.fit(Xtrain, ytrain)"
      ],
      "execution_count": 125,
      "outputs": [
        {
          "output_type": "stream",
          "name": "stdout",
          "text": [
            "Fitting 5 folds for each of 10 candidates, totalling 50 fits\n"
          ]
        },
        {
          "output_type": "stream",
          "name": "stderr",
          "text": [
            "[Parallel(n_jobs=-1)]: Using backend LokyBackend with 2 concurrent workers.\n",
            "/usr/local/lib/python3.7/dist-packages/joblib/externals/loky/process_executor.py:691: UserWarning: A worker stopped while some jobs were given to the executor. This can be caused by a too short worker timeout or by a memory leak.\n",
            "  \"timeout or by a memory leak.\", UserWarning\n",
            "[Parallel(n_jobs=-1)]: Done  37 tasks      | elapsed:  2.9min\n",
            "[Parallel(n_jobs=-1)]: Done  50 out of  50 | elapsed:  4.0min finished\n"
          ]
        },
        {
          "output_type": "execute_result",
          "data": {
            "text/plain": [
              "RandomizedSearchCV(cv=5, error_score=nan,\n",
              "                   estimator=RandomForestRegressor(bootstrap=True,\n",
              "                                                   ccp_alpha=0.0,\n",
              "                                                   criterion='mse',\n",
              "                                                   max_depth=None,\n",
              "                                                   max_features='auto',\n",
              "                                                   max_leaf_nodes=None,\n",
              "                                                   max_samples=None,\n",
              "                                                   min_impurity_decrease=0.0,\n",
              "                                                   min_impurity_split=None,\n",
              "                                                   min_samples_leaf=1,\n",
              "                                                   min_samples_split=2,\n",
              "                                                   min_weight_fraction_leaf=0.0,\n",
              "                                                   n_estimators=100,\n",
              "                                                   n_jobs=None, oob_score=Fals...\n",
              "                   iid='deprecated', n_iter=10, n_jobs=-1,\n",
              "                   param_distributions={'max_depth': [5, 10, 15, 20, 25, 30],\n",
              "                                        'max_features': ['auto', 'sqrt'],\n",
              "                                        'min_samples_leaf': [1, 2, 5, 10],\n",
              "                                        'min_samples_split': [2, 5, 10, 15,\n",
              "                                                              100],\n",
              "                                        'n_estimators': [100, 200, 300, 400,\n",
              "                                                         500, 600, 700, 800,\n",
              "                                                         900, 1000, 1100,\n",
              "                                                         1200]},\n",
              "                   pre_dispatch='2*n_jobs', random_state=42, refit=True,\n",
              "                   return_train_score=False, scoring='neg_mean_squared_error',\n",
              "                   verbose=2)"
            ]
          },
          "metadata": {},
          "execution_count": 125
        }
      ]
    },
    {
      "cell_type": "markdown",
      "metadata": {
        "id": "fxnIMw4inCAk"
      },
      "source": [
        "The best Hyperparameters obtained from the RamdomizedSearchCV:"
      ]
    },
    {
      "cell_type": "code",
      "metadata": {
        "colab": {
          "base_uri": "https://localhost:8080/"
        },
        "id": "HUwTJPo2nJoD",
        "outputId": "df0d56f2-af64-4dd6-e518-15dd3e35f2df"
      },
      "source": [
        "rf_random_search.best_params_"
      ],
      "execution_count": 126,
      "outputs": [
        {
          "output_type": "execute_result",
          "data": {
            "text/plain": [
              "{'max_depth': 20,\n",
              " 'max_features': 'auto',\n",
              " 'min_samples_leaf': 1,\n",
              " 'min_samples_split': 15,\n",
              " 'n_estimators': 700}"
            ]
          },
          "metadata": {},
          "execution_count": 126
        }
      ]
    },
    {
      "cell_type": "code",
      "metadata": {
        "colab": {
          "base_uri": "https://localhost:8080/"
        },
        "id": "iZDFdkyonUPQ",
        "outputId": "8b970f9c-cc4b-419f-c7f7-8dce2e3fe1de"
      },
      "source": [
        "# Best score\n",
        "rf_random_search.best_score_"
      ],
      "execution_count": 127,
      "outputs": [
        {
          "output_type": "execute_result",
          "data": {
            "text/plain": [
              "-3944233.2716998435"
            ]
          },
          "metadata": {},
          "execution_count": 127
        }
      ]
    },
    {
      "cell_type": "code",
      "metadata": {
        "colab": {
          "base_uri": "https://localhost:8080/"
        },
        "id": "DRnVkZ-1nYpN",
        "outputId": "b587c496-6f86-41f5-c8e7-ae7e9cac1b86"
      },
      "source": [
        "rf_random_search.best_estimator_"
      ],
      "execution_count": 128,
      "outputs": [
        {
          "output_type": "execute_result",
          "data": {
            "text/plain": [
              "RandomForestRegressor(bootstrap=True, ccp_alpha=0.0, criterion='mse',\n",
              "                      max_depth=20, max_features='auto', max_leaf_nodes=None,\n",
              "                      max_samples=None, min_impurity_decrease=0.0,\n",
              "                      min_impurity_split=None, min_samples_leaf=1,\n",
              "                      min_samples_split=15, min_weight_fraction_leaf=0.0,\n",
              "                      n_estimators=700, n_jobs=None, oob_score=False,\n",
              "                      random_state=None, verbose=0, warm_start=False)"
            ]
          },
          "metadata": {},
          "execution_count": 128
        }
      ]
    },
    {
      "cell_type": "markdown",
      "metadata": {
        "id": "WZVRGzewnnSO"
      },
      "source": [
        "Prediction from the best estimator with X_test set."
      ]
    },
    {
      "cell_type": "code",
      "metadata": {
        "id": "6Y9yP2wwnfEt"
      },
      "source": [
        "pred = rf_random_search.predict(Xtest)"
      ],
      "execution_count": 129,
      "outputs": []
    },
    {
      "cell_type": "code",
      "metadata": {
        "id": "idW0ahU7l3Hi"
      },
      "source": [
        "best_estimator = rf_random_search.best_estimator_"
      ],
      "execution_count": 130,
      "outputs": []
    },
    {
      "cell_type": "code",
      "metadata": {
        "id": "AofLcHy9l9F0"
      },
      "source": [
        "pred = best_estimator.predict(Xtest)"
      ],
      "execution_count": 131,
      "outputs": []
    },
    {
      "cell_type": "markdown",
      "metadata": {
        "id": "mjqHHEZ_oTF-"
      },
      "source": [
        "Plot the difference between true label y_test and the predictions."
      ]
    },
    {
      "cell_type": "code",
      "metadata": {
        "colab": {
          "base_uri": "https://localhost:8080/",
          "height": 551
        },
        "id": "f6ORI9RWnvsX",
        "outputId": "e997b414-2d76-4cc2-a725-a42f1ab469e4"
      },
      "source": [
        "plt.figure(figsize=(9,9))\n",
        "sns.histplot(ytest - pred, kde=True, stat=\"density\", linewidth=0)\n",
        "plt.show()"
      ],
      "execution_count": 132,
      "outputs": [
        {
          "output_type": "display_data",
          "data": {
            "image/png": "[encoded data removed]",
            "text/plain": [
              "<Figure size 648x648 with 1 Axes>"
            ]
          },
          "metadata": {
            "needs_background": "light"
          }
        }
      ]
    },
    {
      "cell_type": "markdown",
      "metadata": {
        "id": "ZuYh-0jmoczT"
      },
      "source": [
        "The difference is close to 0. The model has done a pretty good job."
      ]
    },
    {
      "cell_type": "code",
      "metadata": {
        "colab": {
          "base_uri": "https://localhost:8080/",
          "height": 605
        },
        "id": "kI2yK_TGqCP7",
        "outputId": "d519b17c-cee0-4852-c259-9f7a927bb657"
      },
      "source": [
        "plt.figure(figsize=(9,9))\n",
        "sns.scatterplot(ytest, pred, s=50)\n",
        "plt.xlabel(\"True Selling Price\")\n",
        "plt.ylabel(\"Predicted Selling Price\")\n",
        "plt.show()"
      ],
      "execution_count": 133,
      "outputs": [
        {
          "output_type": "stream",
          "name": "stderr",
          "text": [
            "/usr/local/lib/python3.7/dist-packages/seaborn/_decorators.py:43: FutureWarning: Pass the following variables as keyword args: x, y. From version 0.12, the only valid positional argument will be `data`, and passing other arguments without an explicit keyword will result in an error or misinterpretation.\n",
            "  FutureWarning\n"
          ]
        },
        {
          "output_type": "display_data",
          "data": {
            "image/png": "[encoded data removed]",
            "text/plain": [
              "<Figure size 648x648 with 1 Axes>"
            ]
          },
          "metadata": {
            "needs_background": "light"
          }
        }
      ]
    },
    {
      "cell_type": "code",
      "metadata": {
        "colab": {
          "base_uri": "https://localhost:8080/"
        },
        "id": "cRwtiE7jpt7j",
        "outputId": "3a5c8f1c-2356-463a-d7e0-743d4e05091c"
      },
      "source": [
        "print('MAE:', metrics.mean_absolute_error(ytest, pred))\n",
        "print('MSE:', metrics.mean_squared_error(ytest, pred))\n",
        "print('RMSE:', np.sqrt(metrics.mean_squared_error(ytest, pred)))"
      ],
      "execution_count": 134,
      "outputs": [
        {
          "output_type": "stream",
          "name": "stdout",
          "text": [
            "MAE: 1144.7519940333113\n",
            "MSE: 3521532.0749099334\n",
            "RMSE: 1876.5745588464993\n"
          ]
        }
      ]
    },
    {
      "cell_type": "code",
      "metadata": {
        "colab": {
          "base_uri": "https://localhost:8080/"
        },
        "id": "nVKzsmwx3q9Q",
        "outputId": "f7598636-9b1c-404f-a656-e97ce5e3494e"
      },
      "source": [
        "metrics.r2_score(ytest, pred)"
      ],
      "execution_count": 135,
      "outputs": [
        {
          "output_type": "execute_result",
          "data": {
            "text/plain": [
              "0.8366792099061623"
            ]
          },
          "metadata": {},
          "execution_count": 135
        }
      ]
    },
    {
      "cell_type": "markdown",
      "metadata": {
        "id": "Su8R65Nj4HOU"
      },
      "source": [
        "# Run on the test of test_df"
      ]
    },
    {
      "cell_type": "markdown",
      "metadata": {
        "id": "2ovfv6tA4WF5"
      },
      "source": [
        "Prediction from the best estimator with Xtest_df set."
      ]
    },
    {
      "cell_type": "code",
      "metadata": {
        "id": "I8BZNrHM1her"
      },
      "source": [
        "test_df = test_df[important_features]"
      ],
      "execution_count": 136,
      "outputs": []
    },
    {
      "cell_type": "code",
      "metadata": {
        "id": "BnYBIOJS1hes"
      },
      "source": [
        "# Rearrange the columns\n",
        "test_df = test_df[['Total_Stops','flight_day', 'flight_month', 'flight_dayofweek',\n",
        "                   'dep_hour', 'dep_min', 'arr_hour', 'arr_min', 'duration_hours',\n",
        "                   'Airline_Jet Airways', 'Airline_Jet Airways Business', 'Airline_Multiple carriers', 'Airline_IndiGo',\n",
        "                   'Airline_Air India', 'Airline_Vistara', 'Airline_SpiceJet', 'Airline_GoAir',\n",
        "                   'Destination_New Delhi', 'Destination_Delhi', 'Destination_Cochin', 'Destination_Hyderabad',\n",
        "                   'Source_Delhi', 'Source_Mumbai', 'Source_Kolkata']]"
      ],
      "execution_count": 137,
      "outputs": []
    },
    {
      "cell_type": "code",
      "metadata": {
        "colab": {
          "base_uri": "https://localhost:8080/",
          "height": 257
        },
        "id": "FerLoaSo4bzh",
        "outputId": "bdda2787-e524-4306-d1e7-4b2d25467990"
      },
      "source": [
        "test_df.head()"
      ],
      "execution_count": 138,
      "outputs": [
        {
          "output_type": "execute_result",
          "data": {
            "text/html": [
              "<div>\n",
              "<style scoped>\n",
              "    .dataframe tbody tr th:only-of-type {\n",
              "        vertical-align: middle;\n",
              "    }\n",
              "\n",
              "    .dataframe tbody tr th {\n",
              "        vertical-align: top;\n",
              "    }\n",
              "\n",
              "    .dataframe thead th {\n",
              "        text-align: right;\n",
              "    }\n",
              "</style>\n",
              "<table border=\"1\" class=\"dataframe\">\n",
              "  <thead>\n",
              "    <tr style=\"text-align: right;\">\n",
              "      <th></th>\n",
              "      <th>Total_Stops</th>\n",
              "      <th>flight_day</th>\n",
              "      <th>flight_month</th>\n",
              "      <th>flight_dayofweek</th>\n",
              "      <th>dep_hour</th>\n",
              "      <th>dep_min</th>\n",
              "      <th>arr_hour</th>\n",
              "      <th>arr_min</th>\n",
              "      <th>duration_hours</th>\n",
              "      <th>Airline_Jet Airways</th>\n",
              "      <th>Airline_Jet Airways Business</th>\n",
              "      <th>Airline_Multiple carriers</th>\n",
              "      <th>Airline_IndiGo</th>\n",
              "      <th>Airline_Air India</th>\n",
              "      <th>Airline_Vistara</th>\n",
              "      <th>Airline_SpiceJet</th>\n",
              "      <th>Airline_GoAir</th>\n",
              "      <th>Destination_New Delhi</th>\n",
              "      <th>Destination_Delhi</th>\n",
              "      <th>Destination_Cochin</th>\n",
              "      <th>Destination_Hyderabad</th>\n",
              "      <th>Source_Delhi</th>\n",
              "      <th>Source_Mumbai</th>\n",
              "      <th>Source_Kolkata</th>\n",
              "    </tr>\n",
              "  </thead>\n",
              "  <tbody>\n",
              "    <tr>\n",
              "      <th>0</th>\n",
              "      <td>1</td>\n",
              "      <td>6</td>\n",
              "      <td>6</td>\n",
              "      <td>3</td>\n",
              "      <td>17</td>\n",
              "      <td>30</td>\n",
              "      <td>4</td>\n",
              "      <td>25</td>\n",
              "      <td>10.916667</td>\n",
              "      <td>1</td>\n",
              "      <td>0</td>\n",
              "      <td>0</td>\n",
              "      <td>0</td>\n",
              "      <td>0</td>\n",
              "      <td>0</td>\n",
              "      <td>0</td>\n",
              "      <td>0</td>\n",
              "      <td>0</td>\n",
              "      <td>0</td>\n",
              "      <td>1</td>\n",
              "      <td>0</td>\n",
              "      <td>1</td>\n",
              "      <td>0</td>\n",
              "      <td>0</td>\n",
              "    </tr>\n",
              "    <tr>\n",
              "      <th>1</th>\n",
              "      <td>1</td>\n",
              "      <td>12</td>\n",
              "      <td>5</td>\n",
              "      <td>6</td>\n",
              "      <td>6</td>\n",
              "      <td>20</td>\n",
              "      <td>10</td>\n",
              "      <td>20</td>\n",
              "      <td>4.000000</td>\n",
              "      <td>0</td>\n",
              "      <td>0</td>\n",
              "      <td>0</td>\n",
              "      <td>1</td>\n",
              "      <td>0</td>\n",
              "      <td>0</td>\n",
              "      <td>0</td>\n",
              "      <td>0</td>\n",
              "      <td>0</td>\n",
              "      <td>0</td>\n",
              "      <td>0</td>\n",
              "      <td>0</td>\n",
              "      <td>0</td>\n",
              "      <td>0</td>\n",
              "      <td>1</td>\n",
              "    </tr>\n",
              "    <tr>\n",
              "      <th>2</th>\n",
              "      <td>1</td>\n",
              "      <td>21</td>\n",
              "      <td>5</td>\n",
              "      <td>1</td>\n",
              "      <td>19</td>\n",
              "      <td>15</td>\n",
              "      <td>19</td>\n",
              "      <td>0</td>\n",
              "      <td>23.750000</td>\n",
              "      <td>1</td>\n",
              "      <td>0</td>\n",
              "      <td>0</td>\n",
              "      <td>0</td>\n",
              "      <td>0</td>\n",
              "      <td>0</td>\n",
              "      <td>0</td>\n",
              "      <td>0</td>\n",
              "      <td>0</td>\n",
              "      <td>0</td>\n",
              "      <td>1</td>\n",
              "      <td>0</td>\n",
              "      <td>1</td>\n",
              "      <td>0</td>\n",
              "      <td>0</td>\n",
              "    </tr>\n",
              "    <tr>\n",
              "      <th>3</th>\n",
              "      <td>1</td>\n",
              "      <td>21</td>\n",
              "      <td>5</td>\n",
              "      <td>1</td>\n",
              "      <td>8</td>\n",
              "      <td>0</td>\n",
              "      <td>21</td>\n",
              "      <td>0</td>\n",
              "      <td>13.000000</td>\n",
              "      <td>0</td>\n",
              "      <td>0</td>\n",
              "      <td>1</td>\n",
              "      <td>0</td>\n",
              "      <td>0</td>\n",
              "      <td>0</td>\n",
              "      <td>0</td>\n",
              "      <td>0</td>\n",
              "      <td>0</td>\n",
              "      <td>0</td>\n",
              "      <td>1</td>\n",
              "      <td>0</td>\n",
              "      <td>1</td>\n",
              "      <td>0</td>\n",
              "      <td>0</td>\n",
              "    </tr>\n",
              "    <tr>\n",
              "      <th>4</th>\n",
              "      <td>0</td>\n",
              "      <td>24</td>\n",
              "      <td>6</td>\n",
              "      <td>0</td>\n",
              "      <td>23</td>\n",
              "      <td>55</td>\n",
              "      <td>2</td>\n",
              "      <td>45</td>\n",
              "      <td>2.833333</td>\n",
              "      <td>0</td>\n",
              "      <td>0</td>\n",
              "      <td>0</td>\n",
              "      <td>0</td>\n",
              "      <td>0</td>\n",
              "      <td>0</td>\n",
              "      <td>0</td>\n",
              "      <td>0</td>\n",
              "      <td>0</td>\n",
              "      <td>1</td>\n",
              "      <td>0</td>\n",
              "      <td>0</td>\n",
              "      <td>0</td>\n",
              "      <td>0</td>\n",
              "      <td>0</td>\n",
              "    </tr>\n",
              "  </tbody>\n",
              "</table>\n",
              "</div>"
            ],
            "text/plain": [
              "   Total_Stops  flight_day  flight_month  flight_dayofweek  dep_hour  dep_min  \\\n",
              "0            1           6             6                 3        17       30   \n",
              "1            1          12             5                 6         6       20   \n",
              "2            1          21             5                 1        19       15   \n",
              "3            1          21             5                 1         8        0   \n",
              "4            0          24             6                 0        23       55   \n",
              "\n",
              "   arr_hour  arr_min  duration_hours  Airline_Jet Airways  \\\n",
              "0         4       25       10.916667                    1   \n",
              "1        10       20        4.000000                    0   \n",
              "2        19        0       23.750000                    1   \n",
              "3        21        0       13.000000                    0   \n",
              "4         2       45        2.833333                    0   \n",
              "\n",
              "   Airline_Jet Airways Business  Airline_Multiple carriers  Airline_IndiGo  \\\n",
              "0                             0                          0               0   \n",
              "1                             0                          0               1   \n",
              "2                             0                          0               0   \n",
              "3                             0                          1               0   \n",
              "4                             0                          0               0   \n",
              "\n",
              "   Airline_Air India  Airline_Vistara  Airline_SpiceJet  Airline_GoAir  \\\n",
              "0                  0                0                 0              0   \n",
              "1                  0                0                 0              0   \n",
              "2                  0                0                 0              0   \n",
              "3                  0                0                 0              0   \n",
              "4                  0                0                 0              0   \n",
              "\n",
              "   Destination_New Delhi  Destination_Delhi  Destination_Cochin  \\\n",
              "0                      0                  0                   1   \n",
              "1                      0                  0                   0   \n",
              "2                      0                  0                   1   \n",
              "3                      0                  0                   1   \n",
              "4                      0                  1                   0   \n",
              "\n",
              "   Destination_Hyderabad  Source_Delhi  Source_Mumbai  Source_Kolkata  \n",
              "0                      0             1              0               0  \n",
              "1                      0             0              0               1  \n",
              "2                      0             1              0               0  \n",
              "3                      0             1              0               0  \n",
              "4                      0             0              0               0  "
            ]
          },
          "metadata": {},
          "execution_count": 138
        }
      ]
    },
    {
      "cell_type": "code",
      "metadata": {
        "colab": {
          "base_uri": "https://localhost:8080/"
        },
        "id": "3vHOysyy4WF6",
        "outputId": "2f97a3f3-71a4-473a-9cf0-abd806b37421"
      },
      "source": [
        "pred_testdf = best_estimator.predict(test_df)\n",
        "pred_testdf"
      ],
      "execution_count": 139,
      "outputs": [
        {
          "output_type": "execute_result",
          "data": {
            "text/plain": [
              "array([11772.47856973,  4394.11192676, 14687.36635469, ...,\n",
              "       15872.56964286, 13677.94580167,  8297.8913157 ])"
            ]
          },
          "metadata": {},
          "execution_count": 139
        }
      ]
    },
    {
      "cell_type": "code",
      "metadata": {
        "colab": {
          "base_uri": "https://localhost:8080/",
          "height": 551
        },
        "id": "bX22uXGd4tO9",
        "outputId": "ea74e094-16b0-437c-ba7d-083b7365607d"
      },
      "source": [
        "plt.figure(figsize=(9,9))\n",
        "sns.histplot(pred_testdf, kde=True, stat=\"density\", linewidth=0)\n",
        "plt.xlabel(\"Predicted price\")\n",
        "plt.show()"
      ],
      "execution_count": 140,
      "outputs": [
        {
          "output_type": "display_data",
          "data": {
            "image/png": "[encoded data removed]",
            "text/plain": [
              "<Figure size 648x648 with 1 Axes>"
            ]
          },
          "metadata": {
            "needs_background": "light"
          }
        }
      ]
    },
    {
      "cell_type": "markdown",
      "metadata": {
        "id": "x9grCaVLqztX"
      },
      "source": [
        "# Save the model"
      ]
    },
    {
      "cell_type": "code",
      "metadata": {
        "id": "wAXGYNa_q1mK"
      },
      "source": [
        "# open a file\n",
        "xfile = open( os.path.join(DATA_PATH, 'RFRegressor_Model_AirFare_Prediction.pkl'), 'wb')\n",
        "\n",
        "# dump to file\n",
        "pickle.dump(best_estimator, xfile)"
      ],
      "execution_count": 141,
      "outputs": []
    },
    {
      "cell_type": "code",
      "metadata": {
        "id": "gS0udk__5cyg"
      },
      "source": [
        "# open a file\n",
        "xfile = open( os.path.join(DATA_PATH, 'RFRegressor_Model_AirFare_Prediction.pkl'), 'rb')\n",
        "forest = pickle.load(xfile)"
      ],
      "execution_count": 142,
      "outputs": []
    },
    {
      "cell_type": "code",
      "metadata": {
        "id": "WNhSfe0S6ZGp"
      },
      "source": [
        "y_prediction = forest.predict(Xtest)"
      ],
      "execution_count": 143,
      "outputs": []
    },
    {
      "cell_type": "code",
      "metadata": {
        "colab": {
          "base_uri": "https://localhost:8080/",
          "height": 551
        },
        "id": "oXbTl9e26oZ-",
        "outputId": "513f9d04-48da-4f2d-e66f-f4c32957a9d9"
      },
      "source": [
        "plt.figure(figsize=(9,9))\n",
        "sns.histplot(ytest - y_prediction, kde=True, stat=\"density\", linewidth=0)\n",
        "plt.show()"
      ],
      "execution_count": 144,
      "outputs": [
        {
          "output_type": "display_data",
          "data": {
            "image/png": "[encoded data removed]",
            "text/plain": [
              "<Figure size 648x648 with 1 Axes>"
            ]
          },
          "metadata": {
            "needs_background": "light"
          }
        }
      ]
    },
    {
      "cell_type": "code",
      "metadata": {
        "colab": {
          "base_uri": "https://localhost:8080/"
        },
        "id": "u1Ri21Bk6uWr",
        "outputId": "03742b12-0de1-46f9-e790-ba77f46f864c"
      },
      "source": [
        "pred_testdf = forest.predict(test_df)\n",
        "pred_testdf"
      ],
      "execution_count": 145,
      "outputs": [
        {
          "output_type": "execute_result",
          "data": {
            "text/plain": [
              "array([11772.47856973,  4394.11192676, 14687.36635469, ...,\n",
              "       15872.56964286, 13677.94580167,  8297.8913157 ])"
            ]
          },
          "metadata": {},
          "execution_count": 145
        }
      ]
    },
    {
      "cell_type": "code",
      "metadata": {
        "colab": {
          "base_uri": "https://localhost:8080/",
          "height": 551
        },
        "id": "oJEWM-9E6zk9",
        "outputId": "4b7f30fc-8d21-4a33-d441-99488125a249"
      },
      "source": [
        "plt.figure(figsize=(9,9))\n",
        "sns.histplot(pred_testdf, kde=True, stat=\"density\", linewidth=0)\n",
        "plt.xlabel(\"Predicted price\")\n",
        "plt.show()"
      ],
      "execution_count": 146,
      "outputs": [
        {
          "output_type": "display_data",
          "data": {
            "image/png": "[encoded data removed]",
            "text/plain": [
              "<Figure size 648x648 with 1 Axes>"
            ]
          },
          "metadata": {
            "needs_background": "light"
          }
        }
      ]
    },
    {
      "cell_type": "code",
      "metadata": {
        "id": "Hklvb7rrpafU"
      },
      "source": [
        "# Display all dependencies and their versions\n",
        "!pip freeze"
      ],
      "execution_count": null,
      "outputs": []
    }
  ]
}